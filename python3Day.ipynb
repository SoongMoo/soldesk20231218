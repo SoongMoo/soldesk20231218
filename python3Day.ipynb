{
 "cells": [
  {
   "cell_type": "code",
   "execution_count": 10,
   "id": "110366b8-d83a-4370-8842-ed4973f2ecda",
   "metadata": {},
   "outputs": [
    {
     "name": "stdout",
     "output_type": "stream",
     "text": [
      "{'name': '이숭무', 'old': 35, 'height': 176.5}\n",
      "이숭무\n",
      "이숭무\n",
      "35\n",
      "35\n",
      "176.5\n",
      "176.5\n",
      "이\n"
     ]
    }
   ],
   "source": [
    "# 기본 자료형 : 리터널 : 자연어 : 문자열 : \"a\", 'a', \"\"\"a\"\"\", '''a''', \"10\", a:변수, \n",
    "#                       자연수 : 정수 , 실수, 지수 : 10, 10.5\n",
    "# 파이썬 자료형 : 리스트 : [] , [1,2,3,4] :정수형 리스트, ['미','숭'] :문자열 리스트\n",
    "#                튜플   : () , (1,2,3,4) :정수형 튜플, ('미','숭') :문자열 튜플\n",
    "#                딕셔너리(사전) : json : 키와 값을 쌍으로 사용하는 것 , map :자바\n",
    "#                 json : {키1 : 값1, 키2:값2,..., 키n:값n}\n",
    "l = [] #  빈 리스트\n",
    "t = () # 빈 튜플\n",
    "dic = {} # 빈 딕셔너리 \n",
    "dic = {\"name\" : \"이숭무\", \"old\" : 35 , \"height\" : 176.5}\n",
    "print(dic)\n",
    "l = ['이숭무',35,176.5]\n",
    "#    0        1    2 \n",
    "print(l[0])        # [index]\n",
    "print(dic['name']) # [키]\n",
    "print(l[1])\n",
    "print(dic['old'])\n",
    "print(l[2])\n",
    "print(dic['height'])\n",
    "dic1 = {1: '이', 0:'숭' , 2 : '무'} # 키가 정수가 될 수 있다.\n",
    "#         0        1         2\n",
    "# 키와 index가 혼재되면 오류가 발생할 수 있으므로 index를 사용하지 않는다.\n",
    "print(dic1[1]) # [키]"
   ]
  },
  {
   "cell_type": "code",
   "execution_count": 15,
   "id": "4e4104db-4e75-49fc-ad0a-bdba2cf2c082",
   "metadata": {},
   "outputs": [
    {
     "name": "stdout",
     "output_type": "stream",
     "text": [
      "이숭무의 나이는 30살이고 키는 175.5입니다\n",
      "이숭무의 나이는 30살이고 키는 173.5입니다\n",
      "{'name': '이숭무', 'old': 35, 'height': 176.5}\n",
      "이숭무의 나이는 35살이고 키는 176.5입니다\n",
      "이숭무의 나이는 30살이고 키는 173.5입니다\n",
      "이숭무의 나이는 30살이고 키는 173.5입니다\n",
      "이숭무의 나이는 30살이고 키는 173.5입니다\n"
     ]
    }
   ],
   "source": [
    "print(\"이숭무의 나이는 30살이고 키는 175.5입니다\")\n",
    "name = '이숭무'\n",
    "old = 30\n",
    "height = 173.5\n",
    "print(f\"{name}의 나이는 {old}살이고 키는 {height}입니다\")\n",
    "\n",
    "dic = {'name': '이숭무', 'old': 35, 'height': 176.5}\n",
    "print(dic)\n",
    "print(f\"{dic['name']}의 나이는 {dic['old']}살이고 키는 {dic['height']}입니다\")\n",
    "\n",
    "l = ['이숭무', 30, 173.5]\n",
    "print(f\"{l[0]}의 나이는 {l[1]}살이고 키는 {l[2]}입니다\")\n",
    "print(\"%s의 나이는 %d살이고 키는 %.1f입니다\" % (l[0], l[1], l[2]))\n",
    "print(\"{0}의 나이는 {1}살이고 키는 {2}입니다\".format(l[0], l[1], l[2]))"
   ]
  },
  {
   "cell_type": "code",
   "execution_count": 25,
   "id": "32dc1c2b-ce05-49f3-a750-2e3a1f2fbd0d",
   "metadata": {},
   "outputs": [
    {
     "name": "stdout",
     "output_type": "stream",
     "text": [
      "30\n",
      "35\n",
      "['이숭무', 40, 173.5]\n",
      "{'name': '이숭무', 'old': 40, 'height': 176.5}\n",
      "{'name': '이숭무', 'old': 40, 'height': 176.5, 'addr': '성남'}\n",
      "{1: '숭'}\n",
      "{1: '숭'}\n"
     ]
    }
   ],
   "source": [
    "l = ['이숭무', 30, 173.5]\n",
    "#       0      1     2\n",
    "print(l[1])\n",
    "dic = {'name': '이숭무', 'old': 35, 'height': 176.5}\n",
    "print(dic['old'])\n",
    "l[1] = 40\n",
    "print(l)\n",
    "dic['old'] = 40 # 키가 있는 경우 수정 # 키의 중복을 허용하지 않으므로 수정이 된다.\n",
    "print(dic)\n",
    "#print(l[3]) # list index out of range\n",
    "#l[3] = '성남' # list assignment index out of range\n",
    "dic['addr'] = '성남' # 키가 없는 경우에는 추가\n",
    "print(dic)\n",
    "# 딕셔너리는 키가 있으면 수정이 되고 키가 없으면 추가가 된다.\n",
    "d1 = {1 : '이', 1 : '숭'}\n",
    "print(d1)\n",
    "# 키의 중복을 허용하지 않는다.\n",
    "d1 = {1 : '이'}\n",
    "d1[1] = '숭'\n",
    "print(d1)\n",
    "# 딕셔너리는 index를 사용하지 않으므로 indexing과 slicing을 할 수 없다.\n",
    "# indexing과 slicing을 할 수 있는 자료형은 문자열, 리스트, 튜플"
   ]
  },
  {
   "cell_type": "code",
   "execution_count": 34,
   "id": "338ea3f6-1ecd-40c9-aa3a-0e5efd31f7cc",
   "metadata": {},
   "outputs": [
    {
     "name": "stdout",
     "output_type": "stream",
     "text": [
      "[1, 3, 4]\n",
      "{'name': '이숭무', 'height': 176.5, 'addr': '성남'}\n",
      "[1, 3]\n",
      "[4]\n",
      "[4]\n",
      "[]\n",
      "{'name': '이숭무', 'height': 176.5, 'addr': '성남'}\n",
      "{}\n"
     ]
    }
   ],
   "source": [
    "# 딕셔너리 함수 \n",
    "dic = {'name': '이숭무', 'old': 40, 'height': 176.5, 'addr': '성남'}\n",
    "l = [1,2,3,4]\n",
    "# 요소 삭제\n",
    "del l[1]\n",
    "print(l)\n",
    "del dic['old']\n",
    "print(dic)\n",
    "print(l[0:2])\n",
    "del l[0:2] # slicing을 이용해서 삭제할 수 있다.\n",
    "#### 모두 삭제하기\n",
    "print(l)\n",
    "print(l[:])\n",
    "del l[:]\n",
    "print(l)\n",
    "l.clear()\n",
    "print(dic)\n",
    "dic.clear()\n",
    "print(dic)"
   ]
  },
  {
   "cell_type": "code",
   "execution_count": 43,
   "id": "c682d87f-3e63-4269-97ae-e154b4a1e254",
   "metadata": {},
   "outputs": [
    {
     "name": "stdout",
     "output_type": "stream",
     "text": [
      "dict_keys(['name', 'old', 'height', 'addr'])\n",
      "dict_values(['이숭무', 40, 176.5, '성남'])\n",
      "dict_items([('name', '이숭무'), ('old', 40), ('height', 176.5), ('addr', '성남')])\n",
      "['name', 'old', 'height', 'addr']\n",
      "['이숭무', 40, 176.5, '성남']\n",
      "[('name', '이숭무'), ('old', 40), ('height', 176.5), ('addr', '성남')]\n",
      "('name', '이숭무')\n",
      "이숭무\n"
     ]
    }
   ],
   "source": [
    "# 딕셔너리에 있는 키를 가져오기\n",
    "dic = {'name': '이숭무', 'old': 40, 'height': 176.5, 'addr': '성남'}\n",
    "print(dic.keys())\n",
    "# 딕셔너리에 있는 값을 가져오기\n",
    "print(dic.values())\n",
    "# 키와 값을 쌍으로 묶어서 가져오기\n",
    "print(dic.items())\n",
    "lkeys =  list(dic.keys())\n",
    "print(lkeys)\n",
    "lvalues = list(dic.values())\n",
    "print(lvalues)\n",
    "litems = list(dic.items())\n",
    "print(litems) # [('name', '이숭무'), ('old', 40), ('height', 176.5), ('addr', '성남')]\n",
    "print(litems[0])\n",
    "print(litems[0][1])"
   ]
  },
  {
   "cell_type": "code",
   "execution_count": 57,
   "id": "6bf3c108-bf18-4941-be13-cab0f65b09fb",
   "metadata": {},
   "outputs": [
    {
     "name": "stdout",
     "output_type": "stream",
     "text": [
      "이숭무\n",
      "이숭무\n",
      "None\n",
      "서울\n",
      "500\n",
      "500\n",
      "1000\n",
      "1400\n",
      "1000\n",
      "1000\n",
      "1400\n"
     ]
    }
   ],
   "source": [
    "# get()함수 사용하기\n",
    "dic = {'name': '이숭무', 'old': 40, 'height': 176.5}\n",
    "print(dic['name'])\n",
    "print(dic.get('name'))\n",
    "#print(dic['addr']) # KeyError: 'addr'\n",
    "print(dic.get('addr')) # None\n",
    "print(dic.get('addr' , '서울')) # 키가 없는 경우 초기값을 지정해 줄 수 있다.\n",
    "\n",
    "### get()함수 응용\n",
    "d1 = {'classic':500, 'pop' : 700 , 'jazz' : 900}\n",
    "d2 = {'classic':500, 'pop' : 700 }\n",
    "print(d1['classic']) # 정수\n",
    "print(d2['classic']) # 정수\n",
    "print(d1['classic'] + d2['classic']) # 정수 + 정수\n",
    "print(d1['pop'] + d2['pop']) \n",
    "# print(d1['jazz'] + d2['jazz']) # 키가 없는 경우 오류가 발생\n",
    "print(d1.get('jazz' , 100) + d2.get('jazz', 100))\n",
    "print(d1.get('classic' , 100) + d2.get('classic', 100))\n",
    "print(d1.get('pop' , 100) + d2.get('pop', 100))"
   ]
  },
  {
   "cell_type": "code",
   "execution_count": 64,
   "id": "d5fc922c-d45b-4025-bbb0-d3b0f9d8cc10",
   "metadata": {},
   "outputs": [
    {
     "name": "stdout",
     "output_type": "stream",
     "text": [
      "{1, 2, 3, 4, 5}\n",
      "{1, 2, 3, 4, 5, 6, 7, 8}\n",
      "{1, 2, 3, 4, 5, 6, 7, 8}\n",
      "{4, 5}\n",
      "{4, 5}\n",
      "{1, 2, 3}\n",
      "{1, 2, 3}\n",
      "{8, 6, 7}\n",
      "{8, 6, 7}\n"
     ]
    }
   ],
   "source": [
    "# 파이썬 자료형 : 리스트, 튜플, 딕셔너리, 집합\n",
    "#  빈집합은 없다.\n",
    "ss = {} # 빈 딕셔너리\n",
    "ss = {1,2,3,4,5} # {}에 값만 존재하면 집합자료형이다.\n",
    "print(ss)\n",
    "# 집합자료형에는 합집합(union)연산과 교집합(intersect) 연산 그리고 차집합(difference)연산을 한다.  \n",
    "s1 = {1,2,3,4,5}  \n",
    "s2 = {4,5,6,7,8}\n",
    "# 합집합 ( union)\n",
    "print(s1.union(s2))\n",
    "print(s1 | s2)\n",
    "# 교집합 (intersection)\n",
    "print(s1.intersection(s2))\n",
    "print(s1 & s2)\n",
    "# 차집합\n",
    "print(s1 - s2) # 교집합을 제거\n",
    "print(s1.difference(s2))\n",
    "print(s2-s1)\n",
    "print(s2.difference(s1))"
   ]
  },
  {
   "cell_type": "code",
   "execution_count": 78,
   "id": "0871b054-2315-40da-b0af-fd11e7695bf7",
   "metadata": {},
   "outputs": [
    {
     "name": "stdout",
     "output_type": "stream",
     "text": [
      "{1, 2, 3, 4, 5}\n",
      "[1, 2, 3, 4, 5]\n",
      "(1, 2, 3, 4, 5)\n",
      "{1, 2, 3, 4, 5}a\n",
      "{'숭', '무', '이'}\n",
      "숭무이\n",
      "{1, 2, 3, 4, 5}\n",
      "{1, 2, 3, 4, 5}\n",
      "hello\n",
      "{'l', 'h', 'e', 'o'}\n"
     ]
    }
   ],
   "source": [
    "ss = {1,1,2,2,3,3,4,4,5,5} # 집합자료형은 중복 데이터를 허용하지 않는다.\n",
    "print(ss)\n",
    "l = list(ss) # 집합자료형을 리스트\n",
    "print(l)\n",
    "t = tuple(ss) \n",
    "print(t)\n",
    "str1 = str(ss)\n",
    "print(str1 + \"a\")\n",
    "ss = {'이', '숭', '무'} # 집합자료형은 순서가 없다.\n",
    "print(ss)\n",
    "print(\"\".join(ss))\n",
    "l = [1,2,3,4,5]\n",
    "s2 = set(l)\n",
    "print(s2)\n",
    "t  = (1,2,3,4,5)\n",
    "s3 = set(t)\n",
    "print(s3)\n",
    "# 형변환 함수 : int, str, list, tuple, set, float\n",
    "str1 = \"hello\"\n",
    "print(str1)\n",
    "s4 = set(str1)\n",
    "print(s4) # {'l', 'h', 'e', 'o'} # 순서가 없다. 중복을 허용하지 않는다."
   ]
  },
  {
   "cell_type": "code",
   "execution_count": 85,
   "id": "9d8a4d9d-790a-4402-8f7c-d17891115205",
   "metadata": {},
   "outputs": [
    {
     "name": "stdout",
     "output_type": "stream",
     "text": [
      "{1, 2, 3, 4}\n",
      "{1, 2, 3, 4, 7}\n",
      "{1, 2, 3, 4, 7, 'a'}\n",
      "{1, 2, 3, 4, 7, 8, 9, 10, 'a'}\n",
      "{1, 2, 3, 4, 7, 8, 9, 10, 11, 'a', 12, 13}\n",
      "{1, 2, 3, 4, 7, 8, 9, 10, 11, 12, 13}\n"
     ]
    }
   ],
   "source": [
    "# 하나의 요소 추가\n",
    "# add\n",
    "s1 = {1,2,3,4}\n",
    "s1.add(4)\n",
    "print(s1)\n",
    "s1.add(7)\n",
    "print(s1)\n",
    "s1.add('a')\n",
    "print(s1)\n",
    "# 여러개의 데이터를 한번에 추가\n",
    "# update\n",
    "s1.update((8,9,10))\n",
    "print(s1)\n",
    "s1.update([11,12,13])\n",
    "print(s1)\n",
    "# 삭제\n",
    "s1.remove('a')\n",
    "print(s1)"
   ]
  },
  {
   "cell_type": "code",
   "execution_count": 94,
   "id": "1da7d9d9-6ef5-425d-9fc6-1dccb96cf502",
   "metadata": {},
   "outputs": [
    {
     "name": "stdout",
     "output_type": "stream",
     "text": [
      "<class 'int'>\n",
      "<class 'float'>\n",
      "<class 'list'>\n",
      "<class 'tuple'>\n",
      "<class 'dict'>\n",
      "<class 'set'>\n",
      "<class 'bool'>\n",
      "<class 'bool'>\n"
     ]
    }
   ],
   "source": [
    "# 기본자료 : 정수, 실수, 문자열, 부울 : True/False\n",
    "# 파이썬자료형 : 리스트, 튜플, 딕셔너리, 집합\n",
    "i = 10\n",
    "f = 10.5\n",
    "str1 = \"이숭무\"\n",
    "l = [1,2,3,4,5]\n",
    "t = (1,2,3,4,5)\n",
    "dic = {1:'이', 2: '숭'}\n",
    "s1 = {1,2,3,4}\n",
    "b1 = True\n",
    "b2 = False\n",
    "b3 = \"true\"\n",
    "#b3 = true #  name 'true' is not defined\n",
    "# 데이터의 자료형을 알고 싶을 때 : type()함수\n",
    "print(type(i)) # <class 'int'> : 정수\n",
    "print(type(f)) # <class 'float'> :실수\n",
    "print(type(l)) # <class 'list'> :리스트\n",
    "print(type(t)) # <class 'tuple'> :튜플\n",
    "print(type(dic)) # <class 'dict'> : 딕셔너리\n",
    "print(type(s1)) # <class 'set'> : 집합\n",
    "print(type(b1)) # <class 'bool'> : 부울\n",
    "print(type(b2)) # <class 'bool'> : 부울"
   ]
  },
  {
   "cell_type": "code",
   "execution_count": 107,
   "id": "58063cc4-2ee6-4884-8ce9-9a740a32129c",
   "metadata": {},
   "outputs": [
    {
     "name": "stdout",
     "output_type": "stream",
     "text": [
      "True\n",
      "True\n",
      "True\n",
      "True\n",
      "합격\n",
      "False\n",
      "평년\n"
     ]
    }
   ],
   "source": [
    "# 부울 타입을 사용하는 때 : and, or\n",
    "# 논리연산\n",
    "result = True and True\n",
    "print(result)\n",
    "result = True or False\n",
    "print(result)\n",
    "# 결과값이 부울 타입인 경우에 사용 : 비교(관계)연산\n",
    "i = 10\n",
    "j = 20\n",
    "result = i < 20 # 비교연산의 결과는 부울타입이다.\n",
    "print(result)\n",
    "# 논리연산을 하기위해서 비교연산과 같이 상용한다.\n",
    "# 모든 과목이 40점이상이고 평균이 60이면 True 아니면 False\n",
    "eng  = 40\n",
    "kor = 80\n",
    "result = eng >= 40 and kor >= 40 and (eng + kor) / 2 >= 60\n",
    "print(result)\n",
    "if eng >= 40 and kor >= 40 and (eng + kor) / 2 >= 60:\n",
    "    print(\"합격\")\n",
    "else:\n",
    "    print(\"불합격\")\n",
    "# 윤년과 평년을 구하시오, \n",
    "# 4년마다 윤년이고 100 년마다는 평년이며 400년마다 윤년이다.\n",
    "#year = 2000은 평년일까? 윤년일까? True이면 윤년\n",
    "year = 2200\n",
    "result = year % 4 == 0 and year % 100 != 0 or year % 400 == 0\n",
    "print(result) # True\n",
    "if year % 4 == 0 and year % 100 != 0 or year % 400 == 0:\n",
    "    print(\"윤년\")\n",
    "else:\n",
    "    print(\"평년\")"
   ]
  },
  {
   "cell_type": "code",
   "execution_count": 125,
   "id": "9eb1d720-41d3-468d-b6ce-81099224a814",
   "metadata": {},
   "outputs": [
    {
     "name": "stdout",
     "output_type": "stream",
     "text": [
      "<class 'str'>\n",
      "<class 'int'>\n",
      "10\n",
      "True\n",
      "True\n",
      "False\n",
      "True\n",
      "True\n",
      "False\n",
      "False\n",
      "True\n",
      "False\n",
      "True\n",
      "False\n",
      "True\n",
      "True\n",
      "False\n"
     ]
    }
   ],
   "source": [
    "# 변환한수 : int, str, list,tuple, set, bool:참/거짓\n",
    "i = 10\n",
    "print(type(str(i))) # <class 'str'>\n",
    "print(type(i)) # <class 'int'>\n",
    "print(str(i)) # \"10\"\n",
    "print(bool(i)) # True\n",
    "print(bool(\"이숭무\")) # True : blank(\"\")가 아닌 모든 문자열은 True이다.\n",
    "print(bool(\"\")) # False\n",
    "print(bool(1)) # 0을 제외한 음수이거나 양수 모두  True이다\n",
    "print(bool(-1)) \n",
    "print(bool(0)) # False\n",
    "print(bool([])) # False\n",
    "print(bool([1,2,3]))\n",
    "print(bool(()))  # False\n",
    "print(bool((1,2,3,4))) \n",
    "print(bool({})) # False\n",
    "print(bool({1:'이'}))\n",
    "print(bool({1,2,3,4}))\n",
    "print(bool(None)) # False"
   ]
  },
  {
   "cell_type": "code",
   "execution_count": 127,
   "id": "08a912a4-cb2a-4f90-b463-163ed0a89204",
   "metadata": {},
   "outputs": [
    {
     "name": "stdout",
     "output_type": "stream",
     "text": [
      "20 100\n",
      "100 20\n"
     ]
    }
   ],
   "source": [
    "# 값 서로 교환하기\n",
    "i = 100\n",
    "j = 20\n",
    "# i가 가진값을 j 에게 주고 j가 가진 값을 i에게 저장\n",
    "temp = i\n",
    "i = j\n",
    "j = temp\n",
    "print(i, j)\n",
    "#### 파이썬으로는\n",
    "i, j = j, i\n",
    "print(i, j)"
   ]
  },
  {
   "cell_type": "code",
   "execution_count": 138,
   "id": "f91fe558-acb0-46a6-9dbc-c14f1dc6be34",
   "metadata": {},
   "outputs": [
    {
     "name": "stdout",
     "output_type": "stream",
     "text": [
      "10 20\n",
      "(1, 2, 3, 4)\n",
      "10 20\n",
      "10 20\n",
      "10 20\n",
      "10 20\n",
      "10 20\n",
      "10 20\n",
      "10 20 30\n"
     ]
    },
    {
     "ename": "ValueError",
     "evalue": "too many values to unpack (expected 2)",
     "output_type": "error",
     "traceback": [
      "\u001b[1;31m---------------------------------------------------------------------------\u001b[0m",
      "\u001b[1;31mValueError\u001b[0m                                Traceback (most recent call last)",
      "Cell \u001b[1;32mIn[138], line 23\u001b[0m\n\u001b[0;32m     18\u001b[0m \u001b[38;5;28mprint\u001b[39m(x,y,z)\n\u001b[0;32m     19\u001b[0m \u001b[38;5;124;03m'''\u001b[39;00m\n\u001b[0;32m     20\u001b[0m \u001b[38;5;124;03mx, y, z = 10,20\u001b[39;00m\n\u001b[0;32m     21\u001b[0m \u001b[38;5;124;03mprint(x,y,z)\u001b[39;00m\n\u001b[0;32m     22\u001b[0m \u001b[38;5;124;03m'''\u001b[39;00m\n\u001b[1;32m---> 23\u001b[0m x, y \u001b[38;5;241m=\u001b[39m \u001b[38;5;241m10\u001b[39m,\u001b[38;5;241m20\u001b[39m,\u001b[38;5;241m30\u001b[39m\n\u001b[0;32m     24\u001b[0m \u001b[38;5;28mprint\u001b[39m(x,y,z)\n",
      "\u001b[1;31mValueError\u001b[0m: too many values to unpack (expected 2)"
     ]
    }
   ],
   "source": [
    "x , y = 10, 20\n",
    "print(x, y)\n",
    "t = 1,2,3,4\n",
    "print(t)\n",
    "x , y = (10, 20)\n",
    "print(x, y)\n",
    "(x , y) = (10, 20)\n",
    "print(x, y)\n",
    "(x , y) = 10, 20\n",
    "print(x, y)\n",
    "[x , y] = 10, 20\n",
    "print(x, y)\n",
    "[x , y] = (10, 20)\n",
    "print(x, y)\n",
    "[x , y] = [10, 20]\n",
    "print(x, y)\n",
    "x, y, z = 10,20,30\n",
    "print(x,y,z)\n",
    "'''\n",
    "x, y, z = 10,20\n",
    "print(x,y,z)\n",
    "\n",
    "x, y = 10,20,30\n",
    "print(x,y,z)\n",
    "'''"
   ]
  },
  {
   "cell_type": "code",
   "execution_count": 153,
   "id": "289511b0-ae4e-472d-8e8c-a43a54773dc3",
   "metadata": {},
   "outputs": [
    {
     "name": "stdout",
     "output_type": "stream",
     "text": [
      "True\n",
      "False\n",
      "True\n",
      "True\n",
      "False\n",
      "True\n",
      "True\n",
      "True\n",
      "False\n",
      "True\n",
      "False\n",
      "True\n",
      "False\n",
      "True\n"
     ]
    }
   ],
   "source": [
    "# in연산자 : 포함되어 있을 때\n",
    "print( 1 in [1,2,3,4])\n",
    "print( 7 in [1,2,3,4])\n",
    "l = [1,2,3,4]\n",
    "print( 1 in l )\n",
    "print( 7 not in l )\n",
    "print( 1 not in l )\n",
    "print( 'y' in 'python')\n",
    "str1 = \"hello\"\n",
    "print( \"he\" in str1)\n",
    "print( \"이숭무\" not in str1)\n",
    "print( \"he\" not in str1)\n",
    "print( 1 in (1,2,3,4,5))\n",
    "print( 1 not in (1,2,3,4,5))\n",
    "dic = {1: '이' , 2:'숭' , 3 :'무'}\n",
    "print( 1 in dic) # 키가 있는 확인\n",
    "print( 4 in dic) # False\n",
    "print( 4 not in dic)"
   ]
  },
  {
   "cell_type": "code",
   "execution_count": 155,
   "id": "6097f62f-62eb-4edf-a327-0e02b22d666f",
   "metadata": {},
   "outputs": [
    {
     "name": "stdout",
     "output_type": "stream",
     "text": [
      "리스트에 1이 포함되어 있다.\n",
      "리스트에 1이 포함되어 있다\n"
     ]
    }
   ],
   "source": [
    "if 1 in [1,2,3,4]:\n",
    "    print(\"리스트에 1이 포함되어 있다.\")\n",
    "else:\n",
    "    print(\"리스트에 1이 포함되어 있지 않다\")\n",
    "l = [1,2,3,4]\n",
    "if 1 not in l:\n",
    "    print(\"리스트에 1이 포함되어 있지 않다\")\n",
    "else:\n",
    "    print(\"리스트에 1이 포함되어 있다\")"
   ]
  },
  {
   "cell_type": "code",
   "execution_count": 164,
   "id": "6ce1937c-e5db-4a0c-9f9c-2e85065fba58",
   "metadata": {},
   "outputs": [
    {
     "name": "stdout",
     "output_type": "stream",
     "text": [
      "i는 작다\n",
      "i는 작다\n",
      "i가 작다\n",
      "참일때 실행\n",
      "i가 큽니다\n"
     ]
    }
   ],
   "source": [
    "i = 10\n",
    "if i > 20:\n",
    "    print(\"i가 큽니다\")\n",
    "else:\n",
    "    print(\"i는 작다\")    \n",
    "\n",
    "if i < 20:\n",
    "    print(\"i는 작다\")    \n",
    "# 파이썬에서는 명령문을 작성 할 때는  들여쓰기를 해야 한다.\n",
    "# 들여 쓰기는 공백문자를 이용하거나 TAB키를 이용할 수 있다.\n",
    "# 하지만 두개를 혼용해서 사용할 수 없다. 하나만 선택해서 사용한다.\n",
    "if i < 20:\n",
    "    print(\"i가 작다\")\n",
    "    print(\"참일때 실행\")\n",
    "if i > 20:\n",
    "    pass\n",
    "print(\"i가 큽니다\")"
   ]
  },
  {
   "cell_type": "code",
   "execution_count": 165,
   "id": "57e13f2b-1b63-48d1-8359-0f67fcf9bb16",
   "metadata": {},
   "outputs": [
    {
     "name": "stdout",
     "output_type": "stream",
     "text": [
      "C\n"
     ]
    }
   ],
   "source": [
    "# 학점(score)이 90이상이면 A, 80이상이면 B, 70이상이면 C, 60이상이면 D, 그렇지 않으면 F\n",
    "score = 78\n",
    "if score >= 90:\n",
    "    print(\"A\")\n",
    "else: # 89 이하\n",
    "    if score >= 80:\n",
    "        print(\"B\")\n",
    "    else: # 79이하\n",
    "        if score >= 70:\n",
    "            print(\"C\")\n",
    "        else:\n",
    "            if score >= 60:\n",
    "                print(\"D\")\n",
    "            else:\n",
    "                print(\"F\")        "
   ]
  },
  {
   "cell_type": "code",
   "execution_count": 166,
   "id": "18ba0178-9618-4c3b-b374-485d27e0849f",
   "metadata": {},
   "outputs": [
    {
     "name": "stdout",
     "output_type": "stream",
     "text": [
      "C\n"
     ]
    }
   ],
   "source": [
    "score = 78\n",
    "if score >= 90:\n",
    "    print(\"A\")\n",
    "elif score >= 80:\n",
    "    print(\"B\")\n",
    "elif score >= 70:\n",
    "    print(\"C\")\n",
    "elif score >= 60:\n",
    "    print(\"D\")\n",
    "else:\n",
    "    print(\"F\")     "
   ]
  },
  {
   "cell_type": "code",
   "execution_count": null,
   "id": "9ffa52c8-403f-41d4-bfe4-3bfaa5bcddbe",
   "metadata": {},
   "outputs": [],
   "source": [
    "# 95점 이상은 A+, 90이상은 A\n",
    "# 85점 이상은 B+, 80이상은 B\n",
    "# 75점 이상은 C+, 90이상은 C\n",
    "# 65점 이상은 D+, 60이상은 D\n",
    "score = 78\n",
    "if score >= 90:\n",
    "    if score >= 95:\n",
    "        print(\"A+\")\n",
    "    else:\n",
    "        print(\"A\")\n",
    "elif score >= 80:\n",
    "    if score >= 85:\n",
    "        print(\"B+\")\n",
    "    else:\n",
    "        print(\"B\")\n",
    "elif score >= 70:\n",
    "    if score >= 75:\n",
    "        print(\"C+\")\n",
    "    else:\n",
    "        print(\"C\")\n",
    "elif score >= 60:\n",
    "    if score >= 65:\n",
    "        print(\"D+\")\n",
    "    else:\n",
    "        print(\"D\")\n",
    "else:\n",
    "    print(\"F\")"
   ]
  },
  {
   "cell_type": "code",
   "execution_count": 168,
   "id": "8ec2a1ac-637a-475b-b302-96911e7aa4a8",
   "metadata": {},
   "outputs": [
    {
     "name": "stdout",
     "output_type": "stream",
     "text": [
      "success\n",
      "success\n"
     ]
    }
   ],
   "source": [
    "# score가 60 이상이면 message에 success를 저장하고  아니면 failure를 저장하자.\n",
    "score = 78\n",
    "if score >= 60:\n",
    "    message = \"success\"\n",
    "else:\n",
    "    message = \"failure\"\n",
    "print(message)\n",
    "# 파이썬 타입으로 변경\n",
    "message = \"success\" if score >= 60 else \"failure\"\n",
    "print(message)"
   ]
  },
  {
   "cell_type": "code",
   "execution_count": 170,
   "id": "1e0f0642-5b34-4467-9526-dcc5816daa63",
   "metadata": {},
   "outputs": [
    {
     "name": "stdout",
     "output_type": "stream",
     "text": [
      "C\n",
      "C\n"
     ]
    }
   ],
   "source": [
    "score = 78\n",
    "if score >= 90:\n",
    "    message = \"A\"\n",
    "else: \n",
    "    if score >= 80:\n",
    "        message = \"B\"\n",
    "    else: \n",
    "        if score >= 70:\n",
    "            message = \"C\"\n",
    "        else:\n",
    "            if score >= 60:\n",
    "                message = \"D\"\n",
    "            else:\n",
    "                message =  \"F\"       \n",
    "print(message)\n",
    "message = \"A\" if score >= 90 else(\n",
    "          \"B\" if score >= 80 else(\n",
    "          \"C\" if score >= 70 else(    \n",
    "          \"D\" if score >= 60 else\n",
    "          \"F\"\n",
    "          )))\n",
    "print(message)"
   ]
  },
  {
   "cell_type": "code",
   "execution_count": 171,
   "id": "34c8e311-bb3f-4aba-81c2-2ba13024444e",
   "metadata": {},
   "outputs": [
    {
     "name": "stdout",
     "output_type": "stream",
     "text": [
      "30\n"
     ]
    }
   ],
   "source": [
    "a = 10 ; b = 20 ; opt = \"add\"\n",
    "if opt == \"add\":\n",
    "    message = a + b\n",
    "elif opt == \"sub\":\n",
    "    message = a -b\n",
    "elif opt == \"mul\":\n",
    "    message = a * B\n",
    "else:\n",
    "    message = a / b\n",
    "print(message)\n",
    "# 파이썬 타입\n",
    "message = a + b if opt == \"add\" else(\n",
    "          a - b if opt == \"sub\" else( \n",
    "          a * B if opt == \"mul\" else(          \n",
    "          a / b\n",
    "          )))"
   ]
  },
  {
   "cell_type": "code",
   "execution_count": null,
   "id": "b653fca1-de7f-4395-b751-9c57b3fe1b7b",
   "metadata": {},
   "outputs": [],
   "source": [
    "# 반복문  :반복적으로 사용해야하는 명령어\n",
    "print(\"나무를 1번 찍었습니다.\")\n",
    "print(\"나무를 2번 찍었습니다.\")\n",
    "print(\"나무를 3번 찍었습니다.\")\n",
    "print(\"나무를 4번 찍었습니다.\")\n",
    "print(\"나무를 5번 찍었습니다.\")\n",
    "print(\"나무를 6번 찍었습니다.\")\n",
    "print(\"나무를 7번 찍었습니다.\")\n",
    "print(\"나무를 8번 찍었습니다.\")\n",
    "print(\"나무를 9번 찍었습니다.\")\n",
    "print(\"나무를 10번 찍었습니다.\")"
   ]
  },
  {
   "cell_type": "code",
   "execution_count": 174,
   "id": "d5eaf331-cb63-42c3-9680-ac905a5835f3",
   "metadata": {},
   "outputs": [
    {
     "name": "stdout",
     "output_type": "stream",
     "text": [
      "나무를 1번 찍었습니다.\n",
      "나무를 2번 찍었습니다.\n",
      "나무를 3번 찍었습니다.\n",
      "나무를 4번 찍었습니다.\n",
      "나무를 5번 찍었습니다.\n",
      "나무를 6번 찍었습니다.\n",
      "나무를 7번 찍었습니다.\n",
      "나무를 8번 찍었습니다.\n",
      "나무를 9번 찍었습니다.\n",
      "나무를 10번 찍었습니다.\n"
     ]
    }
   ],
   "source": [
    "i = 1\n",
    "while i <= 10:\n",
    "    #print(f\"나무를 {i}번 찍었습니다.\")\n",
    "    #print(\"나무를 %d번 찍었습니다.\" % i)\n",
    "    print(\"나무를 {}번 찍었습니다.\".format(i))\n",
    "    i += 1 # 대입 연산자"
   ]
  },
  {
   "cell_type": "code",
   "execution_count": 177,
   "id": "0c71d92f-1825-4430-a827-c0ebe5002883",
   "metadata": {},
   "outputs": [
    {
     "name": "stdout",
     "output_type": "stream",
     "text": [
      " 8 * 1 = 8\n",
      " 8 * 2 = 16\n",
      " 8 * 9 = 72\n",
      " 8 * 1 = 8\n",
      " 8 * 2 = 16\n",
      " 8 * 3 = 24\n",
      " 8 * 4 = 32\n",
      " 8 * 5 = 40\n",
      " 8 * 6 = 48\n",
      " 8 * 7 = 56\n",
      " 8 * 8 = 64\n",
      " 8 * 9 = 72\n"
     ]
    }
   ],
   "source": [
    "# 8단\n",
    "print(f\" 8 * 1 = {8 * 1}\")\n",
    "print(f\" 8 * 2 = {8 * 2}\")\n",
    "#...\n",
    "print(f\" 8 * 9 = {8 * 9}\")\n",
    "gop = 1\n",
    "while gop <= 9:\n",
    "    print(f\" 8 * {gop} = {8 * gop}\")\n",
    "    gop += 1"
   ]
  },
  {
   "cell_type": "code",
   "execution_count": 179,
   "id": "df38849f-c01e-4e7e-a162-1dc03b982566",
   "metadata": {},
   "outputs": [
    {
     "name": "stdin",
     "output_type": "stream",
     "text": [
      "시작곱을 숫자를 입력해 주세요. :  2\n",
      "마지막곱을 숫자를 입력해 주세요. :  7\n"
     ]
    },
    {
     "name": "stdout",
     "output_type": "stream",
     "text": [
      " 8 * 2 = 16\n",
      " 8 * 3 = 24\n",
      " 8 * 4 = 32\n",
      " 8 * 5 = 40\n",
      " 8 * 6 = 48\n",
      " 8 * 7 = 56\n"
     ]
    }
   ],
   "source": [
    "start =  int(input(\"시작곱을 숫자를 입력해 주세요. : \"))\n",
    "end = int(input(\"마지막곱을 숫자를 입력해 주세요. : \"))\n",
    "gop = start\n",
    "while gop <= end:\n",
    "    print(f\" 8 * {gop} = {8 * gop}\")\n",
    "    gop += 1"
   ]
  },
  {
   "cell_type": "code",
   "execution_count": 181,
   "id": "2709579e-806e-4167-be91-e29080cd9d77",
   "metadata": {},
   "outputs": [
    {
     "name": "stdin",
     "output_type": "stream",
     "text": [
      "시작곱의 숫자를 입력해 주세요. :  2\n",
      "마지막곱의 숫자를 입력해 주세요. :  5\n",
      "원하는 단의 숫자를 입력해 주세요. :  5\n"
     ]
    },
    {
     "name": "stdout",
     "output_type": "stream",
     "text": [
      " 5 * 2 = 10\n",
      " 5 * 3 = 15\n",
      " 5 * 4 = 20\n",
      " 5 * 5 = 25\n"
     ]
    }
   ],
   "source": [
    "start =  int(input(\"시작곱의 숫자를 입력해 주세요. : \"))\n",
    "end = int(input(\"마지막곱의 숫자를 입력해 주세요. : \"))\n",
    "dan = int(input(\"원하는 단의 숫자를 입력해 주세요. : \"))\n",
    "gop = start\n",
    "while gop <= end:\n",
    "    print(f\" {dan} * {gop} = {dan * gop}\")\n",
    "    gop += 1"
   ]
  },
  {
   "cell_type": "code",
   "execution_count": 206,
   "id": "6e9d14bb-c083-4646-b20c-274f378bdbe2",
   "metadata": {},
   "outputs": [
    {
     "name": "stdout",
     "output_type": "stream",
     "text": [
      "20, 7, 22, 35, 45, 26, "
     ]
    }
   ],
   "source": [
    "import random\n",
    "# 로또\n",
    "lotto = []\n",
    "i = 1\n",
    "while i <= 45:\n",
    "    lotto.append(i)\n",
    "    i += 1 \n",
    "size = len(lotto) # 45\n",
    "cnt = 1\n",
    "while cnt <= 6:\n",
    "    size -= 1\n",
    "    idx = random.randint(0, size) \n",
    "    result = lotto.pop(idx) # 0 ~ 44\n",
    "    print(result, end =\", \" )\n",
    "    cnt += 1"
   ]
  },
  {
   "cell_type": "code",
   "execution_count": null,
   "id": "1ea81095-8d0a-4e14-a247-afdb76b6ce12",
   "metadata": {},
   "outputs": [],
   "source": [
    "#3단\n",
    "i = 1\n",
    "while i <= 9:\n",
    "    print(f\"3 * {i} = {3 * i}\")\n",
    "    i += 1\n",
    "# 4단\n",
    "i = 1\n",
    "while i <= 9:\n",
    "    print(f\"4 * {i} = {4 * i}\")\n",
    "    i += 1\n",
    "# 5단\n",
    "i = 1\n",
    "while i <= 9:\n",
    "    print(f\"5 * {i} = {5 * i}\")\n",
    "    i += 1"
   ]
  },
  {
   "cell_type": "code",
   "execution_count": null,
   "id": "bc2c6f52-83c1-4d99-b689-b3b540e33059",
   "metadata": {},
   "outputs": [],
   "source": [
    "dan = 3\n",
    "while dan <= 5:\n",
    "    gop = 1\n",
    "    while gop <= 9:\n",
    "        print(f\"{dan} * {gop} = {dan * gop}\")\n",
    "        gop += 1\n",
    "    dan += 1"
   ]
  },
  {
   "cell_type": "code",
   "execution_count": 212,
   "id": "e6ef7f94-ba92-4279-803e-463b54882bce",
   "metadata": {},
   "outputs": [
    {
     "name": "stdin",
     "output_type": "stream",
     "text": [
      "시작단을 숫자로 입력해 주세요. :  2\n",
      "마지막단을 숫자로 입력해 주세요. :  5\n",
      "시작곱을 숫자로 입력해 주세요. :  3\n",
      "마지막곱을 숫자로 입력해 주세요. :  5\n"
     ]
    },
    {
     "name": "stdout",
     "output_type": "stream",
     "text": [
      "2 * 3 = 6\n",
      "2 * 4 = 8\n",
      "2 * 5 = 10\n",
      "3 * 3 = 9\n",
      "3 * 4 = 12\n",
      "3 * 5 = 15\n",
      "4 * 3 = 12\n",
      "4 * 4 = 16\n",
      "4 * 5 = 20\n",
      "5 * 3 = 15\n",
      "5 * 4 = 20\n",
      "5 * 5 = 25\n"
     ]
    }
   ],
   "source": [
    "startDan = int(input(\"시작단을 숫자로 입력해 주세요. : \"))\n",
    "endDan = int(input(\"마지막단을 숫자로 입력해 주세요. : \"))\n",
    "startGop = int(input(\"시작곱을 숫자로 입력해 주세요. : \"))\n",
    "endGop = int(input(\"마지막곱을 숫자로 입력해 주세요. : \"))\n",
    "dan = startDan\n",
    "while dan <= endDan:\n",
    "    gop = startGop\n",
    "    while gop <= endGop:\n",
    "        print(f\"{dan} * {gop} = {dan * gop}\")\n",
    "        gop += 1\n",
    "    dan += 1"
   ]
  },
  {
   "cell_type": "code",
   "execution_count": 224,
   "id": "fe350618-e5c5-4cc9-bd11-7485450e5584",
   "metadata": {},
   "outputs": [
    {
     "name": "stdin",
     "output_type": "stream",
     "text": [
      "로또 구매 수량을 입력해 주세요. :  3\n"
     ]
    },
    {
     "name": "stdout",
     "output_type": "stream",
     "text": [
      "19, 45, 5, 39, 18, 1, \n",
      "26, 10, 37, 35, 14, 31, \n",
      "11, 38, 32, 45, 18, 24, \n"
     ]
    }
   ],
   "source": [
    "import random\n",
    "lottoCnt = int(input(\"로또 구매 수량을 입력해 주세요. : \"))\n",
    "qty= 1\n",
    "while qty <= lottoCnt:\n",
    "    lotto = []\n",
    "    i = 1\n",
    "    while i <= 45:\n",
    "        lotto.append(i)\n",
    "        i += 1 \n",
    "    size = len(lotto) # 45\n",
    "    cnt = 1\n",
    "    while cnt <= 6:\n",
    "        size -= 1\n",
    "        idx = random.randint(0, size) \n",
    "        result = lotto.pop(idx) # 0 ~ 44\n",
    "        print(result, end =\", \" )\n",
    "        cnt += 1\n",
    "    print()\n",
    "    qty += 1"
   ]
  },
  {
   "cell_type": "code",
   "execution_count": null,
   "id": "7ae5bb4f-4b2e-40fe-9438-a8f1486b0409",
   "metadata": {},
   "outputs": [],
   "source": []
  },
  {
   "cell_type": "code",
   "execution_count": null,
   "id": "107c1f18-bb59-4ae6-8959-5bb0c5226934",
   "metadata": {},
   "outputs": [],
   "source": []
  },
  {
   "cell_type": "code",
   "execution_count": null,
   "id": "cfcc06ba-2c6b-4219-8436-9b3a884738f4",
   "metadata": {},
   "outputs": [],
   "source": []
  },
  {
   "cell_type": "code",
   "execution_count": null,
   "id": "27abed70-5f95-4f67-ae07-019a26c89a67",
   "metadata": {},
   "outputs": [],
   "source": []
  },
  {
   "cell_type": "code",
   "execution_count": null,
   "id": "fa375e44-4403-44ed-8622-a779e0604484",
   "metadata": {},
   "outputs": [],
   "source": []
  },
  {
   "cell_type": "code",
   "execution_count": null,
   "id": "72164024-d88a-4988-929d-9aaeaf2e133b",
   "metadata": {},
   "outputs": [],
   "source": []
  }
 ],
 "metadata": {
  "kernelspec": {
   "display_name": "Python 3 (ipykernel)",
   "language": "python",
   "name": "python3"
  },
  "language_info": {
   "codemirror_mode": {
    "name": "ipython",
    "version": 3
   },
   "file_extension": ".py",
   "mimetype": "text/x-python",
   "name": "python",
   "nbconvert_exporter": "python",
   "pygments_lexer": "ipython3",
   "version": "3.12.1"
  }
 },
 "nbformat": 4,
 "nbformat_minor": 5
}
