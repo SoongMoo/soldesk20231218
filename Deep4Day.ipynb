{
 "cells": [
  {
   "cell_type": "code",
   "execution_count": 1,
   "id": "9daa6f22-b829-4ba0-a9ac-12acc654cdfd",
   "metadata": {},
   "outputs": [
    {
     "name": "stdout",
     "output_type": "stream",
     "text": [
      "\n"
     ]
    }
   ],
   "source": [
    "'''\n",
    "activation\n",
    "활성화 함수 : linear(선형회귀) : 연속적인 값에 대한 결과를 가져올 때 \n",
    "             sigmoid(참/거짓:이항) : 렐루(ReLU), \n",
    "                                    하이퍼볼릭 탄젠트(hyperbolic tangent) \n",
    "                                    소프트플러스(softplus) \n",
    "             softmax(다항분류 : 출력결과가 여러개인 경우) : 0.2 + 0.6 + 0.3 = 1 :최고값이 답\n",
    "loss              \n",
    "손실 함수 : 평균제곱 오차(mse) : mean_squared_error \n",
    "           평균절대 오차(mae)\n",
    "           평균절대백분율오차(mape)\n",
    "           평균제곱로그오차(msle) \n",
    "           이항교차엔트로피(binary_crossentropy):이항분류\n",
    "           범주형교차엔트로피(calegorical_crossentropy) : 다항분류\n",
    "optimizer           \n",
    "오차 수정 함수: 경사 하강법(gd) : 확률적경사하강법(sgd) : 아다그라이드(adagrad) : 알엠에스프롭(RMSProp) : 아담(adam)\n",
    "                                                       모멘텀(momentum)                            : 아담(adam)\n",
    "metrics                                                                                                   : 네스레포트 모멘텀(NAG) \n",
    "모델 수행의 결과 출력 :  \n",
    "            accuracy : 학습셋에 대한 정확도에 기반해 결과를 출력 \n",
    "            loss : 학습셋에 대한 손실 값을 나타냄\n",
    "            val_acc : 테스트셋에 대한 정확도를 나타냄\n",
    "            val_loss : 테스트셋에 대한 손실 값을 나타냄\n",
    "'''\n",
    "print()              "
   ]
  },
  {
   "cell_type": "code",
   "execution_count": 22,
   "id": "69bb242f-6e74-4d91-8e37-a1bb25339f59",
   "metadata": {},
   "outputs": [
    {
     "name": "stdout",
     "output_type": "stream",
     "text": [
      "Epoch 1/2000\n",
      "28/28 [==============================] - 1s 10ms/step - loss: 37612597248.0000 - val_loss: 41681199104.0000\n",
      "Epoch 2/2000\n",
      "28/28 [==============================] - 0s 3ms/step - loss: 36965040128.0000 - val_loss: 40636919808.0000\n",
      "Epoch 3/2000\n",
      " 1/28 [>.............................] - ETA: 0s - loss: 29261619200.0000"
     ]
    },
    {
     "name": "stderr",
     "output_type": "stream",
     "text": [
      "C:\\Users\\sdedu\\AppData\\Local\\Programs\\Python\\Python311\\Lib\\site-packages\\keras\\src\\engine\\training.py:3103: UserWarning: You are saving your model as an HDF5 file via `model.save()`. This file format is considered legacy. We recommend using instead the native Keras format, e.g. `model.save('my_model.keras')`.\n",
      "  saving_api.save_model(\n"
     ]
    },
    {
     "name": "stdout",
     "output_type": "stream",
     "text": [
      "28/28 [==============================] - 0s 3ms/step - loss: 35386712064.0000 - val_loss: 37988917248.0000\n",
      "Epoch 4/2000\n",
      "28/28 [==============================] - 0s 3ms/step - loss: 31727953920.0000 - val_loss: 32266131456.0000\n",
      "Epoch 5/2000\n",
      "28/28 [==============================] - 0s 3ms/step - loss: 24756318208.0000 - val_loss: 22616352768.0000\n",
      "Epoch 6/2000\n",
      "28/28 [==============================] - 0s 3ms/step - loss: 14738793472.0000 - val_loss: 11087406080.0000\n",
      "Epoch 7/2000\n",
      "28/28 [==============================] - 0s 3ms/step - loss: 5681194496.0000 - val_loss: 3677386496.0000\n",
      "Epoch 8/2000\n",
      "28/28 [==============================] - 0s 3ms/step - loss: 2468206336.0000 - val_loss: 2228816640.0000\n",
      "Epoch 9/2000\n",
      "28/28 [==============================] - 0s 3ms/step - loss: 2386123520.0000 - val_loss: 2258465280.0000\n",
      "Epoch 10/2000\n",
      "28/28 [==============================] - 0s 3ms/step - loss: 2348182784.0000 - val_loss: 2263570688.0000\n",
      "Epoch 11/2000\n",
      "28/28 [==============================] - 0s 2ms/step - loss: 2358224896.0000 - val_loss: 2261700608.0000\n",
      "Epoch 12/2000\n",
      "28/28 [==============================] - 0s 2ms/step - loss: 2346367488.0000 - val_loss: 2274836224.0000\n",
      "Epoch 13/2000\n",
      "28/28 [==============================] - 0s 2ms/step - loss: 2345049600.0000 - val_loss: 2234221568.0000\n",
      "Epoch 14/2000\n",
      "28/28 [==============================] - 0s 3ms/step - loss: 2328092160.0000 - val_loss: 2299041024.0000\n",
      "Epoch 15/2000\n",
      "28/28 [==============================] - 0s 2ms/step - loss: 2333238528.0000 - val_loss: 2276213504.0000\n",
      "Epoch 16/2000\n",
      "28/28 [==============================] - 0s 3ms/step - loss: 2332324608.0000 - val_loss: 2245147648.0000\n",
      "Epoch 17/2000\n",
      "28/28 [==============================] - 0s 3ms/step - loss: 2321133312.0000 - val_loss: 2279727616.0000\n",
      "Epoch 18/2000\n",
      "28/28 [==============================] - 0s 3ms/step - loss: 2325019136.0000 - val_loss: 2279171328.0000\n",
      "Epoch 19/2000\n",
      "28/28 [==============================] - 0s 3ms/step - loss: 2318164992.0000 - val_loss: 2242842112.0000\n",
      "Epoch 20/2000\n",
      "28/28 [==============================] - 0s 2ms/step - loss: 2312489472.0000 - val_loss: 2249962752.0000\n",
      "Epoch 21/2000\n",
      "28/28 [==============================] - 0s 3ms/step - loss: 2328985088.0000 - val_loss: 2263442432.0000\n",
      "Epoch 22/2000\n",
      "28/28 [==============================] - 0s 3ms/step - loss: 2313781760.0000 - val_loss: 2218033152.0000\n",
      "Epoch 23/2000\n",
      "28/28 [==============================] - 0s 3ms/step - loss: 2314076416.0000 - val_loss: 2266767360.0000\n",
      "Epoch 24/2000\n",
      "28/28 [==============================] - 0s 3ms/step - loss: 2323138048.0000 - val_loss: 2257550336.0000\n",
      "Epoch 25/2000\n",
      "28/28 [==============================] - 0s 3ms/step - loss: 2301829376.0000 - val_loss: 2256704000.0000\n",
      "Epoch 26/2000\n",
      "28/28 [==============================] - 0s 3ms/step - loss: 2309023232.0000 - val_loss: 2222279424.0000\n",
      "Epoch 27/2000\n",
      "28/28 [==============================] - 0s 3ms/step - loss: 2316032000.0000 - val_loss: 2192549120.0000\n",
      "Epoch 28/2000\n",
      "28/28 [==============================] - 0s 3ms/step - loss: 2367162112.0000 - val_loss: 2394282496.0000\n",
      "Epoch 29/2000\n",
      "28/28 [==============================] - 0s 3ms/step - loss: 2268169472.0000 - val_loss: 2206286336.0000\n",
      "Epoch 30/2000\n",
      "28/28 [==============================] - 0s 3ms/step - loss: 2297751040.0000 - val_loss: 2252664320.0000\n",
      "Epoch 31/2000\n",
      "28/28 [==============================] - 0s 3ms/step - loss: 2277231872.0000 - val_loss: 2249523968.0000\n",
      "Epoch 32/2000\n",
      "28/28 [==============================] - 0s 3ms/step - loss: 2272256000.0000 - val_loss: 2246162944.0000\n",
      "Epoch 33/2000\n",
      "28/28 [==============================] - 0s 2ms/step - loss: 2270381824.0000 - val_loss: 2249039872.0000\n",
      "Epoch 34/2000\n",
      "28/28 [==============================] - 0s 3ms/step - loss: 2263306496.0000 - val_loss: 2241472256.0000\n",
      "Epoch 35/2000\n",
      "28/28 [==============================] - 0s 2ms/step - loss: 2264596480.0000 - val_loss: 2211636224.0000\n",
      "Epoch 36/2000\n",
      "28/28 [==============================] - 0s 2ms/step - loss: 2259176960.0000 - val_loss: 2239665408.0000\n",
      "Epoch 37/2000\n",
      "28/28 [==============================] - 0s 2ms/step - loss: 2259409152.0000 - val_loss: 2238931712.0000\n",
      "Epoch 38/2000\n",
      "28/28 [==============================] - 0s 3ms/step - loss: 2255662592.0000 - val_loss: 2238545408.0000\n",
      "Epoch 39/2000\n",
      "28/28 [==============================] - 0s 2ms/step - loss: 2257142784.0000 - val_loss: 2203214336.0000\n",
      "Epoch 40/2000\n",
      "28/28 [==============================] - 0s 2ms/step - loss: 2250005504.0000 - val_loss: 2226319872.0000\n",
      "Epoch 41/2000\n",
      "28/28 [==============================] - 0s 2ms/step - loss: 2251169024.0000 - val_loss: 2208398592.0000\n",
      "Epoch 42/2000\n",
      "28/28 [==============================] - 0s 3ms/step - loss: 2249923328.0000 - val_loss: 2224330496.0000\n",
      "Epoch 43/2000\n",
      "28/28 [==============================] - 0s 2ms/step - loss: 2239398400.0000 - val_loss: 2224816896.0000\n",
      "Epoch 44/2000\n",
      "28/28 [==============================] - 0s 3ms/step - loss: 2247110912.0000 - val_loss: 2199773952.0000\n",
      "Epoch 45/2000\n",
      "28/28 [==============================] - 0s 3ms/step - loss: 2236925952.0000 - val_loss: 2199592960.0000\n",
      "Epoch 46/2000\n",
      "28/28 [==============================] - 0s 3ms/step - loss: 2241896704.0000 - val_loss: 2197024000.0000\n",
      "Epoch 47/2000\n",
      "28/28 [==============================] - 0s 3ms/step - loss: 2225678592.0000 - val_loss: 2255933696.0000\n"
     ]
    }
   ],
   "source": [
    "from tensorflow.keras.models import Sequential\n",
    "from tensorflow.keras.layers import Dense\n",
    "from tensorflow.keras.callbacks import EarlyStopping, ModelCheckpoint\n",
    "from sklearn.model_selection import train_test_split\n",
    "import pandas as pd\n",
    "import numpy as np\n",
    "\n",
    "#데이터를 불러 옴\n",
    "df = pd.read_csv(\"https://raw.githubusercontent.com/SoongMoo/soldesk20231218/main/data/house_train.csv\")\n",
    "df\n",
    "# NaN확인\n",
    "df.isnull().sum().sort_values(ascending=False).head(20)\n",
    "# 원-핫 인코딩\n",
    "#카테고리형 변수를 0과 1로 이루어진 변수\n",
    "df = pd.get_dummies(df)\n",
    "#결측치를 각 칼럼의 평균으로 대체\n",
    "df = df.fillna(df.mean())\n",
    "df\n",
    "# 속성과 클래스로 분리\n",
    "cols_train = ['OverallQual', 'GrLivArea','GarageCars','GarageArea','TotalBsmtSF']\n",
    "X_train_pre = df[cols_train] \n",
    "y = df['SalePrice'].values\n",
    "# 학습셋과 테스트셋\n",
    "X_train, X_test, y_train, y_test = train_test_split(X_train_pre, y, test_size = 0.2)\n",
    "#모델의 구조를 설정합니다\n",
    "# * 노드의 수를 늘리면\n",
    "#  - 모델은 더 다양하고 복잡한 특징과 패턴을 학습할 수 있음\n",
    "#  - 노드 수를 무작정 늘리면 과적합의 위험이 증가할 수 있음\n",
    "#  - 노드 수가 많을수록 모델의 계산 비용이 증가 함\n",
    "#  - 데이터의 특성, 문제의 복잡성, 사용 가능한 훈련 데이터 양 등을 고려하여 노드 수를 조절해야 함\n",
    "# * 노드 수를 정하는 방법\n",
    "#  - 교차 검증, 그리드 서치, 경험적 방법\n",
    "#  - 자동화된 하이퍼파라미터 최적화 도구 사용\n",
    "model = Sequential()\n",
    "model.add(Dense(10, input_dim=X_train.shape[1], activation='relu'))\n",
    "model.add(Dense(30, activation='relu'))\n",
    "model.add(Dense(40, activation='relu'))\n",
    "model.add(Dense(1))\n",
    "#모델 실행\n",
    "model.compile(optimizer ='adam', loss = 'mse')\n",
    "# 20회 이상 결과가 향상되지 않으면 자동으로 중단\n",
    "early_stopping_callback = EarlyStopping(monitor='val_loss' , patience=20)\n",
    "# 모델의 이름을 정합니다.\n",
    "modelpath = \"./data/model/house.hdf5\"\n",
    "# 최적화 모델을 업데이트하고 저장\n",
    "checkpointer = ModelCheckpoint(filepath=modelpath, monitor='val_loss', verbose=0, save_best_only = True)\n",
    "# 검증셋(validation_split) : 25%\n",
    "history = model.fit(X_train, y_train, epochs=2000, batch_size=32, validation_split=0.25\n",
    "                    ,callbacks=[early_stopping_callback, checkpointer] )"
   ]
  },
  {
   "cell_type": "code",
   "execution_count": 35,
   "id": "bd9f344a-cb13-4a8f-b645-2381b44ca92c",
   "metadata": {},
   "outputs": [
    {
     "name": "stdout",
     "output_type": "stream",
     "text": [
      "10/10 [==============================] - 0s 887us/step\n",
      "실제가격 : 163000.00,  예측 값 : 185448.70 \n",
      "실제가격 : 262280.00,  예측 값 : 257056.66 \n",
      "실제가격 : 324000.00,  예측 값 : 226423.39 \n",
      "실제가격 : 118000.00,  예측 값 : 170948.20 \n",
      "실제가격 : 177000.00,  예측 값 : 162577.47 \n",
      "실제가격 : 177000.00,  예측 값 : 191365.70 \n",
      "실제가격 : 143000.00,  예측 값 : 194215.41 \n",
      "실제가격 : 177500.00,  예측 값 : 165820.45 \n",
      "실제가격 : 130000.00,  예측 값 : 138561.78 \n",
      "실제가격 : 181000.00,  예측 값 : 177981.42 \n",
      "실제가격 : 85000.00,  예측 값 : 134569.84 \n",
      "실제가격 : 163000.00,  예측 값 : 170167.06 \n",
      "실제가격 : 172500.00,  예측 값 : 181513.39 \n",
      "실제가격 : 159000.00,  예측 값 : 183683.56 \n",
      "실제가격 : 120000.00,  예측 값 : 116257.59 \n",
      "실제가격 : 179900.00,  예측 값 : 171462.78 \n",
      "실제가격 : 147000.00,  예측 값 : 255179.75 \n",
      "실제가격 : 139000.00,  예측 값 : 156996.22 \n",
      "실제가격 : 167500.00,  예측 값 : 132846.58 \n",
      "실제가격 : 164500.00,  예측 값 : 175262.19 \n",
      "실제가격 : 189000.00,  예측 값 : 236315.91 \n",
      "실제가격 : 169500.00,  예측 값 : 187498.05 \n",
      "실제가격 : 146000.00,  예측 값 : 166763.09 \n",
      "실제가격 : 85000.00,  예측 값 : 154936.98 \n",
      "실제가격 : 283463.00,  예측 값 : 242158.70 \n"
     ]
    }
   ],
   "source": [
    "real_prices =[]    # 시각화를 위해 실제값 저장\n",
    "pred_prices = []   # 시각화를 위해 예측값 저장\n",
    "X_num = [] \n",
    "# SalePrice의 예측 값\n",
    "Y_prediction = model.predict(X_test)\n",
    "y_test\n",
    "Y_prediction\n",
    "n_iter = 0\n",
    "for i in range(25):\n",
    "    real = y_test[i]\n",
    "    prediction = Y_prediction[i]\n",
    "    print(f\"실제가격 : {real:.2f},  예측 값 : {prediction[0]:.2f} \")\n",
    "    real_prices.append(real)\n",
    "    pred_prices.append(prediction[0])\n",
    "    n_iter += 1\n",
    "    X_num.append(n_iter)"
   ]
  },
  {
   "cell_type": "code",
   "execution_count": 38,
   "id": "51eb8b28-1fe3-4da4-a009-bd577e02058c",
   "metadata": {},
   "outputs": [
    {
     "data": {
      "image/png": "[encoded data removed]",
      "text/plain": [
       "<Figure size 640x480 with 1 Axes>"
      ]
     },
     "metadata": {},
     "output_type": "display_data"
    }
   ],
   "source": [
    "import matplotlib.pyplot as plt\n",
    "plt.plot(X_num, pred_prices, label = \"predicted prices\")\n",
    "plt.plot(X_num, real_prices, label = \"real prices\")\n",
    "plt.legend()\n",
    "plt.show()"
   ]
  },
  {
   "cell_type": "code",
   "execution_count": 154,
   "id": "db02727b-6fc6-47bd-a9ca-5ea8b2bac035",
   "metadata": {},
   "outputs": [
    {
     "data": {
      "text/plain": [
       "array([[[0, 0, 0, ..., 0, 0, 0],\n",
       "        [0, 0, 0, ..., 0, 0, 0],\n",
       "        [0, 0, 0, ..., 0, 0, 0],\n",
       "        ...,\n",
       "        [0, 0, 0, ..., 0, 0, 0],\n",
       "        [0, 0, 0, ..., 0, 0, 0],\n",
       "        [0, 0, 0, ..., 0, 0, 0]],\n",
       "\n",
       "       [[0, 0, 0, ..., 0, 0, 0],\n",
       "        [0, 0, 0, ..., 0, 0, 0],\n",
       "        [0, 0, 0, ..., 0, 0, 0],\n",
       "        ...,\n",
       "        [0, 0, 0, ..., 0, 0, 0],\n",
       "        [0, 0, 0, ..., 0, 0, 0],\n",
       "        [0, 0, 0, ..., 0, 0, 0]],\n",
       "\n",
       "       [[0, 0, 0, ..., 0, 0, 0],\n",
       "        [0, 0, 0, ..., 0, 0, 0],\n",
       "        [0, 0, 0, ..., 0, 0, 0],\n",
       "        ...,\n",
       "        [0, 0, 0, ..., 0, 0, 0],\n",
       "        [0, 0, 0, ..., 0, 0, 0],\n",
       "        [0, 0, 0, ..., 0, 0, 0]],\n",
       "\n",
       "       ...,\n",
       "\n",
       "       [[0, 0, 0, ..., 0, 0, 0],\n",
       "        [0, 0, 0, ..., 0, 0, 0],\n",
       "        [0, 0, 0, ..., 0, 0, 0],\n",
       "        ...,\n",
       "        [0, 0, 0, ..., 0, 0, 0],\n",
       "        [0, 0, 0, ..., 0, 0, 0],\n",
       "        [0, 0, 0, ..., 0, 0, 0]],\n",
       "\n",
       "       [[0, 0, 0, ..., 0, 0, 0],\n",
       "        [0, 0, 0, ..., 0, 0, 0],\n",
       "        [0, 0, 0, ..., 0, 0, 0],\n",
       "        ...,\n",
       "        [0, 0, 0, ..., 0, 0, 0],\n",
       "        [0, 0, 0, ..., 0, 0, 0],\n",
       "        [0, 0, 0, ..., 0, 0, 0]],\n",
       "\n",
       "       [[0, 0, 0, ..., 0, 0, 0],\n",
       "        [0, 0, 0, ..., 0, 0, 0],\n",
       "        [0, 0, 0, ..., 0, 0, 0],\n",
       "        ...,\n",
       "        [0, 0, 0, ..., 0, 0, 0],\n",
       "        [0, 0, 0, ..., 0, 0, 0],\n",
       "        [0, 0, 0, ..., 0, 0, 0]]], dtype=uint8)"
      ]
     },
     "execution_count": 154,
     "metadata": {},
     "output_type": "execute_result"
    },
    {
     "data": {
      "image/png": "[encoded data removed]",
      "text/plain": [
       "<Figure size 640x480 with 1 Axes>"
      ]
     },
     "metadata": {},
     "output_type": "display_data"
    }
   ],
   "source": [
    "from tensorflow.keras.datasets import mnist\n",
    "import matplotlib.pyplot as plt\n",
    "# MNIST 데이터셋을 불러와 학습셋과 테스트셋으로 저장합니다\n",
    "(X_train, y_train), (X_test, y_test) = mnist.load_data()\n",
    "X_train.shape[0] # 60000\n",
    "X_test.shape[0] # 10000\n",
    "plt.imshow(X_train[0],cmap='Greys')"
   ]
  },
  {
   "cell_type": "code",
   "execution_count": 38,
   "id": "72f17e4d-636e-491f-a2ea-55584197ca28",
   "metadata": {},
   "outputs": [
    {
     "ename": "TypeError",
     "evalue": "'numpy.float32' object is not iterable",
     "output_type": "error",
     "traceback": [
      "\u001b[1;31m---------------------------------------------------------------------------\u001b[0m",
      "\u001b[1;31mTypeError\u001b[0m                                 Traceback (most recent call last)",
      "Cell \u001b[1;32mIn[38], line 3\u001b[0m\n\u001b[0;32m      1\u001b[0m \u001b[38;5;28;01mimport\u001b[39;00m \u001b[38;5;21;01msys\u001b[39;00m\n\u001b[0;32m      2\u001b[0m \u001b[38;5;28;01mfor\u001b[39;00m x \u001b[38;5;129;01min\u001b[39;00m X_train[\u001b[38;5;241m0\u001b[39m]:\n\u001b[1;32m----> 3\u001b[0m \u001b[43m    \u001b[49m\u001b[38;5;28;43;01mfor\u001b[39;49;00m\u001b[43m \u001b[49m\u001b[43mi\u001b[49m\u001b[43m \u001b[49m\u001b[38;5;129;43;01min\u001b[39;49;00m\u001b[43m \u001b[49m\u001b[43mx\u001b[49m\u001b[43m:\u001b[49m\n\u001b[0;32m      4\u001b[0m \u001b[43m        \u001b[49m\u001b[43msys\u001b[49m\u001b[38;5;241;43m.\u001b[39;49m\u001b[43mstdout\u001b[49m\u001b[38;5;241;43m.\u001b[39;49m\u001b[43mwrite\u001b[49m\u001b[43m(\u001b[49m\u001b[38;5;124;43m\"\u001b[39;49m\u001b[38;5;132;43;01m%-3s\u001b[39;49;00m\u001b[38;5;124;43m\"\u001b[39;49m\u001b[43m \u001b[49m\u001b[38;5;241;43m%\u001b[39;49m\u001b[43m \u001b[49m\u001b[43mi\u001b[49m\u001b[43m)\u001b[49m\n\u001b[0;32m      5\u001b[0m     sys\u001b[38;5;241m.\u001b[39mstdout\u001b[38;5;241m.\u001b[39mwrite(\u001b[38;5;124m\"\u001b[39m\u001b[38;5;130;01m\\n\u001b[39;00m\u001b[38;5;124m\"\u001b[39m)\n",
      "\u001b[1;31mTypeError\u001b[0m: 'numpy.float32' object is not iterable"
     ]
    }
   ],
   "source": [
    "import sys\n",
    "for x in X_train[0]:\n",
    "    for i in x:\n",
    "        sys.stdout.write(\"%-3s\" % i)\n",
    "    sys.stdout.write(\"\\n\")"
   ]
  },
  {
   "cell_type": "code",
   "execution_count": 177,
   "id": "43e69279-8e3c-4009-b22f-127723aa780b",
   "metadata": {},
   "outputs": [
    {
     "data": {
      "text/plain": [
       "array([[0., 0., 0., ..., 0., 0., 0.],\n",
       "       [1., 0., 0., ..., 0., 0., 0.],\n",
       "       [0., 0., 0., ..., 0., 0., 0.],\n",
       "       ...,\n",
       "       [0., 0., 0., ..., 0., 0., 0.],\n",
       "       [0., 0., 0., ..., 0., 0., 0.],\n",
       "       [0., 0., 0., ..., 0., 1., 0.]], dtype=float32)"
      ]
     },
     "execution_count": 177,
     "metadata": {},
     "output_type": "execute_result"
    }
   ],
   "source": [
    "from tensorflow.keras.utils import to_categorical\n",
    "X_train[0]\n",
    "# 차원 변환\n",
    "X_train = X_train.reshape(X_train.shape[0], 784)\n",
    "X_train.shape\n",
    "X_train = X_train.astype('float64')\n",
    "X_train = X_train / 255\n",
    "X_test = X_test.reshape(X_test.shape[0], 784).astype('float64') / 255\n",
    "# 속성 : X_train[0]\n",
    "# class : y_train[0]\n",
    "y_train[0]\n",
    "y_train = to_categorical(y_train, 10)\n",
    "y_test = to_categorical(y_test, 10) \n",
    "# 0 : 1000000000\n",
    "# 1 : 0100000000\n",
    "# 2 : 0010000000\n",
    "#...\n",
    "# 5 : 0000010000\n",
    "#...\n",
    "# 9 : 0000000001\n",
    "y_train"
   ]
  },
  {
   "cell_type": "code",
   "execution_count": 30,
   "id": "e6844173-62bd-47ef-a3ac-9164c2d304fd",
   "metadata": {},
   "outputs": [
    {
     "name": "stdout",
     "output_type": "stream",
     "text": [
      "Epoch 1/30\n",
      "225/225 [==============================] - 2s 5ms/step - loss: 0.3524 - accuracy: 0.9013 - val_loss: 0.1903 - val_accuracy: 0.9479\n",
      "Epoch 2/30\n",
      "225/225 [==============================] - 1s 5ms/step - loss: 0.1486 - accuracy: 0.9575 - val_loss: 0.1448 - val_accuracy: 0.9575\n",
      "Epoch 3/30\n",
      "225/225 [==============================] - 1s 5ms/step - loss: 0.0982 - accuracy: 0.9719 - val_loss: 0.1205 - val_accuracy: 0.9648\n",
      "Epoch 4/30\n",
      "225/225 [==============================] - 1s 5ms/step - loss: 0.0714 - accuracy: 0.9803 - val_loss: 0.1013 - val_accuracy: 0.9701\n",
      "Epoch 5/30\n",
      "225/225 [==============================] - 1s 5ms/step - loss: 0.0554 - accuracy: 0.9846 - val_loss: 0.0907 - val_accuracy: 0.9736\n",
      "Epoch 6/30\n",
      "225/225 [==============================] - 1s 5ms/step - loss: 0.0415 - accuracy: 0.9891 - val_loss: 0.0901 - val_accuracy: 0.9721\n",
      "Epoch 7/30\n",
      "225/225 [==============================] - 1s 5ms/step - loss: 0.0317 - accuracy: 0.9920 - val_loss: 0.0849 - val_accuracy: 0.9751\n",
      "Epoch 8/30\n",
      "225/225 [==============================] - 1s 5ms/step - loss: 0.0250 - accuracy: 0.9941 - val_loss: 0.0904 - val_accuracy: 0.9737\n",
      "Epoch 9/30\n",
      "225/225 [==============================] - 1s 5ms/step - loss: 0.0193 - accuracy: 0.9958 - val_loss: 0.0813 - val_accuracy: 0.9763\n",
      "Epoch 10/30\n",
      "225/225 [==============================] - 1s 5ms/step - loss: 0.0150 - accuracy: 0.9972 - val_loss: 0.0832 - val_accuracy: 0.9763\n",
      "Epoch 11/30\n",
      "225/225 [==============================] - 1s 5ms/step - loss: 0.0117 - accuracy: 0.9980 - val_loss: 0.0790 - val_accuracy: 0.9777\n",
      "Epoch 12/30\n",
      "225/225 [==============================] - 1s 4ms/step - loss: 0.0091 - accuracy: 0.9986 - val_loss: 0.0821 - val_accuracy: 0.9767\n",
      "Epoch 13/30\n",
      "225/225 [==============================] - 1s 4ms/step - loss: 0.0070 - accuracy: 0.9992 - val_loss: 0.0827 - val_accuracy: 0.9773\n",
      "Epoch 14/30\n",
      "225/225 [==============================] - 1s 4ms/step - loss: 0.0060 - accuracy: 0.9993 - val_loss: 0.0843 - val_accuracy: 0.9773\n",
      "Epoch 15/30\n",
      "225/225 [==============================] - 1s 4ms/step - loss: 0.0044 - accuracy: 0.9997 - val_loss: 0.0777 - val_accuracy: 0.9801\n",
      "Epoch 16/30\n",
      "225/225 [==============================] - 1s 4ms/step - loss: 0.0030 - accuracy: 0.9999 - val_loss: 0.0817 - val_accuracy: 0.9788\n",
      "Epoch 17/30\n",
      "225/225 [==============================] - 1s 4ms/step - loss: 0.0024 - accuracy: 1.0000 - val_loss: 0.0812 - val_accuracy: 0.9793\n",
      "Epoch 18/30\n",
      "225/225 [==============================] - 1s 4ms/step - loss: 0.0018 - accuracy: 1.0000 - val_loss: 0.0824 - val_accuracy: 0.9791\n",
      "Epoch 19/30\n",
      "225/225 [==============================] - 1s 4ms/step - loss: 0.0018 - accuracy: 0.9999 - val_loss: 0.1010 - val_accuracy: 0.9756\n",
      "Epoch 20/30\n",
      "225/225 [==============================] - 1s 4ms/step - loss: 0.0065 - accuracy: 0.9986 - val_loss: 0.1225 - val_accuracy: 0.9699\n",
      "Epoch 21/30\n",
      "225/225 [==============================] - 1s 5ms/step - loss: 0.0121 - accuracy: 0.9962 - val_loss: 0.1035 - val_accuracy: 0.9746\n",
      "Epoch 22/30\n",
      "225/225 [==============================] - 1s 4ms/step - loss: 0.0060 - accuracy: 0.9984 - val_loss: 0.0958 - val_accuracy: 0.9777\n",
      "Epoch 23/30\n",
      "225/225 [==============================] - 1s 4ms/step - loss: 0.0020 - accuracy: 0.9998 - val_loss: 0.0891 - val_accuracy: 0.9794\n",
      "Epoch 24/30\n",
      "225/225 [==============================] - 1s 4ms/step - loss: 6.7627e-04 - accuracy: 1.0000 - val_loss: 0.0889 - val_accuracy: 0.9801\n",
      "Epoch 25/30\n",
      "225/225 [==============================] - 1s 5ms/step - loss: 4.9964e-04 - accuracy: 1.0000 - val_loss: 0.0914 - val_accuracy: 0.9802\n",
      "313/313 [==============================] - 1s 1ms/step - loss: 0.0743 - accuracy: 0.9828\n"
     ]
    },
    {
     "data": {
      "text/plain": [
       "0.9828000068664551"
      ]
     },
     "execution_count": 30,
     "metadata": {},
     "output_type": "execute_result"
    }
   ],
   "source": [
    "from tensorflow.keras.models import Sequential\n",
    "from tensorflow.keras.layers import Dense\n",
    "from tensorflow.keras.callbacks import ModelCheckpoint,EarlyStopping\n",
    "from tensorflow.keras.datasets import mnist\n",
    "from tensorflow.keras.utils import to_categorical\n",
    "import numpy as np\n",
    "# 데이터 불러오기 \n",
    "# MNIST 데이터를 불러옵니다. \n",
    "(X_train, y_train), (X_test, y_test) = mnist.load_data()\n",
    "# 차원 변환 : 2차원을 평면(1차원)으로 변환 (28, 28)\n",
    "X_train = X_train.reshape(X_train.shape[0], 28*28).astype('float32') / 255\n",
    "X_test = X_test.reshape(X_test.shape[0], 784).astype('float32') / 255\n",
    "# 0 ~ 255로 되어 있는 값을 0 ~ 1사이의 값으로 변경\n",
    "\n",
    "# 원-핫 인코딩 :   class = 0는 1의 값을 가지도록\n",
    "y_train = to_categorical(y_train, 10)\n",
    "y_test  = to_categorical(y_test, 10)\n",
    "\n",
    "# 모델 구조를 설정\n",
    "model = Sequential()\n",
    "model.add(Dense(512, input_dim=784, activation='relu'))\n",
    "model.add(Dense(10, activation='softmax'))\n",
    "\n",
    "# 모델 실행 \n",
    "model.compile(loss='categorical_crossentropy', optimizer='adam', \\\n",
    "              metrics=['accuracy'])\n",
    "# 모델 최적화\n",
    "modelpath= \"./data/model/MNIST_MLP.hdf5\"\n",
    "early_stopping_callback = EarlyStopping(monitor='val_loss' ,patience=10 )\n",
    "checkpointer = ModelCheckpoint(filepath=modelpath ,monitor='val_loss' \\\n",
    "                               ,verbose=0,save_best_only=True)\n",
    "# 모델 학습\n",
    "history = model.fit(X_train,y_train, validation_split=0.25 ,  epochs=30 \\\n",
    "    , batch_size=200, verbose=1,callbacks=[early_stopping_callback,checkpointer])\n",
    "# 테스트 정확도\n",
    "model.evaluate(X_test, y_test)[1]"
   ]
  },
  {
   "cell_type": "code",
   "execution_count": null,
   "id": "ff6153d7-0f67-442c-9fab-8c4033db785e",
   "metadata": {},
   "outputs": [],
   "source": [
    "# 이미지 전처리\n",
    "image_path = 'img6.jpg'\n",
    "image = Image.open(image_path)\n",
    "image = image.convert('L')  # 흑백 이미지로 변환\n",
    "image = image.resize((28, 28))  # 28x28 크기로 조정\n",
    "image = np.asarray(image)\n",
    "image = image.reshape(1, 28*28).astype('float32') / 255\n",
    "image = abs(1 - image)\n",
    "\n",
    "# 예측하기\n",
    "#prediction = model.predict(image)\n",
    "digit = np.argmax(prediction)\n",
    "print(\"예측 결과:\", digit)"
   ]
  },
  {
   "cell_type": "code",
   "execution_count": null,
   "id": "be4b65d6-66d1-4a65-b1c3-22a4ee30be8f",
   "metadata": {},
   "outputs": [],
   "source": [
    "import sys\n",
    "for x in image:\n",
    "    for i in x:\n",
    "        sys.stdout.write(\"%-3.1s\" % i)\n",
    "    sys.stdout.write(\"\\n\")"
   ]
  },
  {
   "cell_type": "code",
   "execution_count": null,
   "id": "6fab394f-1233-429e-92ff-e032f4681580",
   "metadata": {},
   "outputs": [],
   "source": [
    "y_val_loss = history.history['val_loss'] # 테스트 셋\n",
    "y_loss = history.history['loss'] # 학습 셋\n",
    "x_len = np.arange(len(y_loss))\n",
    "plt.plot(x_len, y_val_loss, marker=\".\", c = \"red\" , label = \"Testset_loss\")\n",
    "plt.plot(x_len, y_loss, marker=\".\", c = \"blue\" , label = \"Trainset_loss\")\n",
    "\n",
    "plt.legend(loc = \"upper right\")\n",
    "plt.grid()\n",
    "plt.xlabel(\"cpoch\")\n",
    "plt.ylabel(\"loss\")\n",
    "plt.show()"
   ]
  },
  {
   "cell_type": "code",
   "execution_count": 198,
   "id": "cf8562b2-fa85-41a4-8221-68166fa4ab3d",
   "metadata": {},
   "outputs": [
    {
     "data": {
      "text/plain": [
       "['해보지', '않으면', '해낼', '수', '없다']"
      ]
     },
     "execution_count": 198,
     "metadata": {},
     "output_type": "execute_result"
    }
   ],
   "source": [
    "from tensorflow.keras.models import Sequential\n",
    "from tensorflow.keras.layers import Dense,Flatten,Embedding\n",
    "from tensorflow.keras.utils import to_categorical \n",
    "from numpy import array\n",
    "from tensorflow.keras.preprocessing.text import Tokenizer\n",
    "from tensorflow.keras.preprocessing.sequence import pad_sequences\n",
    "# 텍스트 전처리와 관련한 함수\n",
    "from tensorflow.keras.preprocessing.text import text_to_word_sequence\n",
    "# 전처리할 텍스트\n",
    "text = \"해보지 않으면 해낼 수 없다\"\n",
    "# 해당 텍스트를 토큰화\n",
    "result = text_to_word_sequence(text)\n",
    "result"
   ]
  },
  {
   "cell_type": "code",
   "execution_count": null,
   "id": "9ab5c934-9414-4d10-82c3-7bfdf0914c23",
   "metadata": {},
   "outputs": [],
   "source": [
    "# 전처리하려는 세 개의 문장을 정합니다\n",
    "docs = ['먼저 텍스트의 각 단어를 나누어 토큰화 합니다.',\n",
    "        '텍스트의 단어로 토큰화해야 딥러닝에서 인식됩니다.',\n",
    "       '토큰화한 결과는 딥러닝에서 사용할 수 있습니다.']\n",
    "\n",
    "token = Tokenizer()\n",
    "token.fit_on_texts(docs)\n",
    "### 빈도수를 확인\n",
    "token.word_counts\n",
    "# 문장의 수\n",
    "token.document_count\n",
    "# 각 단어의 index\n",
    "token.word_index"
   ]
  },
  {
   "cell_type": "code",
   "execution_count": 219,
   "id": "de0354ce-617d-4a17-8d6e-b2be2710d17d",
   "metadata": {},
   "outputs": [
    {
     "data": {
      "text/plain": [
       "[[1, 2, 3, 4, 5, 6, 7]]"
      ]
     },
     "execution_count": 219,
     "metadata": {},
     "output_type": "execute_result"
    }
   ],
   "source": [
    "text = '먼저 텍스트의 각 단어를 나누어 토큰화 합니다.'\n",
    "token = Tokenizer()\n",
    "token.fit_on_texts([text])\n",
    "token.word_index\n",
    "token.word_index['먼저'] # 단어가 키가 된 걸 확인 할 수 있다.\n",
    "x = token.texts_to_sequences([text])\n",
    "x\n",
    "'''\n",
    "1 : 01000000  : 먼저\n",
    "2 : 00100000  : 텍스트의\n",
    "3 : 00010000  : 각\n",
    "4 : 00001000  : 단어를\n",
    "5 : 00000100  : 나누어\n",
    "6 : 00000010  : 토큰화\n",
    "7 : 00000001  : 합니다.\n",
    "'''\n",
    "# 원-핫 인코딩 배열 만들기\n",
    "x = to_categorical(x, len(token.word_index) + 1 )\n",
    "x"
   ]
  },
  {
   "cell_type": "code",
   "execution_count": null,
   "id": "bf1c497f-fc81-40f0-b5c6-60f4188773d6",
   "metadata": {},
   "outputs": [],
   "source": [
    "# 텍스트 리뷰 자료\n",
    "docs = [\"너무 재밌네요\",\"최고예요\",\"참 잘 만든 영화예요\",\"추천하고 싶은 영화입니다\"\n",
    "        ,\"한번 더 보고싶네요\",\"글쎄요\",\"별로예요\",\"생각보다 지루하네요\",\n",
    "        \"연기가 어색해요\",\"재미없어요\"]\n",
    "# 긍정 리뷰는 1, 부정 리뷰는 0\n",
    "classes = array([1,1,1,1,1,0,0,0,0,0])\n",
    "# 토큰화 \n",
    "token = Tokenizer()\n",
    "token.fit_on_texts(docs)\n",
    "print(token.word_index)\n",
    "x = token.texts_to_sequences(docs)\n",
    "print(x)\n",
    "# 패딩, 서로 다른 길이의 데이터를 4로 맞추어 줍니다.: pad_sequences\n",
    "padded_x = pad_sequences(x, 4)\n",
    "padded_x\n",
    "# 임베딩\n",
    "# 입력될 단어의 수\n",
    "word_size = len(token.word_index) + 1\n",
    "# 단어 임베딩을 포함하여 딥러닝 모델을 만듦\n",
    "model = Sequential()\n",
    "model.add(Embedding(word_size, 8, input_length=4)) # 임베딩\n",
    "model.add(Flatten())\n",
    "model.add(Dense(1 , activation=\"sigmoid\"))\n",
    "# 모델 실행\n",
    "model.compile(optimizer=\"adam\", loss = \"binary_crossentropy\", metrics=['accuracy'])\n",
    "model.fit(padded_x, classes,epochs=20)"
   ]
  },
  {
   "cell_type": "code",
   "execution_count": 248,
   "id": "bc59009a-ec33-418b-899e-62f94dec2c6c",
   "metadata": {},
   "outputs": [
    {
     "name": "stdout",
     "output_type": "stream",
     "text": [
      "1/1 [==============================] - 0s 50ms/step\n",
      "[[0.5424985]]\n",
      "<class 'numpy.ndarray'>\n",
      "'참 잘 만든 영화예요'는 긍정입니다.\n"
     ]
    }
   ],
   "source": [
    "text = \"참 잘 만든 영화예요\"\n",
    "x_text = token.texts_to_sequences([text])\n",
    "padded_x_text = pad_sequences(x_text, 4)\n",
    "# 예측\n",
    "result = model.predict(padded_x_text)\n",
    "print(result)\n",
    "print(type(result))\n",
    "if result[0 , 0] >= 0.5:\n",
    "    print(f\"'{text}'는 긍정입니다.\")\n",
    "else:\n",
    "    print(f\"'{text}'는 부정입니다.\")"
   ]
  },
  {
   "cell_type": "code",
   "execution_count": null,
   "id": "60fa4b9d-f96d-49ce-bb4c-7f87dd8592a8",
   "metadata": {},
   "outputs": [],
   "source": []
  },
  {
   "cell_type": "code",
   "execution_count": null,
   "id": "4b5ad291-b494-40cf-963a-9a104f4b3e2c",
   "metadata": {},
   "outputs": [],
   "source": []
  },
  {
   "cell_type": "code",
   "execution_count": null,
   "id": "db3c7de5-d8fc-4007-bb98-627c4a8446cf",
   "metadata": {},
   "outputs": [],
   "source": []
  },
  {
   "cell_type": "code",
   "execution_count": null,
   "id": "587e013f-da41-4c9f-933e-ebfa550c58c3",
   "metadata": {},
   "outputs": [],
   "source": []
  },
  {
   "cell_type": "code",
   "execution_count": null,
   "id": "251d628a-01f1-46bb-bac8-419b1407ebd0",
   "metadata": {},
   "outputs": [],
   "source": []
  }
 ],
 "metadata": {
  "kernelspec": {
   "display_name": "Python 3 (ipykernel)",
   "language": "python",
   "name": "python3"
  },
  "language_info": {
   "codemirror_mode": {
    "name": "ipython",
    "version": 3
   },
   "file_extension": ".py",
   "mimetype": "text/x-python",
   "name": "python",
   "nbconvert_exporter": "python",
   "pygments_lexer": "ipython3",
   "version": "3.11.7"
  }
 },
 "nbformat": 4,
 "nbformat_minor": 5
}
