{
 "cells": [
  {
   "cell_type": "code",
   "execution_count": 1,
   "id": "9daa6f22-b829-4ba0-a9ac-12acc654cdfd",
   "metadata": {},
   "outputs": [
    {
     "name": "stdout",
     "output_type": "stream",
     "text": [
      "\n"
     ]
    }
   ],
   "source": [
    "'''\n",
    "activation\n",
    "활성화 함수 : linear(선형회귀) : 연속적인 값에 대한 결과를 가져올 때 \n",
    "             sigmoid(참/거짓:이항) : 렐루(ReLU), \n",
    "                                    하이퍼볼릭 탄젠트(hyperbolic tangent) \n",
    "                                    소프트플러스(softplus) \n",
    "             softmax(다항분류 : 출력결과가 여러개인 경우) : 0.2 + 0.6 + 0.3 = 1 :최고값이 답\n",
    "loss              \n",
    "손실 함수 : 평균제곱 오차(mse) : mean_squared_error \n",
    "           평균절대 오차(mae)\n",
    "           평균절대백분율오차(mape)\n",
    "           평균제곱로그오차(msle) \n",
    "           이항교차엔트로피(binary_crossentropy):이항분류\n",
    "           범주형교차엔트로피(calegorical_crossentropy) : 다항분류\n",
    "optimizer           \n",
    "오차 수정 함수: 경사 하강법(gd) : 확률적경사하강법(sgd) : 아다그라이드(adagrad) : 알엠에스프롭(RMSProp) : 아담(adam)\n",
    "                                                       모멘텀(momentum)                            : 아담(adam)\n",
    "metrics                                                                                                   : 네스레포트 모멘텀(NAG) \n",
    "모델 수행의 결과 출력 :  \n",
    "            accuracy : 학습셋에 대한 정확도에 기반해 결과를 출력 \n",
    "            loss : 학습셋에 대한 손실 값을 나타냄\n",
    "            val_acc : 테스트셋에 대한 정확도를 나타냄\n",
    "            val_loss : 테스트셋에 대한 손실 값을 나타냄\n",
    "'''\n",
    "print()              "
   ]
  },
  {
   "cell_type": "code",
   "execution_count": 14,
   "id": "69bb242f-6e74-4d91-8e37-a1bb25339f59",
   "metadata": {},
   "outputs": [
    {
     "data": {
      "text/plain": [
       "0       208500\n",
       "1       181500\n",
       "2       223500\n",
       "3       140000\n",
       "4       250000\n",
       "         ...  \n",
       "1455    175000\n",
       "1456    210000\n",
       "1457    266500\n",
       "1458    142125\n",
       "1459    147500\n",
       "Name: SalePrice, Length: 1460, dtype: int64"
      ]
     },
     "execution_count": 14,
     "metadata": {},
     "output_type": "execute_result"
    }
   ],
   "source": [
    "from tensorflow.keras.models import Sequential\n",
    "from tensorflow.keras.layers import Dense\n",
    "from tensorflow.keras.callbacks import EarlyStopping, ModelCheckpoint\n",
    "from sklearn.model_selection import train_test_split\n",
    "import pandas as pd\n",
    "import numpy as np\n",
    "\n",
    "#데이터를 불러 옴\n",
    "df = pd.read_csv(\"https://raw.githubusercontent.com/SoongMoo/soldesk20231218/main/data/house_train.csv\")\n",
    "df\n",
    "# NaN확인\n",
    "df.isnull().sum().sort_values(ascending=False).head(20)\n",
    "# 원-핫 인코딩\n",
    "#카테고리형 변수를 0과 1로 이루어진 변수\n",
    "df = pd.get_dummies(df)\n",
    "#결측치를 각 칼럼의 평균으로 대체\n",
    "df = df.fillna(df.mean())\n",
    "df\n",
    "# 속성과 클래스로 분리\n",
    "#모델의 구조를 설정합니다\n",
    "#model = Sequential()\n",
    "#model.add(Dense(10, input_dim=30, activation='relu'))\n",
    "#model.add(Dense(30, activation='relu'))\n",
    "#model.add(Dense(40, activation='relu'))\n",
    "#model.add(Dense(1))\n",
    "#모델 실행\n",
    "#model.compile(optimizer ='adam', loss = 'mean_squared_error')\n",
    "#history = model.fit(X_train, y_train, epochs=2000, batch_size=32)"
   ]
  },
  {
   "cell_type": "code",
   "execution_count": null,
   "id": "bd9f344a-cb13-4a8f-b645-2381b44ca92c",
   "metadata": {},
   "outputs": [],
   "source": [
    "\n"
   ]
  }
 ],
 "metadata": {
  "kernelspec": {
   "display_name": "Python 3 (ipykernel)",
   "language": "python",
   "name": "python3"
  },
  "language_info": {
   "codemirror_mode": {
    "name": "ipython",
    "version": 3
   },
   "file_extension": ".py",
   "mimetype": "text/x-python",
   "name": "python",
   "nbconvert_exporter": "python",
   "pygments_lexer": "ipython3",
   "version": "3.11.7"
  }
 },
 "nbformat": 4,
 "nbformat_minor": 5
}
