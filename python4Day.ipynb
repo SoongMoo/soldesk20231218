{
 "cells": [
  {
   "cell_type": "code",
   "execution_count": 1,
   "id": "6fbd46ef-6a5c-406d-9c18-9efea6957ed7",
   "metadata": {},
   "outputs": [
    {
     "name": "stdout",
     "output_type": "stream",
     "text": [
      "5050\n"
     ]
    }
   ],
   "source": [
    "### bnreak, continue\n",
    "### 1 ~ 100까지의 합을 구하시오.\n",
    "sum1 = 0\n",
    "i = 1\n",
    "while i <= 100:\n",
    "    sum1 += i\n",
    "    i += 1\n",
    "print(sum1)"
   ]
  },
  {
   "cell_type": "code",
   "execution_count": 5,
   "id": "0147f997-764c-4bac-af09-f15602f43357",
   "metadata": {},
   "outputs": [
    {
     "name": "stdout",
     "output_type": "stream",
     "text": [
      "2500\n",
      "2500\n"
     ]
    }
   ],
   "source": [
    "### 홀수의 합을 구하시오,\n",
    "sum1 = 0\n",
    "i = 1\n",
    "while i <= 100:\n",
    "    if i % 2 != 0:\n",
    "        sum1 += i\n",
    "    i += 1\n",
    "print(sum1)\n",
    "\n",
    "sum1 = 0\n",
    "i = 0\n",
    "while i < 100:\n",
    "    i += 1\n",
    "    if i % 2 == 0:\n",
    "        continue\n",
    "    sum1 += i\n",
    "print(sum1)"
   ]
  },
  {
   "cell_type": "code",
   "execution_count": 8,
   "id": "794b3019-5aeb-40d1-b09e-f4345d2aae7b",
   "metadata": {},
   "outputs": [
    {
     "name": "stdout",
     "output_type": "stream",
     "text": [
      "2550\n",
      "2550\n"
     ]
    }
   ],
   "source": [
    "### 짝수의 합을 구하시오.\n",
    "sum1 = 0\n",
    "i = 1\n",
    "while i <= 100:\n",
    "    if i % 2 == 0:\n",
    "        sum1 += i\n",
    "    i += 1\n",
    "print(sum1)\n",
    "\n",
    "sum1 = 0\n",
    "i = 0\n",
    "while i < 100:\n",
    "    i += 1\n",
    "    if i % 2 != 0:\n",
    "        continue\n",
    "    sum1 += i\n",
    "print(sum1)"
   ]
  },
  {
   "cell_type": "code",
   "execution_count": 10,
   "id": "e0b153f8-2955-41c7-9cd8-18d044afc9b9",
   "metadata": {},
   "outputs": [
    {
     "name": "stdout",
     "output_type": "stream",
     "text": [
      "5050\n",
      "[1, 2, 3, 4]\n"
     ]
    }
   ],
   "source": [
    "sum1 = 0\n",
    "i = 1\n",
    "while True:\n",
    "    if i == 101:\n",
    "        break\n",
    "    sum1 += i\n",
    "    i += 1\n",
    "print(sum1)\n",
    "l = [1,2,3,4,5,6]\n",
    "#    0 1 2 3 4\n",
    "print(l[0:4]) # start = 0 , stop = 4"
   ]
  },
  {
   "cell_type": "code",
   "execution_count": 16,
   "id": "ee7bae54-8e46-4e94-9044-9a618be125a8",
   "metadata": {},
   "outputs": [
    {
     "name": "stdout",
     "output_type": "stream",
     "text": [
      "10\n",
      "10\n",
      "10\n",
      "20\n",
      "0\n"
     ]
    }
   ],
   "source": [
    "#### forEach\n",
    "l = [1,2,3,4]\n",
    "sum1 = 0\n",
    "idx = 0\n",
    "while idx < len(l):\n",
    "    sum1 += l[idx]\n",
    "    idx += 1\n",
    "print(sum1)\n",
    "print(sum(l))\n",
    "\n",
    "sum1 =0\n",
    "for num in l:  #[1,2,3,4]\n",
    "    sum1 += num\n",
    "print(sum1)\n",
    "\n",
    "for num in [1,2,3,4]:\n",
    "    sum1 += num\n",
    "print(sum1)\n",
    "\n",
    "sum1 = 0\n",
    "for idx in range(0,len(l)):\n",
    "    sum1 + l[idx]\n",
    "print(sum1)"
   ]
  },
  {
   "cell_type": "code",
   "execution_count": 18,
   "id": "1d418ef1-c926-4b24-a5b2-add29d551f22",
   "metadata": {},
   "outputs": [
    {
     "name": "stdout",
     "output_type": "stream",
     "text": [
      "5050\n",
      "5050\n"
     ]
    }
   ],
   "source": [
    "# 1 ~ 100 까지 합\n",
    "sum1 = 0\n",
    "i = 1\n",
    "while i <= 100:\n",
    "    sum1 += i\n",
    "    i += 1\n",
    "print(sum1)\n",
    "sum1 = 0\n",
    "\n",
    "for num in range(1, 101):\n",
    "    sum1 += num\n",
    "print(sum1)"
   ]
  },
  {
   "cell_type": "code",
   "execution_count": 22,
   "id": "0b1b0ced-602a-4f74-92da-f3ddb4c75ca5",
   "metadata": {},
   "outputs": [
    {
     "name": "stdout",
     "output_type": "stream",
     "text": [
      "2500\n",
      "2500\n"
     ]
    }
   ],
   "source": [
    "### 홀수의 합을 구하시오.\n",
    "sum1 = 0\n",
    "for num  in range(1, 101):\n",
    "    if num % 2 != 0:\n",
    "        sum1 += num\n",
    "print(sum1)\n",
    "\n",
    "sum1 = 0\n",
    "for num in range(1 , 101):\n",
    "    if num % 2 == 0:\n",
    "        continue\n",
    "    sum1 += num\n",
    "print(sum1)"
   ]
  },
  {
   "cell_type": "code",
   "execution_count": 24,
   "id": "a5a4e987-7a62-44ce-8e35-7917fa410b35",
   "metadata": {},
   "outputs": [
    {
     "name": "stdout",
     "output_type": "stream",
     "text": [
      "2550\n",
      "2550\n"
     ]
    }
   ],
   "source": [
    "## 짝수의 합을 구하시오.\n",
    "sum1 = 0\n",
    "for num in range(1 , 101):\n",
    "    if num % 2 == 0:\n",
    "        sum1 += num\n",
    "print(sum1)\n",
    "\n",
    "sum1 = 0\n",
    "for num in range(1, 101):\n",
    "    if num % 2 != 0:\n",
    "        continue\n",
    "    sum1 += num\n",
    "print(sum1)"
   ]
  },
  {
   "cell_type": "code",
   "execution_count": 29,
   "id": "013fea29-9cd5-492d-8e49-f8f71f85738e",
   "metadata": {},
   "outputs": [
    {
     "name": "stdout",
     "output_type": "stream",
     "text": [
      "5050\n",
      "15\n",
      "15\n"
     ]
    }
   ],
   "source": [
    "sum1 = 0\n",
    "for num in range(100000000): # 시작 값이 없으면 0부터 시작한다.\n",
    "    if num == 101:\n",
    "        break\n",
    "    sum1 += num\n",
    "print(sum1)\n",
    "\n",
    "sum1= 0\n",
    "t = (1,2,3,4,5)\n",
    "print(sum(t))\n",
    "for num in t:\n",
    "    sum1 += num\n",
    "print(sum1)"
   ]
  },
  {
   "cell_type": "code",
   "execution_count": 32,
   "id": "f2ebc9ef-0e16-4ef3-b930-68f3b7c27c0d",
   "metadata": {},
   "outputs": [
    {
     "name": "stdout",
     "output_type": "stream",
     "text": [
      "3 * 1 = 3\n",
      "3 * 2 = 6\n",
      "3 * 3 = 9\n",
      "3 * 4 = 12\n",
      "3 * 5 = 15\n",
      "3 * 6 = 18\n",
      "3 * 7 = 21\n",
      "3 * 8 = 24\n",
      "3 * 9 = 27\n",
      "3 * 1 = 3\n",
      "3 * 2 = 6\n",
      "3 * 3 = 9\n",
      "3 * 4 = 12\n",
      "3 * 5 = 15\n",
      "3 * 6 = 18\n",
      "3 * 7 = 21\n",
      "3 * 8 = 24\n",
      "3 * 9 = 27\n"
     ]
    }
   ],
   "source": [
    "# 3단\n",
    "gop = 1\n",
    "while gop <= 9:\n",
    "    print(f\"3 * {gop} = {3 * gop}\")\n",
    "    gop += 1\n",
    "\n",
    "for gop in range(1, 10):\n",
    "    print(f\"3 * {gop} = {3 * gop}\")"
   ]
  },
  {
   "cell_type": "code",
   "execution_count": null,
   "id": "6e3d216a-bc0a-4577-95f6-7963581fe683",
   "metadata": {},
   "outputs": [],
   "source": [
    "for gop in range(1, 10):\n",
    "    print(f\"3 * {gop} = {3 * gop}\")\n",
    "\n",
    "for gop in range(1, 10):\n",
    "    print(f\"4 * {gop} = {4 * gop}\")\n",
    "\n",
    "for gop in range(1, 10):\n",
    "    print(f\"5 * {gop} = {5 * gop}\")"
   ]
  },
  {
   "cell_type": "code",
   "execution_count": null,
   "id": "6a8d2377-6439-4ccb-8b99-220c356879bd",
   "metadata": {},
   "outputs": [],
   "source": [
    "for dan in range(3, 5 + 1):\n",
    "    for gop in range(1, 10):\n",
    "        print(f\"{dan} * {gop} = {dan * gop}\")"
   ]
  },
  {
   "cell_type": "code",
   "execution_count": null,
   "id": "2e140cc9-1df4-4741-8fba-2ccd20641e47",
   "metadata": {},
   "outputs": [],
   "source": [
    "startDan = int(input(\"시작단의 숫자를 입력하세요. : \"))\n",
    "endDan = int(input(\"마지막단의 숫자를 입력하세요. : \"))\n",
    "startGop = int(input(\"시작곱의 숫자를 입력하세요. : \"))\n",
    "endGop = int(input(\"마지막곱의 숫자를 입력하세요. : \"))\n",
    "for dan in range(startDan, endDan + 1):\n",
    "    for gop in range(startGop, endGop + 1):\n",
    "        print(f\"{dan} * {gop} = {dan * gop}\")"
   ]
  },
  {
   "cell_type": "code",
   "execution_count": 49,
   "id": "9c4d2679-60ea-4de0-a7c5-08c22b1719e0",
   "metadata": {},
   "outputs": [
    {
     "name": "stdout",
     "output_type": "stream",
     "text": [
      "4, 11, 24, 7, 28, 26, "
     ]
    }
   ],
   "source": [
    "import random\n",
    "lotto = []\n",
    "for i in range(1, 45 + 1):\n",
    "    lotto.append(i)\n",
    "size = len(lotto) # 45\n",
    "for i in range(6):\n",
    "    size -= 1\n",
    "    idx = random.randint(0, size)\n",
    "    lottoNum = lotto.pop(idx)\n",
    "    print(lottoNum,  end = \", \")"
   ]
  },
  {
   "cell_type": "code",
   "execution_count": 55,
   "id": "a5a76522-6a98-4f9d-977b-2fedab9dd209",
   "metadata": {},
   "outputs": [
    {
     "name": "stdin",
     "output_type": "stream",
     "text": [
      "구매수량을 입력해주세요. :  3\n"
     ]
    },
    {
     "name": "stdout",
     "output_type": "stream",
     "text": [
      "1번 : 17, 18, 10, 4, 2, 14, \n",
      "2번 : 45, 7, 11, 33, 43, 32, \n",
      "3번 : 13, 41, 19, 17, 18, 35, \n"
     ]
    }
   ],
   "source": [
    "import random\n",
    "cnt = int(input(\"구매수량을 입력해주세요. : \"))\n",
    "lotto = []\n",
    "for i in range(cnt):\n",
    "    print(f\"{i + 1}번 : \" , end=\"\")\n",
    "    for i in range(1, 45 + 1):\n",
    "        lotto.append(i)\n",
    "    size = len(lotto) # 45\n",
    "    for i in range(6):\n",
    "        size -= 1\n",
    "        idx = random.randint(0, size)\n",
    "        lottoNum = lotto.pop(idx) # 39\n",
    "        print(lottoNum,  end = \", \")\n",
    "    lotto.clear()\n",
    "    print()"
   ]
  },
  {
   "cell_type": "code",
   "execution_count": 61,
   "id": "1fb2a4b0-d5fb-4f3c-86d0-599a935626bd",
   "metadata": {},
   "outputs": [
    {
     "name": "stdout",
     "output_type": "stream",
     "text": [
      "[1, 2, 3, 4, 5, 6, 7, 8, 9, 10, 11, 12, 13, 14, 15, 16, 17, 18, 19, 20, 21, 22, 23, 24, 25, 26, 27, 28, 29, 30, 31, 32, 33, 34, 35, 36, 37, 38, 39, 40, 41, 42, 43, 44, 45]\n",
      "[1, 2, 3, 4, 5, 6, 7, 8, 9, 10, 11, 12, 13, 14, 15, 16, 17, 18, 19, 20, 21, 22, 23, 24, 25, 26, 27, 28, 29, 30, 31, 32, 33, 34, 35, 36, 37, 38, 39, 40, 41, 42, 43, 44, 45]\n",
      "[3, 6, 9, 12, 15, 18, 21, 24, 27, 30, 33, 36, 39, 42, 45, 48, 51, 54, 57, 60, 63, 66, 69, 72, 75, 78, 81, 84, 87, 90, 93, 96, 99, 102, 105, 108, 111, 114, 117, 120, 123, 126, 129, 132, 135]\n",
      "[3, 6, 9, 12, 15, 18, 21, 24, 27, 30, 33, 36, 39, 42, 45, 48, 51, 54, 57, 60, 63, 66, 69, 72, 75, 78, 81, 84, 87, 90, 93, 96, 99, 102, 105, 108, 111, 114, 117, 120, 123, 126, 129, 132, 135]\n"
     ]
    }
   ],
   "source": [
    "lotto = []\n",
    "for i in range(1, 45 + 1):\n",
    "    lotto.append(i)\n",
    "print(lotto)\n",
    "\n",
    "# list comprehension\n",
    "lotto = [i for i in range(1, 45 + 1) ]\n",
    "print(lotto)\n",
    "\n",
    "lotto = []\n",
    "for i in range(1, 45 + 1):\n",
    "    lotto.append(i * 3)\n",
    "print(lotto)\n",
    "lotto = [i * 3 for i in range(1, 45 + 1) ]\n",
    "print(lotto)"
   ]
  },
  {
   "cell_type": "code",
   "execution_count": 63,
   "id": "fad77607-ad91-4afe-b17d-8e432b429057",
   "metadata": {},
   "outputs": [
    {
     "name": "stdout",
     "output_type": "stream",
     "text": [
      "[3, 6, 9, 12]\n",
      "[3, 6, 9, 12]\n"
     ]
    }
   ],
   "source": [
    "# 튜플요소에 3을 곱한 값을 리스트에 추가\n",
    "t = (1,2,3,4)\n",
    "l = []\n",
    "for num  in t:\n",
    "    l.append(num * 3)\n",
    "print(l)\n",
    "\n",
    "l = [num * 3 for num  in t]\n",
    "print(l)"
   ]
  },
  {
   "cell_type": "code",
   "execution_count": 68,
   "id": "af82cf2b-950c-4337-8143-dba0c46e2ab6",
   "metadata": {},
   "outputs": [
    {
     "name": "stdout",
     "output_type": "stream",
     "text": [
      "[6, 12, 18, 24, 30]\n",
      "[6, 12, 18, 24, 30]\n"
     ]
    }
   ],
   "source": [
    "# 튜플요소에서 짝수인 요소만 3을 곱해서 추가\n",
    "t = 1,2,3,4,5,6,7,8,9,10\n",
    "l = []\n",
    "for num in t:\n",
    "    if num % 2 == 0:\n",
    "        l.append(num * 3)\n",
    "print(l)\n",
    "\n",
    "l = [num * 3 for num in t if num % 2 == 0] \n",
    "print(l)"
   ]
  },
  {
   "cell_type": "code",
   "execution_count": 72,
   "id": "53e54e19-d042-4808-bcb7-b525204c783a",
   "metadata": {},
   "outputs": [
    {
     "name": "stdout",
     "output_type": "stream",
     "text": [
      "[3, 6, 9, 12, 15, 18, 21, 24, 27, 4, 8, 12, 16, 20, 24, 28, 32, 36, 5, 10, 15, 20, 25, 30, 35, 40, 45]\n",
      "[3, 6, 9, 12, 15, 18, 21, 24, 27, 4, 8, 12, 16, 20, 24, 28, 32, 36, 5, 10, 15, 20, 25, 30, 35, 40, 45]\n"
     ]
    }
   ],
   "source": [
    "#3단 부터 5단까의 값을 리스트에 추가\n",
    "l = [] \n",
    "for dan in range(3, 6):\n",
    "    for gop in range(1, 10):\n",
    "        l.append( dan * gop)\n",
    "print(l)\n",
    "\n",
    "l = [dan * gop for dan in range(3, 6) \n",
    "               for gop in range(1, 10)]\n",
    "print(l)"
   ]
  },
  {
   "cell_type": "code",
   "execution_count": 74,
   "id": "5a2e02bd-d698-491d-a327-564733ef5a4b",
   "metadata": {},
   "outputs": [
    {
     "name": "stdout",
     "output_type": "stream",
     "text": [
      "[6, 12, 18, 24, 8, 16, 24, 32, 10, 20, 30, 40]\n",
      "[6, 12, 18, 24, 8, 16, 24, 32, 10, 20, 30, 40]\n"
     ]
    }
   ],
   "source": [
    "#3단 부터 5단까의 값중 곱이 짝인 것만 리스트에 추가\n",
    "l = [] \n",
    "for dan in range(3, 6):\n",
    "    for gop in range(1, 10):\n",
    "        if gop % 2 == 0:\n",
    "            l.append( dan * gop)\n",
    "print(l)\n",
    "\n",
    "l = [ dan * gop for dan in range(3, 6) \n",
    "                for gop in range(1, 10) if gop % 2 == 0] \n",
    "print(l)"
   ]
  },
  {
   "cell_type": "code",
   "execution_count": null,
   "id": "4dfcf762-7db1-4172-95f9-732cc7ecb3c7",
   "metadata": {},
   "outputs": [],
   "source": [
    "l1 = [(1,2),(3,4),(5,6)]\n",
    "#       0     1     2\n",
    "print(l1[0]) # (1, 2)\n",
    "print(l1[1]) # (3, 4)\n",
    "print(l1[2]) # (5, 6)\n",
    "a , b = l1[0]\n",
    "print(a, b)\n",
    "for y in l1:\n",
    "    print(y)\n",
    "for a, b in l1:\n",
    "    print(a,  b)\n",
    "    print(a + b)"
   ]
  },
  {
   "cell_type": "code",
   "execution_count": null,
   "id": "474ff4a9-e8fc-4bb0-9d09-46254c9b2d5b",
   "metadata": {},
   "outputs": [],
   "source": [
    "l2 = [[1,2,3],(4,5,6),(7,8,9)]\n",
    "for y in l2:\n",
    "    print(y)\n",
    "for a,b,c in l2:\n",
    "    print(a, b, c)"
   ]
  },
  {
   "cell_type": "code",
   "execution_count": 88,
   "id": "50adeb67-c3ef-4575-bbfd-cca3feb1e2eb",
   "metadata": {},
   "outputs": [
    {
     "name": "stdout",
     "output_type": "stream",
     "text": [
      "[1, 2]\n",
      "[3, 4, 5, 6]\n",
      "[7, 8, 9]\n",
      "7 8 9\n"
     ]
    },
    {
     "ename": "ValueError",
     "evalue": "not enough values to unpack (expected 3, got 2)",
     "output_type": "error",
     "traceback": [
      "\u001b[1;31m---------------------------------------------------------------------------\u001b[0m",
      "\u001b[1;31mValueError\u001b[0m                                Traceback (most recent call last)",
      "Cell \u001b[1;32mIn[88], line 8\u001b[0m\n\u001b[0;32m      6\u001b[0m \u001b[38;5;28mprint\u001b[39m(a,b,c)\n\u001b[0;32m      7\u001b[0m \u001b[38;5;66;03m#a,b = [7, 8, 9]\u001b[39;00m\n\u001b[1;32m----> 8\u001b[0m a,b,c \u001b[38;5;241m=\u001b[39m [\u001b[38;5;241m7\u001b[39m, \u001b[38;5;241m8\u001b[39m]\n",
      "\u001b[1;31mValueError\u001b[0m: not enough values to unpack (expected 3, got 2)"
     ]
    }
   ],
   "source": [
    "l3 = [[1,2], [3,4,5,6], [7,8,9]]\n",
    "for y in l3:\n",
    "    print(y)\n",
    "\n",
    "a,b,c = [7, 8, 9]\n",
    "print(a,b,c)\n",
    "#a,b = [7, 8, 9]\n",
    "#a,b,c = [7, 8]\n",
    "'''\n",
    "for a,b,c in l3: #리스트에 있는요소의 크기가 달라 오류 발생\n",
    "    print(a,b,c)\n",
    "'''"
   ]
  },
  {
   "cell_type": "code",
   "execution_count": 112,
   "id": "80a7fb27-c22c-4403-9952-7e0d8f2e5fc5",
   "metadata": {},
   "outputs": [
    {
     "name": "stdout",
     "output_type": "stream",
     "text": [
      "2023-12-21 11:42:44.886880\n",
      "2023 년\n",
      "12 월\n",
      "21 일\n",
      "11 시\n",
      "42 분\n",
      "44 초\n",
      "<class 'int'>\n",
      "2023년12월21일 11시32분15초\n",
      "2023년12월21일 11시42분44초\n",
      "2023년12월21일 11시42분44초\n",
      "2023년12월21일 11시42분44초\n",
      "오전 11시\n"
     ]
    }
   ],
   "source": [
    "import datetime\n",
    "now = datetime.datetime.now()\n",
    "print(now)\n",
    "print(now.year, \"년\")\n",
    "print(now.month, \"월\")\n",
    "print(now.day, \"일\")\n",
    "print(now. hour, \"시\")\n",
    "print(now.minute, \"분\")\n",
    "print(now.second, \"초\")\n",
    "print(type(now.second))\n",
    "print(\"2023년12월21일 11시32분15초\")\n",
    "print(\"%d년%d월%d일 %d시%d분%d초\" % (now.year, now.month, \\\n",
    "                                    now.day, now. hour, \\\n",
    "                                    now.minute,now.second ))\n",
    "print(\"{}년{}월{}일 {}시{}분{}초\".format(now.year, now.month, \\\n",
    "                                        now.day, now. hour, \\\n",
    "                                        now.minute,now.second )  )\n",
    "print(f\"{now.year}년{now.month}월{now.day}일\",\\\n",
    "      f\"{now.hour}시{now.minute}분{now.second}초\")\n",
    "# 오전이면 \"오전\"를 출력, 오후이면 \"오후\"출력\n",
    "if now.hour < 12:\n",
    "    print(f\"오전 {now.hour}시\")\n",
    "if now.hour >= 12:\n",
    "    print(f\"오후 {now.hour}시\")"
   ]
  },
  {
   "cell_type": "code",
   "execution_count": 114,
   "id": "338f2c91-cfd1-45da-89f1-203c1bef3696",
   "metadata": {},
   "outputs": [
    {
     "name": "stdout",
     "output_type": "stream",
     "text": [
      "12월은 겨울입니다.\n"
     ]
    }
   ],
   "source": [
    "# 봄, 여름 , 가을 , 겨울을 출력하세요.\n",
    "if now.month >= 3 and now.month <= 5:\n",
    "    print(f\"{now.month}월은 봄입니다.\")\n",
    "if now.month >= 6 and now.month <= 8:\n",
    "    print(f\"{now.month}월은 여름입니다.\")\n",
    "if now.month >= 9 and now.month <= 11:\n",
    "    print(f\"{now.month}월은 가을입니다.\")\n",
    "if now.month == 12 or now.month >= 1 and now.month <= 2:\n",
    "    print(f\"{now.month}월은 겨울입니다.\")"
   ]
  },
  {
   "cell_type": "code",
   "execution_count": null,
   "id": "5c2d3fd3-87e5-44de-a6d8-99fcecd3f9c0",
   "metadata": {},
   "outputs": [],
   "source": [
    "if now.month >= 3 and now.month <= 5:\n",
    "    print(f\"{now.month}월은 봄입니다.\")\n",
    "elif now.month >= 6 and now.month <= 8:\n",
    "    print(f\"{now.month}월은 여름입니다.\")\n",
    "elif now.month >= 9 and now.month <= 11:\n",
    "    print(f\"{now.month}월은 가을입니다.\")\n",
    "else:\n",
    "    print(f\"{now.month}월은 겨울입니다.\")"
   ]
  },
  {
   "cell_type": "code",
   "execution_count": 116,
   "id": "598f435c-98f5-41b5-afad-9db789862ef9",
   "metadata": {},
   "outputs": [
    {
     "name": "stdout",
     "output_type": "stream",
     "text": [
      "작다\n"
     ]
    },
    {
     "data": {
      "text/plain": [
       "30"
      ]
     },
     "execution_count": 116,
     "metadata": {},
     "output_type": "execute_result"
    }
   ],
   "source": [
    "i = 10\n",
    "if not i < 20: # not True : False\n",
    "    print(\"크다\")\n",
    "else:\n",
    "    print(\"작다\")\n",
    "i = 10\n",
    "j = 20\n",
    "i + j\n",
    "\n",
    "del l[:]\n",
    "l.clear()\n",
    "json= {1:\"이\", 2: \"숭\"}"
   ]
  },
  {
   "cell_type": "code",
   "execution_count": 120,
   "id": "228b68ef-3e55-4aa0-b2c2-737a49ff18b9",
   "metadata": {},
   "outputs": [
    {
     "name": "stdout",
     "output_type": "stream",
     "text": [
      "{'name': '이숭무'}\n",
      "{'name': '이숭무', 'age': 30}\n",
      "{'name': '이숭무', 'age': 30, 'height': 173.5}\n",
      "173.5\n"
     ]
    }
   ],
   "source": [
    "dic = {}\n",
    "dic['name'] = \"이숭무\"\n",
    "print(dic)\n",
    "dic['age'] = 30\n",
    "print(dic)\n",
    "dic['height'] = 173.5\n",
    "print(dic)\n",
    "key = 'height'\n",
    "if key in dic:\n",
    "    print(dic[key])\n",
    "else:\n",
    "    print(\"키가 없습니다.\")"
   ]
  },
  {
   "cell_type": "code",
   "execution_count": 124,
   "id": "18327609-d3c3-487e-be76-1e83788c3e69",
   "metadata": {},
   "outputs": [
    {
     "name": "stdout",
     "output_type": "stream",
     "text": [
      "{'name': '이숭무', 'age': 30, 'height': 173.5}\n",
      "name : 이숭무\n",
      "age : 30\n",
      "height : 173.5\n"
     ]
    }
   ],
   "source": [
    "print(dic)\n",
    "for key in dic: # {'name': '이숭무', 'age': 30, 'height': 173.5}\n",
    "    print(key , \":\" , dic[key])"
   ]
  },
  {
   "cell_type": "code",
   "execution_count": 127,
   "id": "d1478bc0-e18c-4bc1-8b09-9b37eaf97816",
   "metadata": {},
   "outputs": [
    {
     "name": "stdout",
     "output_type": "stream",
     "text": [
      "[1, 3, 5]\n",
      "1\n",
      "3\n",
      "5\n",
      "7\n",
      "9\n"
     ]
    }
   ],
   "source": [
    "l = [1,2,3,4,5,6]\n",
    "print(l[::2])\n",
    "\n",
    "for num in range(1 , 1 + 10 , 2):\n",
    "    print(num)"
   ]
  },
  {
   "cell_type": "code",
   "execution_count": 134,
   "id": "28d4ef37-fd7e-4804-b96b-5ed2b1ba6837",
   "metadata": {},
   "outputs": [
    {
     "name": "stdout",
     "output_type": "stream",
     "text": [
      "range(0, 10)\n",
      "[0, 1, 2, 3, 4, 5, 6, 7, 8, 9]\n",
      "(0, 1, 2, 3, 4, 5, 6, 7, 8, 9)\n",
      "{0, 1, 2, 3, 4, 5, 6, 7, 8, 9}\n",
      "문자열 : range(0, 10)\n"
     ]
    }
   ],
   "source": [
    "print(range(10))\n",
    "l = list(range(10))\n",
    "print(l)\n",
    "t = tuple(range(10))\n",
    "print(t)\n",
    "ss = set(range(10))\n",
    "print(ss)\n",
    "str1 =  str(range(10))\n",
    "print(\"문자열 : \" + str1)"
   ]
  },
  {
   "cell_type": "code",
   "execution_count": 139,
   "id": "764e8504-80cb-44a5-badc-9d61911be85c",
   "metadata": {},
   "outputs": [
    {
     "name": "stdout",
     "output_type": "stream",
     "text": [
      "5.0\n",
      "0\n",
      "1\n",
      "2\n",
      "3\n",
      "4\n",
      "0\n",
      "1\n",
      "2\n",
      "3\n",
      "4\n"
     ]
    }
   ],
   "source": [
    "n = 10\n",
    "print(n / 2) # 실수\n",
    "'''\n",
    "for i in range(0, n/2):\n",
    "    print(i)\n",
    "'''\n",
    "for i in range(0, int(n/2)):\n",
    "    print(i)\n",
    "for i in range(0, n//2):\n",
    "    print(i)"
   ]
  },
  {
   "cell_type": "code",
   "execution_count": 143,
   "id": "145f5c4b-2efe-4329-a214-cee70aea4557",
   "metadata": {},
   "outputs": [
    {
     "name": "stdout",
     "output_type": "stream",
     "text": [
      "7\n",
      "28\n"
     ]
    }
   ],
   "source": [
    "l = [1,2,3,4,5,6,7]\n",
    "#    0 1 2 3 4 5 6\n",
    "print(len(l))\n",
    "sum1 = 0 \n",
    "for idx in range(len(l)):\n",
    "    sum1 += l[idx]\n",
    "print(sum1)"
   ]
  },
  {
   "cell_type": "code",
   "execution_count": 151,
   "id": "05ad76c7-9fd4-409a-97d9-33a4a3cf653b",
   "metadata": {},
   "outputs": [
    {
     "name": "stdout",
     "output_type": "stream",
     "text": [
      "0\n",
      "1\n",
      "2\n",
      "3\n",
      "4\n",
      "5\n",
      "6\n",
      "7\n",
      "8\n",
      "9\n",
      "[6, 5, 4, 3, 2, 1]\n",
      "[2, 3, 4, 5, 6]\n",
      "[6, 5, 4, 3, 2]\n",
      "10\n",
      "9\n",
      "8\n",
      "7\n",
      "6\n",
      "5\n",
      "4\n",
      "3\n",
      "2\n",
      "4\n",
      "3\n",
      "2\n",
      "1\n",
      "0\n"
     ]
    }
   ],
   "source": [
    "for num in range(10):\n",
    "    print(num)\n",
    "l = [1,2,3,4,5,6]\n",
    "print(l[::-1])\n",
    "print(l[1:6])\n",
    "print(l[5:0:-1])\n",
    "for num in range(10, 2-1, -1):\n",
    "    print(num)\n",
    "for num in reversed(range(5)): # 0 ~ 4\n",
    "    print(num)"
   ]
  },
  {
   "cell_type": "code",
   "execution_count": 152,
   "id": "a5878546-79a2-48d7-8a9a-8e43b909af69",
   "metadata": {},
   "outputs": [
    {
     "name": "stdout",
     "output_type": "stream",
     "text": [
      "[1, 1]\n"
     ]
    }
   ],
   "source": [
    "l = [1,2,1,2]\n",
    "value = 2\n",
    "\n",
    "while value in l:\n",
    "    l.remove(value)\n",
    "print(l)"
   ]
  },
  {
   "cell_type": "code",
   "execution_count": 160,
   "id": "fa7dce27-5f5d-489b-8104-67b4194b2c20",
   "metadata": {},
   "outputs": [
    {
     "name": "stdout",
     "output_type": "stream",
     "text": [
      "5초 동안 41705847번 반복합니다. \n"
     ]
    }
   ],
   "source": [
    "import time\n",
    "time.time() # timestamp : 1970년 1월 1일 0시0분0초 001미리초 : 0\n",
    "target_tick = time.time() + 5 #  5초\n",
    "i = 0\n",
    "while time.time() < target_tick: # 5초가 지나는 동안 반복을 해라.\n",
    "    i += 1\n",
    "print(f\"5초 동안 {i}번 반복합니다. \")"
   ]
  },
  {
   "cell_type": "code",
   "execution_count": 161,
   "id": "3deff001-f039-43e5-8c14-59eefda526e6",
   "metadata": {},
   "outputs": [
    {
     "name": "stdin",
     "output_type": "stream",
     "text": [
      "로또 구매 수량을 입력해 주세요. :  3\n"
     ]
    },
    {
     "name": "stdout",
     "output_type": "stream",
     "text": [
      "43, 38, 18, 27, 15, 12, \n",
      "29, 17, 35, 24, 33, 9, \n",
      "25, 36, 43, 30, 13, 21, \n"
     ]
    }
   ],
   "source": [
    "import random\n",
    "lottoCnt = int(input(\"로또 구매 수량을 입력해 주세요. : \"))\n",
    "qty= 0\n",
    "while True:\n",
    "    if qty == lottoCnt:\n",
    "        break;\n",
    "    lotto = []\n",
    "    i = 1\n",
    "    while i <= 45:\n",
    "        lotto.append(i)\n",
    "        i += 1 \n",
    "    size = len(lotto) # 45\n",
    "    cnt = 1\n",
    "    while cnt <= 6:\n",
    "        size -= 1\n",
    "        idx = random.randint(0, size) \n",
    "        result = lotto.pop(idx) # 0 ~ 44\n",
    "        print(result, end =\", \" )\n",
    "        cnt += 1\n",
    "    print()\n",
    "    qty += 1"
   ]
  },
  {
   "cell_type": "code",
   "execution_count": 164,
   "id": "91f4e727-a5af-4a7f-9f27-354468d31b22",
   "metadata": {},
   "outputs": [
    {
     "name": "stdin",
     "output_type": "stream",
     "text": [
      "계속 진행하려면 'Y'를 누르고 멈추려면 아무키나 누르시오 .  y\n"
     ]
    },
    {
     "name": "stdout",
     "output_type": "stream",
     "text": [
      "21, 25, 18, 45, 40, 37, \n"
     ]
    },
    {
     "name": "stdin",
     "output_type": "stream",
     "text": [
      "계속 진행하려면 'Y'를 누르고 멈추려면 아무키나 누르시오 .  y\n"
     ]
    },
    {
     "name": "stdout",
     "output_type": "stream",
     "text": [
      "40, 21, 24, 13, 12, 23, \n"
     ]
    },
    {
     "name": "stdin",
     "output_type": "stream",
     "text": [
      "계속 진행하려면 'Y'를 누르고 멈추려면 아무키나 누르시오 .  Y\n"
     ]
    },
    {
     "name": "stdout",
     "output_type": "stream",
     "text": [
      "8, 30, 7, 1, 15, 10, \n"
     ]
    },
    {
     "name": "stdin",
     "output_type": "stream",
     "text": [
      "계속 진행하려면 'Y'를 누르고 멈추려면 아무키나 누르시오 .   \n"
     ]
    }
   ],
   "source": [
    "import random\n",
    "qty= 0\n",
    "while True:\n",
    "    result = input(\"계속 진행하려면 'Y'를 누르고 멈추려면 아무키나 누르시오 . \")\n",
    "    if result not in ['Y', 'y'] :\n",
    "        break;\n",
    "    lotto = []\n",
    "    i = 1\n",
    "    while i <= 45:\n",
    "        lotto.append(i)\n",
    "        i += 1 \n",
    "    size = len(lotto) # 45\n",
    "    cnt = 1\n",
    "    while cnt <= 6:\n",
    "        size -= 1\n",
    "        idx = random.randint(0, size) \n",
    "        result = lotto.pop(idx) # 0 ~ 44\n",
    "        print(result, end =\", \" )\n",
    "        cnt += 1\n",
    "    print()\n",
    "    qty += 1"
   ]
  },
  {
   "cell_type": "code",
   "execution_count": 173,
   "id": "5003cdbd-a8fd-4efb-82eb-03020cd60869",
   "metadata": {},
   "outputs": [
    {
     "name": "stdout",
     "output_type": "stream",
     "text": [
      "21\n",
      "1\n",
      "6\n",
      "21\n",
      "1\n",
      "6\n"
     ]
    }
   ],
   "source": [
    "l = [1,2,3,4,5,6]\n",
    "print(sum(l))\n",
    "print(min(l))\n",
    "print(max(l))\n",
    "t = 1,2,3,4,5,6\n",
    "print(sum(t))\n",
    "print(min(t))\n",
    "print(max(t))"
   ]
  },
  {
   "cell_type": "code",
   "execution_count": null,
   "id": "1e315748-32d1-404a-a4dc-a875c485444f",
   "metadata": {},
   "outputs": [],
   "source": [
    "print(l[1:5])\n",
    "print(l[4:0:-1])\n",
    "print(list(reversed(l[1:5])))\n",
    "print(l[::-1])\n",
    "for num in l[::-1]:\n",
    "    print(num)\n",
    "for num in reversed(l):\n",
    "    print(num)"
   ]
  },
  {
   "cell_type": "code",
   "execution_count": 192,
   "id": "fecd7264-079a-48d3-812a-60197e719a28",
   "metadata": {},
   "outputs": [
    {
     "name": "stdout",
     "output_type": "stream",
     "text": [
      "[1, 2, 3, 4, 5, 6]\n",
      "0번 요소의 값은 1입니다.\n",
      "1번 요소의 값은 2입니다.\n",
      "2번 요소의 값은 3입니다.\n",
      "3번 요소의 값은 4입니다.\n",
      "4번 요소의 값은 5입니다.\n",
      "5번 요소의 값은 6입니다.\n",
      "\n",
      "0번 요소의 값은 1입니다.\n",
      "1번 요소의 값은 2입니다.\n",
      "2번 요소의 값은 3입니다.\n",
      "3번 요소의 값은 4입니다.\n",
      "4번 요소의 값은 5입니다.\n",
      "5번 요소의 값은 6입니다.\n"
     ]
    }
   ],
   "source": [
    "print(l)\n",
    "for idx in range(len(l)): \n",
    "    print(f\"{idx}번 요소의 값은 {l[idx]}입니다.\")\n",
    "print()\n",
    "for idx, value in enumerate(l): # index와 value를 같이 반환\n",
    "    print(f\"{idx}번 요소의 값은 {value}입니다.\")"
   ]
  },
  {
   "cell_type": "code",
   "execution_count": 193,
   "id": "11065a5d-7c9f-4537-ba60-d6fe91b1fd15",
   "metadata": {},
   "outputs": [],
   "source": [
    "#  함수 : x변화에 따른 y가 어떻게 변화는 지 알기 위해서 \n",
    "'''\n",
    "f(x) = 3x + 5이라면\n",
    "y = f(3)일 때 y값은? y = 14\n",
    "y = f(5)일 때 y값은? y = 20\n",
    "'''\n",
    "def f(x):\n",
    "    return 3*x + 5"
   ]
  },
  {
   "cell_type": "code",
   "execution_count": 195,
   "id": "df6ba8ab-8d77-4e3c-8f6e-ba7dc5c64ddc",
   "metadata": {},
   "outputs": [
    {
     "name": "stdout",
     "output_type": "stream",
     "text": [
      "14\n",
      "20\n"
     ]
    }
   ],
   "source": [
    "y = f(3)\n",
    "print(y)\n",
    "y = f(5)\n",
    "print(y)"
   ]
  },
  {
   "cell_type": "code",
   "execution_count": 196,
   "id": "37b38311-26ad-43d9-901f-2291f68060be",
   "metadata": {},
   "outputs": [],
   "source": [
    "'''\n",
    "f(x1, x2) = x1 * 3 + x2 * 5 + 10이라면\n",
    "y = f(3, 5)일 때 y값은 ?\n",
    "y = f(4, 6)일 때 y값은 ?\n",
    "'''\n",
    "def f(x1, x2):\n",
    "    return x1 * 3 + x2 * 5 + 10"
   ]
  },
  {
   "cell_type": "code",
   "execution_count": 198,
   "id": "8868375f-c645-4793-b524-6b952677e73a",
   "metadata": {},
   "outputs": [
    {
     "name": "stdout",
     "output_type": "stream",
     "text": [
      "44\n",
      "52\n"
     ]
    }
   ],
   "source": [
    "y = f(3, 5)\n",
    "print(y)\n",
    "y = f(4, 6)\n",
    "print(y)"
   ]
  },
  {
   "cell_type": "code",
   "execution_count": 200,
   "id": "87230c67-139f-4574-a2a3-c1d72d995d72",
   "metadata": {},
   "outputs": [],
   "source": [
    "#  함수 정의\n",
    "'''\n",
    "def 함수명(parameter1, parameter2, ..., parameter_n):\n",
    "    명령어1\n",
    "    명령어2\n",
    "    ...\n",
    "    명령어_n\n",
    "    return 결과값\n",
    "\n",
    "변수 = 함수명(argument1, argument2,...,argument_n)\n",
    "print(변수)\n",
    "'''\n",
    "def add(x1 , x2): # x1, x2:  parameter , 매개변수, 가인자 : 피 호출합수\n",
    "    result = x1 + x2\n",
    "    return result"
   ]
  },
  {
   "cell_type": "code",
   "execution_count": 201,
   "id": "2e96abe0-d308-4610-ae4c-157139070ca0",
   "metadata": {},
   "outputs": [
    {
     "name": "stdout",
     "output_type": "stream",
     "text": [
      "8\n"
     ]
    }
   ],
   "source": [
    "y = add(3 , 5) # 3, 5 : argument , 인자, 실인자 : 호출함수\n",
    "print(y)\n",
    "# parameter와 argument는 1대1 대응을 하므로 갯수는 서로 같아야 한다.\n",
    "# 피호출함수 먼저 실행된 후 호출함수를 사용한다.\n",
    "# 피호출함수와 호출함수의 이름은 같아야 한다."
   ]
  },
  {
   "cell_type": "code",
   "execution_count": null,
   "id": "7be0bccf-006a-43be-9546-5b5cc20e46eb",
   "metadata": {},
   "outputs": [],
   "source": [
    "for gop in range(1, 10):\n",
    "    print(f\"3 * {gop} = {3 * gop}\")"
   ]
  },
  {
   "cell_type": "code",
   "execution_count": 203,
   "id": "37a5bdec-111c-483f-84b6-d83f34709883",
   "metadata": {},
   "outputs": [],
   "source": [
    "def dan3(): # 반복적으로 사용하는 명령어를 함수만들어 사용\n",
    "    for gop in range(1, 10):\n",
    "        print(f\"3 * {gop} = {3 * gop}\")"
   ]
  },
  {
   "cell_type": "code",
   "execution_count": null,
   "id": "601fe905-589c-4e0b-aed0-93f7da2da601",
   "metadata": {},
   "outputs": [],
   "source": [
    "dan3()"
   ]
  },
  {
   "cell_type": "code",
   "execution_count": 206,
   "id": "5e495cc9-7f20-4d45-919b-8f6a8a70f542",
   "metadata": {},
   "outputs": [],
   "source": [
    "def gugudan(dan): # 반복적으로 사용하는 명령어를 함수만들어 사용\n",
    "    for gop in range(1, 10):\n",
    "        print(f\"{dan} * {gop} = {dan * gop}\")"
   ]
  },
  {
   "cell_type": "code",
   "execution_count": null,
   "id": "dca93326-4d60-45d5-a230-1b8a96d12be9",
   "metadata": {},
   "outputs": [],
   "source": [
    "dan = int(input(\"단을 입력해주세요. \"))\n",
    "gugudan(dan)"
   ]
  },
  {
   "cell_type": "code",
   "execution_count": 213,
   "id": "fa35f889-0a93-43cc-8a32-47db2a50b473",
   "metadata": {},
   "outputs": [],
   "source": [
    "# 함수의 4가지 유형\n",
    "# 1. 입력값(parameter)이 있고 출력값(return)도 있는 경우 :기본 유형\n",
    "def add(x1 , x2):\n",
    "    return x1 + x2 # 결과 값을 호출함수에게 전달"
   ]
  },
  {
   "cell_type": "code",
   "execution_count": 215,
   "id": "bd370a1e-d539-4de9-bdbc-9c093737a7c3",
   "metadata": {},
   "outputs": [
    {
     "name": "stdout",
     "output_type": "stream",
     "text": [
      "8\n"
     ]
    }
   ],
   "source": [
    "result = add(3 , 5)\n",
    "print(result)"
   ]
  },
  {
   "cell_type": "code",
   "execution_count": 217,
   "id": "b880dcc8-2c28-4bea-8028-663786de5ef7",
   "metadata": {},
   "outputs": [],
   "source": [
    "# 2. 입력값(parameter)은 없고 출력값(return)만 있는 경우\n",
    "def add():\n",
    "    x1 = 3; x2 = 5\n",
    "    return x1 + x2"
   ]
  },
  {
   "cell_type": "code",
   "execution_count": 218,
   "id": "7a580a72-0a18-4e34-ac02-d0c1d0c90ff6",
   "metadata": {},
   "outputs": [
    {
     "name": "stdout",
     "output_type": "stream",
     "text": [
      "8\n"
     ]
    }
   ],
   "source": [
    "result = add()\n",
    "print(result)"
   ]
  },
  {
   "cell_type": "code",
   "execution_count": 219,
   "id": "5b229b64-1b51-424c-bef5-18ac5b734d47",
   "metadata": {},
   "outputs": [],
   "source": [
    "def add():\n",
    "    x1 = int(input(\"숫자를 입력해 주세요 . : \")) \n",
    "    x2 = int(input(\"숫자를 입력해 주세요 . : \")) \n",
    "    return x1 + x2"
   ]
  },
  {
   "cell_type": "code",
   "execution_count": 220,
   "id": "6a3aa186-53f6-4911-9153-6ee6fa23a9a6",
   "metadata": {},
   "outputs": [
    {
     "name": "stdin",
     "output_type": "stream",
     "text": [
      "숫자를 입력해 주세요 . :  3\n",
      "숫자를 입력해 주세요 . :  5\n"
     ]
    },
    {
     "name": "stdout",
     "output_type": "stream",
     "text": [
      "8\n"
     ]
    }
   ],
   "source": [
    "result = add()\n",
    "print(result)"
   ]
  },
  {
   "cell_type": "code",
   "execution_count": 222,
   "id": "28afafb8-4e9b-4e27-8986-96e05bd837cd",
   "metadata": {},
   "outputs": [],
   "source": [
    "# 3. 입력값(parameter)은 있고 출력값(return)이 없는 경우\n",
    "def add(x1 ,x2):\n",
    "    print(x1 + x2)\n",
    "    return"
   ]
  },
  {
   "cell_type": "code",
   "execution_count": 224,
   "id": "4bd2a9bb-e362-4287-921d-5287106aaee8",
   "metadata": {},
   "outputs": [
    {
     "name": "stdin",
     "output_type": "stream",
     "text": [
      "숫자를 입력해 주세요. :  3\n",
      "숫자를 입력해 주세요. :  5\n"
     ]
    },
    {
     "name": "stdout",
     "output_type": "stream",
     "text": [
      "8\n"
     ]
    }
   ],
   "source": [
    "i = int(input(\"숫자를 입력해 주세요. : \"))\n",
    "j = int(input(\"숫자를 입력해 주세요. : \"))\n",
    "add(i, j)"
   ]
  },
  {
   "cell_type": "code",
   "execution_count": 227,
   "id": "a7752675-6b4c-4479-9a9b-912e4c37f681",
   "metadata": {},
   "outputs": [],
   "source": [
    "# 4. 입력값(parameter)이 없고 출력값(return)도 없는 경우\n",
    "def add():\n",
    "    x1 = int(input(\"숫자를 입력해 주세요. : \"))\n",
    "    x2 = int(input(\"숫자를 입력해 주세요. : \"))\n",
    "    print(x1 + x2)"
   ]
  },
  {
   "cell_type": "code",
   "execution_count": 229,
   "id": "fc5299c8-b215-4f5a-a891-b11465d508a7",
   "metadata": {},
   "outputs": [
    {
     "name": "stdin",
     "output_type": "stream",
     "text": [
      "숫자를 입력해 주세요. :  3\n",
      "숫자를 입력해 주세요. :  5\n"
     ]
    },
    {
     "name": "stdout",
     "output_type": "stream",
     "text": [
      "8\n"
     ]
    }
   ],
   "source": [
    "add()"
   ]
  },
  {
   "cell_type": "code",
   "execution_count": 233,
   "id": "ca571b9f-7c6f-430a-9cfd-4dc1db9bc0e8",
   "metadata": {},
   "outputs": [],
   "source": [
    "def guguDan():\n",
    "    startDan = int(input(\"시작단을 입력하세요. :\"))\n",
    "    endDan = int(input(\"마지막단을 입력하세요. :\"))\n",
    "    startGop = int(input(\"시작곱을 입력하세요. :\"))\n",
    "    endGop = int(input(\"마지막곱을 입력하세요. :\"))\n",
    "    for dan in range(startDan, endDan +1):\n",
    "        for gop in range(startGop, endGop + 1):\n",
    "            print(f\"{dan} * {gop} = {dan * gop}\")"
   ]
  },
  {
   "cell_type": "code",
   "execution_count": null,
   "id": "ad8b1e7a-0263-4a54-8739-1f2eda3eb77f",
   "metadata": {},
   "outputs": [],
   "source": [
    "guguDan()"
   ]
  },
  {
   "cell_type": "code",
   "execution_count": null,
   "id": "0972d99e-96d2-49c2-83a3-efc9b21f73d6",
   "metadata": {},
   "outputs": [],
   "source": [
    "def guguDan(startDan,endDan,startGop, endGop ):\n",
    "    for dan in range(startDan, endDan +1):\n",
    "        for gop in range(startGop, endGop + 1):\n",
    "            print(f\"{dan} * {gop} = {dan * gop}\")"
   ]
  },
  {
   "cell_type": "code",
   "execution_count": null,
   "id": "4540d3b4-8365-4e3c-a33e-b5459183e735",
   "metadata": {},
   "outputs": [],
   "source": [
    "i = int(input(\"시작단을 입력하세요. :\"))\n",
    "j = int(input(\"마지막단을 입력하세요. :\"))\n",
    "x = int(input(\"시작곱을 입력하세요. :\"))\n",
    "y = int(input(\"마지막곱을 입력하세요. :\"))\n",
    "guguDan(i, j, x, y)"
   ]
  },
  {
   "cell_type": "code",
   "execution_count": null,
   "id": "d4599629-c8fb-4ba9-8f49-bc3e8711432f",
   "metadata": {},
   "outputs": [],
   "source": []
  },
  {
   "cell_type": "code",
   "execution_count": null,
   "id": "a765e31b-927d-44d6-8fde-d49626f03ae6",
   "metadata": {},
   "outputs": [],
   "source": []
  },
  {
   "cell_type": "code",
   "execution_count": null,
   "id": "9d8e4093-530d-49c4-9bad-dbe06fd68da5",
   "metadata": {},
   "outputs": [],
   "source": []
  }
 ],
 "metadata": {
  "kernelspec": {
   "display_name": "Python 3 (ipykernel)",
   "language": "python",
   "name": "python3"
  },
  "language_info": {
   "codemirror_mode": {
    "name": "ipython",
    "version": 3
   },
   "file_extension": ".py",
   "mimetype": "text/x-python",
   "name": "python",
   "nbconvert_exporter": "python",
   "pygments_lexer": "ipython3",
   "version": "3.12.1"
  }
 },
 "nbformat": 4,
 "nbformat_minor": 5
}
