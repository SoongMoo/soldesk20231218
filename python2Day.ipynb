{
 "cells": [
  {
   "cell_type": "code",
   "execution_count": 34,
   "id": "54ba27b5-dd7b-4eee-a8e2-73a9db32e67b",
   "metadata": {},
   "outputs": [
    {
     "name": "stdout",
     "output_type": "stream",
     "text": [
      "10\n",
      "1020\n",
      "이숭무의 나이는 20살이고 이숭무의 키는 173.5입니다\n",
      "이숭무의 나이는 20살이고 이숭무의 키는 173.5입니다\n",
      "이숭무의 나이는 20살이고 키는 173.5입니다.\n",
      "이숭무의 나이는 20살이고 키는\n",
      "이숭무!!!!!!!의 나이는 0000000020살이고 이숭무       의 키는 173.500000입니다\n",
      "이숭무!!!!!!!의 나이는 0000200000살이고 이숭무       의 키는 173.500000입니다\n"
     ]
    }
   ],
   "source": [
    "print(\"{}\".format(10))\n",
    "print(\"{}{}\".format(10, 20))\n",
    "print(\"{}의 나이는 {}살이고 {}의 키는 {}입니다\".format(\"이숭무\", 20, \"이숭무\", 173.5))\n",
    "print(\"{0}의 나이는 {1}살이고 {0}의 키는 {2}입니다\".format(\"이숭무\", 20, 173.5))\n",
    "print(\"{}의 나이는 {}살이고 키는 {}입니다.\".format(\"이숭무\", 20, 173.5))\n",
    "print(\"{}의 나이는 {}살이고 키는\".format(\"이숭무\", 20, 173.5))\n",
    "#print(\"{}의 나이는 {}살이고 {}의 키는 {}입니다\".format(\"이숭무\", 20, 173.5))\n",
    "print(\"{0:!<10}의 나이는 {1:010d}살이고 {0:10}의 키는 {2:0<10f}입니다\".format(\"이숭무\", 20, 173.5))\n",
    "print(\"{0:!<10}의 나이는 {1:0^10d}살이고 {0:10}의 키는 {2:0<10f}입니다\".format(\"이숭무\", 20, 173.5))"
   ]
  },
  {
   "cell_type": "code",
   "execution_count": 74,
   "id": "09f9fb21-9eca-4146-b7d0-e0ec4c2bff4b",
   "metadata": {},
   "outputs": [
    {
     "name": "stdout",
     "output_type": "stream",
     "text": [
      "+52\n",
      "-52\n",
      "-52\n",
      "-52\n",
      " 52\n",
      "-52\n",
      "        52\n",
      "        52\n",
      "       +52\n",
      "       -52\n",
      "0000000052\n",
      "+000000052\n",
      "-000000052\n",
      "                                                                                                                                                                                                                                                                                                                   -52\n",
      "-523333333\n",
      "-52!!!!!!!\n",
      "-52\n"
     ]
    }
   ],
   "source": [
    "print(\"{:+d}\".format(52)) # +:기호를 출력 : 더하기 의미가 아님\n",
    "print(\"{:+d}\".format(-52))\n",
    "print(\"{}\".format(-52))\n",
    "print(\"{0}\".format(-52))\n",
    "print(\"{: }\".format(52))\n",
    "print(\"{: }\".format(-52))\n",
    "print(\"{:10}\".format(52))\n",
    "print(\"{:10d}\".format(52))\n",
    "print(\"{:+10d}\".format(52))\n",
    "print(\"{:+10d}\".format(-52))\n",
    "print(\"{:010}\".format(52))\n",
    "print(\"{:+010}\".format(52))\n",
    "print(\"{:+010}\".format(-52))\n",
    "print(\"{0:310}\".format(-52)) # 3이출력되지 않는다.\n",
    "print(\"{0:3<10}\".format(-52)) # 정렬을 하면 3이 출력된다.\n",
    "print(\"{0:!<10}\".format(-52)) # 정렬을 해주면 !를 출력할 수 있다.\n",
    "#print(\"{0:!10}\".format(-52)) # 정렬을 안해주면 오류가 생긴다."
   ]
  },
  {
   "cell_type": "code",
   "execution_count": 99,
   "id": "c16da13c-9861-40a9-9682-7eb37c647240",
   "metadata": {},
   "outputs": [
    {
     "name": "stdout",
     "output_type": "stream",
     "text": [
      "173.5\n",
      "     173.5\n",
      "173.500000\n",
      "     173.5\n",
      "    173.50\n",
      "   173.500\n",
      "173.500   \n",
      "   173.500\n",
      "   173.500\n",
      "173.500000\n",
      "173.500000\n",
      "173\n",
      "173\n"
     ]
    }
   ],
   "source": [
    "print(\"{}\".format(173.5))\n",
    "print(\"{:10}\".format(173.5))\n",
    "print(\"{:10f}\".format(173.5))\n",
    "print(\"{:10.1f}\".format(173.5))\n",
    "print(\"{:10.2f}\".format(173.5))\n",
    "print(\"{:10.3f}\".format(173.5))\n",
    "print(\"{:<10.3f}\".format(173.5))\n",
    "print(\"{:>10.3f}\".format(173.5))\n",
    "print(\"{0:>10.3f}\".format(173.5))\n",
    "print(\"{0:>10f}\".format(173.5))\n",
    "print(\"{0:>3f}\".format(173.5))\n",
    "print(\"{:g}\".format(173.0)) # 소숫점이하의 숫자가 0인 경우에 소숫점 자리를 가리기\n",
    "print(\"{:g}\".format(173.00000))"
   ]
  },
  {
   "cell_type": "code",
   "execution_count": 102,
   "id": "2b4188c3-108e-4d5f-9255-aa6650299253",
   "metadata": {},
   "outputs": [],
   "source": [
    "# 기본 자료형 : 리터널 : 자연수:  숫자 : 정수 : 10\n",
    "#                             실수 : 소숫점이 있다. 10.5\n",
    "#                      자연어: 문자열 : 영어, 프랑스어\n",
    "# 파이썬 자료형 : 리스트 : 모든 타입들을 여러개 저장할 수 있다.\n",
    "#                list : 제레릭타입이  object로 되어 있는 리스트와 같다.\n",
    "'''\n",
    "List<Object> list =  new ArrayList<Object>();\n",
    "list.add(10)\n",
    "list.add(20)\n",
    "list.add('이숭무')\n",
    "'''\n",
    "l = [] #빈 리스트\n",
    "l = [1,2,3,4,5,6] # 정수형 리스트\n",
    "l = [10.52, 25.2,36.1] #  실수형 리스트\n",
    "l = ['이숭무', '이상범', '이장범'] #문자열형리스트\n",
    "l = [1,2,3,4,5,6, '이숭무', '이상범',10.52, 25.2 ] # 혼합형 리스트\n",
    "l = [1,2,3,4,5,6, '이숭무', '이상범',10.52, 25.2,[10,11,12]] # 리스트를 포함한 혼합형 리스트\n",
    "l = [[1,2,3],[4,5,6],[7,8,9]] # 리스트를  포함한 리스트\n",
    "# 리스트 안에 있는 값을 요소라고 한다."
   ]
  },
  {
   "cell_type": "code",
   "execution_count": 111,
   "id": "5b964fc1-cf25-4ef3-a148-6db3b65253b9",
   "metadata": {},
   "outputs": [
    {
     "name": "stdout",
     "output_type": "stream",
     "text": [
      "[[1, 2, 3], [4, 5, 6], [7, 8, 9]]\n",
      "[1, 2, 3, 4, 5, 6]\n",
      "['Life', 'is', 'too', 'short']\n",
      "10\n",
      "이숭무\n",
      "['Life', 'is', 'too', 'short']\n"
     ]
    }
   ],
   "source": [
    "l = [[1,2,3],[4,5,6],[7,8,9]]\n",
    "print(l)\n",
    "l = [1,2,3,4,5,6]\n",
    "print(l)\n",
    "l = [\"Life\", \"is\", \"too\", \"short\"]\n",
    "print(l) # ['Life', 'is', 'too', 'short']\n",
    "i = 10 \n",
    "print(i) # 10 : 정수\n",
    "str1 = \"이숭무\"\n",
    "print(str1) # 이숭무 : 문자열\n",
    "str4 = \"Life is too short\"\n",
    "result = str4.split() \n",
    "print(result) # ['Life', 'is', 'too', 'short'] : 문자열을 쪼개면  리스트로 가져온다."
   ]
  },
  {
   "cell_type": "code",
   "execution_count": 119,
   "id": "f8045d53-6c83-490b-8443-9f04cc1f3184",
   "metadata": {},
   "outputs": [
    {
     "name": "stdout",
     "output_type": "stream",
     "text": [
      "Life is too short\n",
      "e\n",
      "['Life', 'is', 'too', 'short']\n",
      "Life\n",
      "Life\n"
     ]
    }
   ],
   "source": [
    "str4 = \"Life is too short\"\n",
    "print(str4)\n",
    "# Life is too short\n",
    "# 01234567890123456\n",
    "# 76543210987654321 - \n",
    "print(str4[3])\n",
    "print(l)\n",
    "# ['Life', 'is', 'too', 'short']\n",
    "#    0       1     2        3\n",
    "#    4       3     2        1 -\n",
    "print(l[0]) # list.get(index)\n",
    "print(l[-4])"
   ]
  },
  {
   "cell_type": "code",
   "execution_count": 135,
   "id": "3c1f4a17-b766-4ca3-8d45-d8406208eeb5",
   "metadata": {},
   "outputs": [
    {
     "name": "stdout",
     "output_type": "stream",
     "text": [
      "[1, 2, 3, 'Life', [4, 5], 'is', [6], 'too', 0.5, 'short', '30']\n",
      "2\n",
      "3\n",
      "Life\n",
      "[4, 5]\n",
      "[6]\n",
      "too\n",
      "5\n",
      "5\n",
      "Lifetoo\n",
      "Lifetoo\n",
      "30\n",
      "Life30\n",
      "230\n",
      "32\n",
      "LifeLifeLife\n"
     ]
    }
   ],
   "source": [
    "l1 =  [1,2,3,'Life',[4,5],'is',[6],'too',0.5, 'short', \"30\"]\n",
    "#      0 1 2   3      4     5   6    7    8     9      10\n",
    "print(l1)\n",
    "print(l1[1]) # 정수 : 2\n",
    "print(l1[2]) # 정수 : 3\n",
    "print(l1[3]) # 문자\n",
    "print(l1[4]) # 리스트\n",
    "print(l1[6]) # 요소가 하나인 리스트\n",
    "print(l1[7]) # 문자\n",
    "print(2 + 3) # 정수 + 정수\n",
    "print(l1[1] + l1[2]) # 정수 + 정수\n",
    "# 리스트에서 요소를 사용하는 경우에는 요소가 가진 자료형으로 사용할 수 있다.\n",
    "print(l1[3] + l1[7]) # 문자 + 문자\n",
    "print(\"Life\" + \"too\")\n",
    "print(l1[10])  # \"30\" : 문자\n",
    "print(l1[3] + l1[10])# 문자 + 문자\n",
    "#print(l1[1] + l1[10]) # 정수 + 문자\n",
    "print(str(l1[1]) + l1[10]) # 문자 + 문자\n",
    "print(l1[1] + int(l1[10])) # 정수 + 정수\n",
    "print(l1[3] * l1[2]) # 문자 * 정수 : 반복연산"
   ]
  },
  {
   "cell_type": "code",
   "execution_count": 140,
   "id": "7c577b90-3aa1-49ad-b393-01986ae6289c",
   "metadata": {},
   "outputs": [
    {
     "name": "stdout",
     "output_type": "stream",
     "text": [
      "['a', 'b', 'c']\n",
      "b\n",
      "b\n",
      "b\n",
      "b\n",
      "b\n"
     ]
    }
   ],
   "source": [
    "a = [1,2,3,['a','b','c'], 4]\n",
    "#    0 1 2       3        4\n",
    "#            0   1    2\n",
    "#    5 4 3       2        1 -\n",
    "#            3   2    1 - \n",
    "b = a[3]\n",
    "print(b)  # ['a', 'b', 'c']\n",
    "#             0    1    2\n",
    "print(b[1])\n",
    "print(a[3][1])\n",
    "print(a[-2][-2])\n",
    "print(a[3][-2])\n",
    "print(a[-2][1])"
   ]
  },
  {
   "cell_type": "code",
   "execution_count": 144,
   "id": "ad1b2edd-6f1f-49b7-b865-3c5b14a3f5e8",
   "metadata": {},
   "outputs": [
    {
     "name": "stdout",
     "output_type": "stream",
     "text": [
      "['a', 'b', ['life', 'is']]\n",
      "['life', 'is']\n",
      "is\n",
      "s\n"
     ]
    }
   ],
   "source": [
    "a = [1,2,3,[ 'a','b', ['life', 'is'] ] , 4]\n",
    "#    0 1 2             3                 4\n",
    "#             0   1          2\n",
    "#                        0      1\n",
    "print(a[3]) # ['a', 'b', ['life', 'is']]\n",
    "print(a[3][2]) # ['life', 'is']\n",
    "print(a[3][2][1]) # is\n",
    "#                   01\n",
    "print(a[3][2][1][1])"
   ]
  },
  {
   "cell_type": "code",
   "execution_count": 166,
   "id": "fab6e141-8caf-4b3f-a734-3d64c4912eb2",
   "metadata": {},
   "outputs": [
    {
     "name": "stdout",
     "output_type": "stream",
     "text": [
      "L\n",
      "i\n",
      "f\n",
      "e\n",
      "Life\n",
      "Life\n",
      "fe\n",
      "\n",
      "\n",
      "f\n",
      "1\n",
      "2\n",
      "[1, 2]\n",
      "[1, 2]\n",
      "[]\n",
      "[2]\n",
      "2\n",
      "[1, 2, 2]\n",
      "[1, 2, 1, 2]\n"
     ]
    }
   ],
   "source": [
    "#리스트의 슬라이싱\n",
    "str4 = \"Life is too short\"\n",
    "#                 1111111\n",
    "#       01234567890123456\n",
    "print(str4[0])\n",
    "print(str4[1])\n",
    "print(str4[2])\n",
    "print(str4[3])\n",
    "print(str4[0]+str4[1]+str4[2]+str4[3])\n",
    "# slicing\n",
    "print(str4[0:4])\n",
    "print(str4[2:2+2])\n",
    "print(str4[2:2])\n",
    "print(str4[2:2+0])\n",
    "print(str4[2:2+1])\n",
    "l = [1, 2, 3, 4]\n",
    "#    0  1  2  3\n",
    "print(l[0])\n",
    "print(l[1])\n",
    "print(l[0:0+2])\n",
    "print(l[0:2])\n",
    "print(l[1:1]) # [] : 빈리스트\n",
    "print(l[1:1+1]) # [2] : 요소가 하나인 리스트 : slicing을 하면 요소 하나만 가져와도 리스트가 된다. \n",
    "# slicing을 하면 결과는 리스트다.\n",
    "print(l[1]) # 2 : indexing을 하면 요소 자료형으로 가져온다.\n",
    "# print(l[1:1+1] + l[1]) # 리스트 + 정수\n",
    "print(l[0:2] + l[1:1+1]) # 리스트 + 리스트 : [1, 2, 2] : +는 연결연산자\n",
    "print(l[0:2] * l[1]) # 리스트 * 정수 :  [1, 2, 1, 2] : *는 반복 연산자 \n",
    "# print(l[1:1+2] + list(l[1])) # 리스트 + 정수 # 'int' object is not iterable # 정수는 리스트로 형변환 되지 않는다.\n",
    "# 형 변환 함수 : str(), int(), list()\n",
    "# int() : Integer.parseInt()"
   ]
  },
  {
   "cell_type": "code",
   "execution_count": 181,
   "id": "6a7bd611-e422-423f-ba52-4c2b99804379",
   "metadata": {},
   "outputs": [
    {
     "name": "stdout",
     "output_type": "stream",
     "text": [
      "['Life', 'is', 'too', 'short']\n",
      "['Life', 'is', 'too', 'short']\n",
      "Life\n",
      "is\n",
      "['Life']\n",
      "Lifeis\n",
      "['Life', 'i', 's']\n",
      "['Life']is\n",
      "Lifeis\n",
      "Life is too short\n",
      "Life,is,too,short\n"
     ]
    }
   ],
   "source": [
    "result = ['Life', 'is', 'too', 'short']\n",
    "#           0      1       2       3\n",
    "print(result)\n",
    "print(result[:])\n",
    "print(result[0]) # Life\n",
    "print(result[1]) # is\n",
    "print(result[0: 0+1]) # ['Life']\n",
    "print(result[0] + result[1]) #문자 + 문자 : Lifeis\n",
    "#print(result[0: 0+1] +  result[1]) # 리스트 + 문자\n",
    "print(result[0: 0+1] +  list(result[1])) # 리스트 + 리스트 : ['Life', 'i', 's']\n",
    "print(str(result[0: 0+1]) +  result[1]) # 문자열 + 문자열\n",
    "print(\"\".join(result[0: 0+1]) +  result[1])\n",
    "print(\" \".join(result)) # ['Life', 'is', 'too', 'short'] => Life is too short\n",
    "print(\",\".join(result)) #Life,is,too,short"
   ]
  },
  {
   "cell_type": "code",
   "execution_count": 199,
   "id": "25a31702-26f9-45ab-ade1-934e1e6443e8",
   "metadata": {},
   "outputs": [
    {
     "name": "stdout",
     "output_type": "stream",
     "text": [
      "Li\n",
      "['Life', 'is']\n",
      "Li\n",
      "['Life', 'is']\n",
      "is too short\n",
      "['too', 'short']\n",
      "Life is too short\n",
      "['Life', 'is', 'too', 'short']\n",
      "Lf stosot\n",
      "['Life', 'too']\n",
      "trohs oot si efiL\n",
      "['short', 'too', 'is', 'Life']\n",
      "fe is too sh\n",
      "hs oot si ef\n",
      "['is', 'too', 'short']\n",
      "['short', 'too', 'is']\n"
     ]
    }
   ],
   "source": [
    "str1 = \"Life is too short\"\n",
    "#                 1111111\n",
    "#       01234567890123456\n",
    "result = ['Life', 'is', 'too', 'short'] \n",
    "#           0      1      2       3\n",
    "print(str1[0:2])\n",
    "print(result[0:2])\n",
    "print(str1[:2])\n",
    "print(result[:2])\n",
    "print(str1[5:])\n",
    "print(result[2:])\n",
    "print(str1[:])\n",
    "print(result[:])\n",
    "print(str1[::2])\n",
    "print(result[::2])\n",
    "print(str1[::-1])\n",
    "print(result[::-1])\n",
    "print(str1[2:14])\n",
    "print(str1[13:1:-1])\n",
    "print(result[1:4])\n",
    "print(result[3:0:-1])"
   ]
  },
  {
   "cell_type": "code",
   "execution_count": 212,
   "id": "55925f6f-fa30-4d37-9514-8147f1c24410",
   "metadata": {},
   "outputs": [
    {
     "name": "stdout",
     "output_type": "stream",
     "text": [
      "y\n",
      "Life is too short\n",
      "Lyfe is too short\n",
      "Lyfe\n",
      "['Life', 'is', 'too', 'short']\n",
      "too\n",
      "['Life', 'is', 100, 'short']\n",
      "17\n",
      "4\n"
     ]
    }
   ],
   "source": [
    "str1 = 'Lyfe is too short'\n",
    "print(str1[1])\n",
    "#str1[1] = 'i'\n",
    "result = str1.replace(\"Lyfe\", \"Life\")\n",
    "print(result)\n",
    "print(str1)\n",
    "l4 = ['Lyfe' ,'is' ,'too', 'short']\n",
    "print(l4[0])\n",
    "l4[0] = 'Life'\n",
    "print(l4)\n",
    "print(l4[2]) # too\n",
    "l4[2] = 100\n",
    "print(l4)\n",
    "print(len(str1)) #  문자열의 크기\n",
    "print(len(l4)) #  리스트의 크기"
   ]
  },
  {
   "cell_type": "code",
   "execution_count": 226,
   "id": "3eb7970b-5501-4814-bb46-4b5a9540d3b7",
   "metadata": {},
   "outputs": [
    {
     "name": "stdout",
     "output_type": "stream",
     "text": [
      "['Life', 'is', 'too']\n",
      "['Life', 'is']\n",
      "['Life', 'is', 'too']\n",
      "['Life', 'is', 'too', 'short']\n",
      "['Life', 'is', 'too', 'short', 3]\n",
      "['Life', 'is', 'short']\n",
      "['Life', 'is', 'too', 'short']\n",
      "[1, 2, 3, 4, 5, 6]\n",
      "[1, 2, 3]\n",
      "[4, 5, 6]\n",
      "[1, 2, 3, 4, 5, 6]\n"
     ]
    }
   ],
   "source": [
    "# 리스트 함수\n",
    "# 리스트에 요소 추가\n",
    "l1 = ['Life','is']\n",
    "# too추가\n",
    "print(l1 + ['too'])\n",
    "print(l1)\n",
    "l1.append(\"too\")\n",
    "print(l1)\n",
    "#print(l1.append(\"short\"))\n",
    "l1.append(\"short\")\n",
    "print(l1)\n",
    "l1.append(3)\n",
    "print(l1)\n",
    "# 원하는 위치에 요소 추가\n",
    "l1 = ['Life', 'short']\n",
    "#        0       1\n",
    "l1.insert(1, \"is\")\n",
    "print(l1) # ['Life', 'is', 'short']\n",
    "#              0      1       2\n",
    "l1.insert(2, \"too\")\n",
    "print(l1)\n",
    "# 리스트 확장\n",
    "a = [1,2,3]\n",
    "b = [4,5,6]\n",
    "print(a + b)\n",
    "print(a)\n",
    "print(b)\n",
    "# [1, 2, 3, 4, 5, 6]\n",
    "a.extend(b)\n",
    "print(a)"
   ]
  },
  {
   "cell_type": "code",
   "execution_count": 239,
   "id": "7fc043f7-1079-4fd8-881b-b9aa805a1772",
   "metadata": {},
   "outputs": [
    {
     "name": "stdout",
     "output_type": "stream",
     "text": [
      "['Life', 'is', 'too', 'short']\n",
      "['Life', 'is', 'short']\n",
      "['Life', 'short']\n",
      "['short']\n",
      "[]\n",
      "3\n",
      "['Life', 'is', 'too', 'short']\n",
      "short\n",
      "['Life', 'is', 'too']\n",
      "is\n",
      "['Life', 'too']\n",
      "Life\n",
      "['too']\n"
     ]
    }
   ],
   "source": [
    "#요소 삭제\n",
    "l2 = ['Life', 'is', 'too', 'short', 3]\n",
    "#       0       1      2      3     4\n",
    "# index를 이용해서 요소삭제\n",
    "del l2[4]\n",
    "print(l2)\n",
    "del l2[2]\n",
    "print(l2)\n",
    "# 요소를 이용해서 삭제\n",
    "# ['Life', 'is', 'short']\n",
    "l2.remove('is')\n",
    "print(l2)\n",
    "l2.remove('Life')\n",
    "print(l2)\n",
    "#  모두 삭제\n",
    "l2.clear()\n",
    "print(l2) # [] :빈 리스트\n",
    "# 삭제한 값 받아오기\n",
    "l2 = ['Life', 'is', 'too', 'short', 3]\n",
    "#       0       1      2     3      4\n",
    "#result = del l2[4]\n",
    "#reuslt = l2.remove('Life')\n",
    "result = l2.pop()  #  마지막 요소 삭제\n",
    "print(result) # 3\n",
    "print(l2) # ['Life', 'is', 'too', 'short']\n",
    "result = l2.pop() \n",
    "print(result) # short\n",
    "print(l2) # ['Life', 'is', 'too']\n",
    "#              0      1       2\n",
    "# index를 이용해서 요소 삭제 후 삭제된 요소 받아오기\n",
    "result = l2.pop(1) # 비복원 추출\n",
    "print(result) \n",
    "print(l2) # ['Life', 'too']\n",
    "result = l2.pop(0) \n",
    "print(result) \n",
    "print(l2) # ['too']\n",
    "# 복원추출 : 주사위 , 배열"
   ]
  },
  {
   "cell_type": "code",
   "execution_count": 249,
   "id": "2c7056dd-fc44-473e-9e36-3c58252cbb59",
   "metadata": {},
   "outputs": [
    {
     "name": "stdout",
     "output_type": "stream",
     "text": [
      "[1, 2, 3, 4, 5]\n",
      "[5, 4, 3, 2, 1]\n",
      "['a', 'b', 'c']\n",
      "['c', 'b', 'a']\n",
      "['가', '나', '다']\n",
      "['a', 'b', 'c', '가', '나', '다']\n",
      "['3', '4', '5', 'a', 'b', 'c', '가', '나', '다']\n"
     ]
    }
   ],
   "source": [
    "# 정렬 -- 오름차순, 내림차순\n",
    "l = [4,2,5,1,3]\n",
    "# 오름차순\n",
    "l.sort()\n",
    "print(l)\n",
    "l = [4,2,5,1,3]\n",
    "# 내람차순\n",
    "l.sort(reverse=True)\n",
    "print(l)\n",
    "l = ['b','a','c']\n",
    "l.sort()\n",
    "print(l)\n",
    "l.sort(reverse=True)\n",
    "print(l)\n",
    "l = ['다','가','나']\n",
    "l.sort()\n",
    "print(l)\n",
    "l = ['다','가','나','b','a','c']\n",
    "l.sort()\n",
    "print(l)\n",
    "l = ['다','가','나','b','a','c', \"3\",5,4]\n",
    "l.sort() #숫자와 문자가 같이 있으면 정렬되지 않는다.\n",
    "print(l)"
   ]
  },
  {
   "cell_type": "code",
   "execution_count": 255,
   "id": "49c56513-8137-4131-a0d5-68d2de57bf57",
   "metadata": {},
   "outputs": [
    {
     "name": "stdout",
     "output_type": "stream",
     "text": [
      "8\n",
      "8\n",
      "2\n"
     ]
    }
   ],
   "source": [
    "str1 = \"Life is too short\"\n",
    "print(str1.index(\"too\"))\n",
    "idx = str1.find(\"too\")\n",
    "print(idx)\n",
    "l = [\"Life\", \"is\", \"too\", \"short\"]\n",
    "#      0      1       2      3\n",
    "idx = l.index(\"too\")\n",
    "print(idx)\n",
    "# idx = l.find(\"too\")\n",
    "# 리스트에는 find함수가 없다.\n",
    "# idx = l.index(\"zoo\") : 오류 발생"
   ]
  },
  {
   "cell_type": "code",
   "execution_count": 265,
   "id": "1ceb9674-877b-4962-8352-d1238112a62c",
   "metadata": {},
   "outputs": [
    {
     "name": "stdout",
     "output_type": "stream",
     "text": [
      "[1, 2, 3, 4]\n",
      "(1, 2, 3, 4)\n",
      "32\n",
      "2\n",
      "[2]\n",
      "2\n",
      "8\n",
      "(2,)\n",
      "(2,)\n",
      "(1, 2)\n"
     ]
    }
   ],
   "source": [
    "# 기본자료형 : 리터널 : 자연수  : 숫자 : 정수, 실수 \n",
    "#                      자연어 : 문자열 : \"a\",'a',\"\"\"a\"\"\",'''a'''\n",
    "# 파이썬 자료형 \n",
    "#     리스트 : []\n",
    "#       튜플 : ()\n",
    "l = [1,2,3,4]\n",
    "print(l)\n",
    "t = (1,2,3,4)\n",
    "print(t)\n",
    "l = [] # 빈 리스트\n",
    "t = () # 빈 튜플\n",
    "print((3 + 5) * 4) # () : 최우선 연산자\n",
    "print(2)\n",
    "print([2]) \n",
    "print((2))# () : 최우선 연산자\n",
    "t = (3 + 5) # 8 : 최우선 연산자\n",
    "print(t)\n",
    "print((2,))\n",
    "t = (2,) # 요소가 하나인 경우에는 최우선연산자와 구변하기 위해 ,를 넣어준다.\n",
    "print(t) #  (2,)\n",
    "t = (1,2) #요소두개 이상인 경우 소괄호만 사용한다.\n",
    "print(t)"
   ]
  },
  {
   "cell_type": "code",
   "execution_count": 266,
   "id": "1a527e37-dd44-4e6e-abae-611745714fae",
   "metadata": {},
   "outputs": [
    {
     "name": "stdout",
     "output_type": "stream",
     "text": [
      "(1, 2, 3, 4, 5, 6)\n"
     ]
    }
   ],
   "source": [
    "l = [] # 빈 리스트\n",
    "t = () # 빈 튜플\n",
    "l = [1] # 요소가 한인 리스트\n",
    "t = (1,) # 요소가 하나인 튜플\n",
    "l = [1,2,3,4,5] #  정수형 리스트\n",
    "t = (1,2,3,4,5) # 정수형 튜플\n",
    "t = (10.5,2.5, 30.7) # 실수형 튜플\n",
    "t = ('이숭무', '이상범', '이장범') # 문자열형 튜플\n",
    "t = (1,2,3,4,5, '이숭무', '이상범', '이장범', 10.4) #혼합형 튜플\n",
    "t = (1,2,3,4,5, '이숭무', '이상범', '이장범', 10.4, [6,7,8,9]) # 리스트를 포함한 혼합형 튜플\n",
    "t = (1,2,3,4,5, '이숭무', '이상범', '이장범', 10.4, (6,7,8,9)) # 튜플을 포함한 튜플\n",
    "t = (1,2,3,4,5, '이숭무', '이상범', '이장범', 10.4, (6,7,8,9), [11,12,14]) # 혼합형 튜플\n",
    "l = [1,2,3,4,5, '이숭무', '이상범', '이장범', 10.4, (6,7,8,9), [11,12,14]] # 리스트\n",
    "t = 1,2,3,4,5,6  # (1, 2, 3, 4, 5, 6) : 튜플\n",
    "print(t)"
   ]
  },
  {
   "cell_type": "code",
   "execution_count": 271,
   "id": "30022d13-56d6-4305-99a6-7f6b37e99446",
   "metadata": {},
   "outputs": [
    {
     "name": "stdout",
     "output_type": "stream",
     "text": [
      "f\n",
      "too\n",
      "too\n",
      "if\n",
      "['is', 'too']\n",
      "('is', 'too')\n",
      "Lif\n",
      "['Life', 'is', 'too']\n",
      "('Life', 'is', 'too')\n",
      "fe is too short\n",
      "['too', 'short']\n",
      "('too', 'short')\n"
     ]
    }
   ],
   "source": [
    "str1 = \"Life is too short\"\n",
    "#                 1\n",
    "#       01234567890123456\n",
    "l1 = [\"Life\", \"is\" ,\"too\", \"short\"]\n",
    "#       0      1      2       3\n",
    "t1 = \"Life\", \"is\" ,\"too\", \"short\"\n",
    "#      0      1      2       3\n",
    "#indexing \n",
    "print(str1[2])\n",
    "print(l1[2])\n",
    "print(t1[2])\n",
    "# slicing : 문자열에서는 substr과 같다.\n",
    "print(str1[1:1+2]) # 자바 type : str1.substr(1, 1 + 2)\n",
    "print(l1[1:1+2])\n",
    "print(t1[1:1+2])\n",
    "print(str1[:3])\n",
    "print(l1[:3])\n",
    "print(t1[:3])\n",
    "print(str1[2:])\n",
    "print(l1[2:])\n",
    "print(t1[2:])"
   ]
  },
  {
   "cell_type": "code",
   "execution_count": 286,
   "id": "227ffed9-7d2c-47a5-bc8f-4f95052c07e3",
   "metadata": {},
   "outputs": [
    {
     "name": "stdout",
     "output_type": "stream",
     "text": [
      "y\n",
      "Life is too short\n",
      "Lyfe\n",
      "['Life', 'is', 'too', 'short']\n",
      "['is', 'too', 'short']\n",
      "4\n",
      "1\n",
      "2\n",
      "2\n",
      "2\n"
     ]
    }
   ],
   "source": [
    "str1 = \"Lyfe is too short\"\n",
    "l1 = [\"Lyfe\", \"is\" ,\"too\", \"short\"]\n",
    "t1 = \"Lyfe\", \"is\" ,\"too\", \"short\"\n",
    "print(str1[1])\n",
    "# str1[1] = 'i'\n",
    "str1 = str1.replace(\"Lyfe\" ,\"Life\")\n",
    "print(str1)\n",
    "print(l1[0])\n",
    "l1[0] = 'Life'\n",
    "print(l1)\n",
    "## 리스트와 튜플의 차이 \n",
    "# 리스트는 요소를 변경할 수 있지만 튜플은 요소를 변경할 수 없다. 자바 : 상수와 같다 : final변수와 같다.\n",
    "'''\n",
    "print(t1[0])\n",
    "t1[0] = 'Life'\n",
    "print(t1)\n",
    "'''\n",
    "del l1[0]\n",
    "print(l1)\n",
    "# del t1[0] : 삭제가 되지 않는다.\n",
    "print(len(t1))\n",
    "idx = l1.index(\"too\")\n",
    "print(idx)\n",
    "idx = t1.index(\"too\")\n",
    "print(idx)\n",
    "l = [1,1,2,2,3,4,5,6,6]\n",
    "t = (1,1,2,2,3,4,5,6,6)\n",
    "print(l.count(1))\n",
    "print(t.count(1))"
   ]
  },
  {
   "cell_type": "code",
   "execution_count": 294,
   "id": "829f7e9b-1b55-4367-aef9-10dadd4d96d7",
   "metadata": {},
   "outputs": [
    {
     "name": "stdout",
     "output_type": "stream",
     "text": [
      "Life\n",
      "Life\n",
      "['is', 'too']\n",
      "('is', 'too')\n",
      "['too', 'short']\n",
      "('too', 'short')\n",
      "['is', 'too', 'too', 'short']\n",
      "('is', 'too', 'too', 'short')\n",
      "3\n",
      "3\n",
      "['is', 'too', 'is', 'too', 'is', 'too']\n",
      "('is', 'too', 'is', 'too', 'is', 'too')\n"
     ]
    }
   ],
   "source": [
    "t1 = 'Life', 'is', 'too', 'short' , 3\n",
    "l1 = ['Life', 'is', 'too', 'short', 3]\n",
    "print(l1[0]) #문자\n",
    "print(t1[0]) #문자\n",
    "print(l1[1:3]) # 리스트\n",
    "print(t1[1:3]) #튜플\n",
    "print(l1[2:4])  # 리스트\n",
    "print(t1[2:4]) # 튜플\n",
    "print(l1[1:3] + l1[2:4]) # 리스트 + 리스트 : 연결 연산\n",
    "print(t1[1:3] + t1[2:4]) # 튜플 + 튜플 : 연결 연산\n",
    "print(l1[4]) # 정수\n",
    "print(t1[4]) # 정수\n",
    "print(l1[1:3] * l[4]) #리스트 * 정수 :  반복 연산\n",
    "print(t1[1:3] * l[4]) # 튜플 * 정수 : 반복연산"
   ]
  },
  {
   "cell_type": "code",
   "execution_count": 306,
   "id": "27574fab-c9aa-491c-bd29-2417f88e45c5",
   "metadata": {},
   "outputs": [
    {
     "name": "stdout",
     "output_type": "stream",
     "text": [
      "3\n",
      "10\n",
      "['h', 'e', 'l', 'l', 'o']\n",
      "('h', 'e', 'l', 'l', 'o')\n",
      "['h', 'e', 'l', 'l', 'o']10\n",
      "hello\n",
      "('h', 'e', 'l', 'l', 'o')10\n",
      "hello\n",
      "h,e,l,l,o\n"
     ]
    }
   ],
   "source": [
    "# 형변환 함수 : int(), str(), list(), tuple()\n",
    "str2 =\"hello\"\n",
    "num = \"3\"\n",
    "i = 10\n",
    "print(int(num))\n",
    "print(str(i)) # 문자\n",
    "print(list(str2))\n",
    "print(tuple(str2))\n",
    "l = ['h', 'e', 'l', 'l', 'o']\n",
    "print(str(l) + \"10\")\n",
    "print(\"\".join(l)) # 리스트를 문자열로 형변환할 때는 join을 사용한다.\n",
    "t = ('h', 'e', 'l', 'l', 'o')\n",
    "print(str(t) + \"10\")\n",
    "print(\"\".join(t))\n",
    "print(\",\".join(str2)) # h,e,l,l,o"
   ]
  },
  {
   "cell_type": "code",
   "execution_count": null,
   "id": "951185e4-4549-4f31-9823-a25180455278",
   "metadata": {},
   "outputs": [],
   "source": []
  },
  {
   "cell_type": "code",
   "execution_count": null,
   "id": "50f0829d-b4c4-4d10-a91f-0d28eecf421e",
   "metadata": {},
   "outputs": [],
   "source": []
  },
  {
   "cell_type": "code",
   "execution_count": null,
   "id": "c67c50d3-d167-4d7a-bbfc-0a56e25b8e84",
   "metadata": {},
   "outputs": [],
   "source": []
  },
  {
   "cell_type": "code",
   "execution_count": null,
   "id": "641bba09-de58-44e3-8c52-a26a841a019b",
   "metadata": {},
   "outputs": [],
   "source": []
  },
  {
   "cell_type": "code",
   "execution_count": null,
   "id": "f6ca8811-fed1-48bf-be1c-d7ae5768c9de",
   "metadata": {},
   "outputs": [],
   "source": []
  },
  {
   "cell_type": "code",
   "execution_count": null,
   "id": "312f1639-c06c-448c-a41d-21c12c34303e",
   "metadata": {},
   "outputs": [],
   "source": []
  }
 ],
 "metadata": {
  "kernelspec": {
   "display_name": "Python 3 (ipykernel)",
   "language": "python",
   "name": "python3"
  },
  "language_info": {
   "codemirror_mode": {
    "name": "ipython",
    "version": 3
   },
   "file_extension": ".py",
   "mimetype": "text/x-python",
   "name": "python",
   "nbconvert_exporter": "python",
   "pygments_lexer": "ipython3",
   "version": "3.12.1"
  }
 },
 "nbformat": 4,
 "nbformat_minor": 5
}
