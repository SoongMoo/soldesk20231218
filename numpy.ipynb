{
 "cells": [
  {
   "cell_type": "code",
   "execution_count": 1,
   "id": "07c4a412-a96f-487f-8cc1-d8df20c18143",
   "metadata": {},
   "outputs": [
    {
     "name": "stdout",
     "output_type": "stream",
     "text": [
      "Collecting numpy\n",
      "  Obtaining dependency information for numpy from https://files.pythonhosted.org/packages/28/75/3b679b41713bb60e2e8f6e2f87be72c971c9e718b1c17b8f8749240ddca8/numpy-1.26.2-cp312-cp312-win_amd64.whl.metadata\n",
      "  Downloading numpy-1.26.2-cp312-cp312-win_amd64.whl.metadata (61 kB)\n",
      "     ---------------------------------------- 0.0/61.2 kB ? eta -:--:--\n",
      "     ------ --------------------------------- 10.2/61.2 kB ? eta -:--:--\n",
      "     ------------------- ------------------ 30.7/61.2 kB 262.6 kB/s eta 0:00:01\n",
      "     ------------------------- ------------ 41.0/61.2 kB 330.3 kB/s eta 0:00:01\n",
      "     -------------------------------------- 61.2/61.2 kB 326.7 kB/s eta 0:00:00\n",
      "Downloading numpy-1.26.2-cp312-cp312-win_amd64.whl (15.5 MB)\n",
      "   ---------------------------------------- 0.0/15.5 MB ? eta -:--:--\n",
      "   ---------------------------------------- 0.2/15.5 MB 5.0 MB/s eta 0:00:04\n",
      "   ------- -------------------------------- 3.0/15.5 MB 37.9 MB/s eta 0:00:01\n",
      "   -------------------- ------------------- 7.9/15.5 MB 63.5 MB/s eta 0:00:01\n",
      "   -------------------------------- ------- 12.7/15.5 MB 108.8 MB/s eta 0:00:01\n",
      "   ---------------------------------------  15.5/15.5 MB 110.0 MB/s eta 0:00:01\n",
      "   ---------------------------------------  15.5/15.5 MB 110.0 MB/s eta 0:00:01\n",
      "   ---------------------------------------- 15.5/15.5 MB 59.4 MB/s eta 0:00:00\n",
      "Installing collected packages: numpy\n",
      "Successfully installed numpy-1.26.2\n"
     ]
    },
    {
     "name": "stderr",
     "output_type": "stream",
     "text": [
      "\n",
      "[notice] A new release of pip is available: 23.2.1 -> 23.3.2\n",
      "[notice] To update, run: python.exe -m pip install --upgrade pip\n"
     ]
    }
   ],
   "source": [
    "# 기본자료형 : 정수, 실수, 문자열, 부울\n",
    "# 파이썬 자료형 : 리스트, 튜플, 딕셔너리, 집합\n",
    "# numpy : 배열자료형 : NUMeric PYthion : 숫자를 다루는 배열 자료형\n",
    "#         리스트와 비슷하다.\n",
    "!pip install numpy"
   ]
  },
  {
   "cell_type": "code",
   "execution_count": 2,
   "id": "de205604-ec5f-4714-bb3a-5bc326437446",
   "metadata": {},
   "outputs": [
    {
     "name": "stdout",
     "output_type": "stream",
     "text": [
      "Requirement already satisfied: pip in c:\\users\\sdedu\\appdata\\local\\programs\\python\\python312\\lib\\site-packages (23.2.1)\n",
      "Collecting pip\n",
      "  Obtaining dependency information for pip from https://files.pythonhosted.org/packages/15/aa/3f4c7bcee2057a76562a5b33ecbd199be08cdb4443a02e26bd2c3cf6fc39/pip-23.3.2-py3-none-any.whl.metadata\n",
      "  Downloading pip-23.3.2-py3-none-any.whl.metadata (3.5 kB)\n",
      "Downloading pip-23.3.2-py3-none-any.whl (2.1 MB)\n",
      "   ---------------------------------------- 0.0/2.1 MB ? eta -:--:--\n",
      "   ---------------------------------------- 0.0/2.1 MB ? eta -:--:--\n",
      "    --------------------------------------- 0.0/2.1 MB 640.0 kB/s eta 0:00:04\n",
      "   - -------------------------------------- 0.1/2.1 MB 648.1 kB/s eta 0:00:04\n",
      "   ----------------------- ---------------- 1.2/2.1 MB 8.6 MB/s eta 0:00:01\n",
      "   ---------------------------------------- 2.1/2.1 MB 13.4 MB/s eta 0:00:00\n",
      "Installing collected packages: pip\n",
      "  Attempting uninstall: pip\n",
      "    Found existing installation: pip 23.2.1\n",
      "    Uninstalling pip-23.2.1:\n",
      "      Successfully uninstalled pip-23.2.1\n",
      "Successfully installed pip-23.3.2\n"
     ]
    }
   ],
   "source": [
    "!python.exe -m pip install --upgrade pip"
   ]
  },
  {
   "cell_type": "code",
   "execution_count": 11,
   "id": "833967ba-d484-49cb-b440-69391aba2e6e",
   "metadata": {},
   "outputs": [
    {
     "name": "stdout",
     "output_type": "stream",
     "text": [
      "8\n"
     ]
    }
   ],
   "source": [
    "import numpy\n",
    "num = numpy.random.randint(10)\n",
    "print(num)"
   ]
  },
  {
   "cell_type": "code",
   "execution_count": 16,
   "id": "b8f5762b-5be9-4a82-aef4-92c8442b0174",
   "metadata": {},
   "outputs": [
    {
     "name": "stdout",
     "output_type": "stream",
     "text": [
      "2\n"
     ]
    }
   ],
   "source": [
    "import numpy as np # np로  별칭 사용\n",
    "num = np.random.randint(10) # 별칭을 이용해서 사용해야 한다.\n",
    "print(num)"
   ]
  },
  {
   "cell_type": "code",
   "execution_count": 43,
   "id": "b7edda61-1666-4369-b913-da745ee82b43",
   "metadata": {},
   "outputs": [
    {
     "name": "stdout",
     "output_type": "stream",
     "text": [
      "[2 0 1 9 5 3]\n"
     ]
    }
   ],
   "source": [
    "# 1차원 배열\n",
    "num1 = np.random.randint(10, size= 6)\n",
    "# 크기가 6인 1차원 배열\n",
    "print(num1)"
   ]
  },
  {
   "cell_type": "code",
   "execution_count": 49,
   "id": "9ee9151e-5264-4bc4-a1dc-f7b5c8b498eb",
   "metadata": {},
   "outputs": [
    {
     "name": "stdout",
     "output_type": "stream",
     "text": [
      "[2, 0, 1, 9, 5, 3]\n",
      "[2 0 1 9 5 3]\n",
      "0\n",
      "0\n",
      "5\n",
      "5\n",
      "[1, 9]\n",
      "[1 9]\n"
     ]
    }
   ],
   "source": [
    "l = [2, 0, 1, 9, 5, 3]\n",
    "print(l) #    [2, 0, 1, 9, 5, 3] : 리스트\n",
    "#              0  1  2  3  4  5 : index \n",
    "print(num1) # [2  0  1  9  5  3] : 배열\n",
    "# indexing\n",
    "print(l[1])\n",
    "print(num1[1])\n",
    "print(l[4])\n",
    "print(num1[4])\n",
    "# slicing\n",
    "print(l[2:4])\n",
    "print(num1[2:4])"
   ]
  },
  {
   "cell_type": "code",
   "execution_count": 52,
   "id": "45b664ab-3229-452a-ad41-ee6f13eac17b",
   "metadata": {},
   "outputs": [
    {
     "name": "stdout",
     "output_type": "stream",
     "text": [
      "[[1 5 8 5 4 6]\n",
      " [4 5 9 6 7 7]]\n"
     ]
    }
   ],
   "source": [
    "# 2차원 배열\n",
    "num2 = np.random.randint(10, size=(2, 6)) # 2행 6열\n",
    "print(num2)"
   ]
  },
  {
   "cell_type": "code",
   "execution_count": 57,
   "id": "6d6640dd-386e-4bd0-8b50-c43cf7f327b6",
   "metadata": {},
   "outputs": [
    {
     "name": "stdout",
     "output_type": "stream",
     "text": [
      "[[1, 5, 8, 5, 4, 6], [4, 5, 9, 6, 7, 7]]\n",
      "[[1 5 8 5 4 6]\n",
      " [4 5 9 6 7 7]]\n",
      "9\n",
      "9\n",
      "9\n"
     ]
    }
   ],
   "source": [
    "l2 = [[1, 5, 8, 5, 4, 6],[4, 5, 9, 6, 7, 7]]\n",
    "#              0                  1 :index\n",
    "#      0  1  2  3  4  5   0  1  2  3  4  5 :index\n",
    "# 리스트를 포함하고 있는 리스트와 같다.\n",
    "'''\n",
    "[[1  5  8  5  4  6] [4  5  9  6  7  7]]   \n",
    "        0행                 1행\n",
    "  0열1열2열3열4열5열  0열1열2열3열4열5열\n",
    "'''\n",
    "print(l2)\n",
    "print(num2)\n",
    "print(l2[1][2])\n",
    "print(num2[1][2]) # 리스트 표현식\n",
    "print(num2[1, 2]) # 행, 열 : 배열 표현식"
   ]
  },
  {
   "cell_type": "code",
   "execution_count": 74,
   "id": "7917dc9c-1c6a-49fc-a628-0376467edc54",
   "metadata": {},
   "outputs": [
    {
     "name": "stdout",
     "output_type": "stream",
     "text": [
      "[2, 10, 1, 9, 5, 3]\n",
      "[2 0 1 9 5 3]\n",
      "10\n",
      "0\n",
      "10\n",
      "0\n",
      "[1, 9]\n",
      "[1 9]\n",
      "[1, 9]\n",
      "[1 9]\n",
      "[2, 10, 1]\n",
      "[2, 10, 1]\n",
      "[2 0 1]\n",
      "[9, 5, 3]\n",
      "[9, 5, 3]\n",
      "[9 5 3]\n",
      "[2, 1, 5]\n",
      "[2 1 5]\n",
      "[3, 5, 9, 1, 10, 2]\n",
      "[3 5 9 1 0 2]\n",
      "10\n",
      "[2, 10, 1, 9, 5, 3]\n",
      "0\n",
      "[ 2 10  1  9  5  3]\n"
     ]
    }
   ],
   "source": [
    "# [2, 0, 1, 9, 5, 3]  :리스트\n",
    "#  0  1  2  3  4  5  : index\n",
    "# -6  5  4  3  2  1\n",
    "# [2  0  1  9  5  3]  : 배열\n",
    "#  0  1  2  3  4  5  : 열\n",
    "# -6  5  4  3  2  1 \n",
    "print(l)  # 리스트\n",
    "print(num1) # 1차원 배열\n",
    "print(l[1])\n",
    "print(num1[1])\n",
    "print(l[-5])\n",
    "print(num1[-5])\n",
    "print(l[2:4])\n",
    "print(num1[2:4])\n",
    "print(l[-4:-2])\n",
    "print(num1[-4:-2])\n",
    "print(l[0:3])  \n",
    "print(l[:3]) # 0을 생략 할 수 있다\n",
    "print(num1[:3])\n",
    "print(l[3:6])\n",
    "print(l[3:]) #  마지막번호는 생략할 수 있다\n",
    "print(num1[3:])\n",
    "# 전체를 한 개씩 건너뛰어라\n",
    "print(l[::2])\n",
    "print(num1[::2])\n",
    "print(l[::-1])\n",
    "print(num1[::-1])\n",
    "print(l[1])\n",
    "l[1] = 10\n",
    "print(l)\n",
    "print(num1[1])\n",
    "num1[1] = 10\n",
    "print(num1)"
   ]
  },
  {
   "cell_type": "code",
   "execution_count": 78,
   "id": "1cc1ca66-9e6d-4e65-a062-75ab3157942e",
   "metadata": {},
   "outputs": [
    {
     "name": "stdout",
     "output_type": "stream",
     "text": [
      "[[1, 5, 8, 5, 4, 6], [4, 5, 9, 6, 7, 7]]\n",
      "[[1 5 8 5 4 6]\n",
      " [4 5 9 6 7 7]]\n",
      "8\n",
      "8\n",
      "8\n",
      "8\n",
      "8\n",
      "8\n"
     ]
    }
   ],
   "source": [
    "# [[1, 5, 8, 5, 4, 6], [4, 5, 9, 6, 7, 7]]\n",
    "#          0index              1index\n",
    "#         -2index              -1index\n",
    "#   0  1  2  3  4  5    0  1  2  3  4  5 : index\n",
    "#  -6  5  4  3  2  1   -6  5  4  3  2  1 :index\n",
    "# [[1  5  8  5  4  6]  [4  5  9  6  7  7]]\n",
    "#          0행                 1행\n",
    "#         -2행                -1행\n",
    "#  0열1열2열3열4열5열    0열1열2열3열4열5열\n",
    "# -6열5열4열3열2열1열   -6열5열4열3열2열1열\n",
    "print(l2)\n",
    "print(num2)\n",
    "print(l2[0][2])\n",
    "print(num2[0][2])\n",
    "print(num2[0, 2])\n",
    "# print(l2[0, 2])\n",
    "print(l2[-2][-4])\n",
    "print(num2[-2][-4])\n",
    "print(num2[-2, -4])"
   ]
  },
  {
   "cell_type": "code",
   "execution_count": 81,
   "id": "d0d44337-80ac-4729-993d-b05528168c98",
   "metadata": {},
   "outputs": [
    {
     "name": "stdout",
     "output_type": "stream",
     "text": [
      "[[7 4 6 6]\n",
      " [9 8 8 4]\n",
      " [7 8 5 0]]\n"
     ]
    }
   ],
   "source": [
    "num3 = np.random.randint(10, size=(3, 4))\n",
    "print(num3)"
   ]
  },
  {
   "cell_type": "code",
   "execution_count": 83,
   "id": "fc9af7e5-587e-41e8-a549-9ca093d64864",
   "metadata": {},
   "outputs": [
    {
     "name": "stdout",
     "output_type": "stream",
     "text": [
      "[[7, 4, 6, 6], [9, 8, 8, 4], [7, 8, 5, 0]]\n"
     ]
    }
   ],
   "source": [
    "l3 = [[7, 4, 6, 6], \n",
    "      [9, 8, 8, 4], \n",
    "      [7, 8, 5, 0]]\n",
    "print(l3)"
   ]
  },
  {
   "cell_type": "code",
   "execution_count": 106,
   "id": "5519c39d-5d97-47fe-b707-aa802fa04b8b",
   "metadata": {},
   "outputs": [
    {
     "name": "stdout",
     "output_type": "stream",
     "text": [
      "[9, 8, 8, 4]\n",
      "[9 8 8 4]\n",
      "[[7, 4, 6, 6], [9, 8, 8, 4], [7, 8, 5, 0]]\n",
      "[[7 4 6 6]\n",
      " [9 8 8 4]\n",
      " [7 8 5 0]]\n",
      "[[7 4 6]\n",
      " [9 8 8]\n",
      " [7 8 5]]\n",
      "[[7, 4, 6, 6], [7, 8, 5, 0]]\n",
      "[[7 4 6 6]\n",
      " [7 8 5 0]]\n",
      "[[7 6]\n",
      " [9 8]\n",
      " [7 5]]\n",
      "[[7, 4, 6, 6]]\n",
      "[[7 4 6 6]]\n",
      "[[7 6]\n",
      " [7 5]]\n",
      "[[7, 8, 5, 0], [9, 8, 8, 4], [7, 4, 6, 6]]\n",
      "[[7 8 5 0]\n",
      " [9 8 8 4]\n",
      " [7 4 6 6]]\n",
      "[[6 6 4 7]\n",
      " [4 8 8 9]\n",
      " [0 5 8 7]]\n",
      "[[7 8 5 0]\n",
      " [9 8 8 4]\n",
      " [7 4 6 6]]\n",
      "[[0 5 8 7]\n",
      " [4 8 8 9]\n",
      " [6 6 4 7]]\n"
     ]
    }
   ],
   "source": [
    "'''\n",
    "리스트\n",
    "  0  1  2  3index\n",
    "[[7, 4, 6, 6],     # 0index \n",
    " [9, 8, 8, 4],     # 1index\n",
    " [7, 8, 5, 0]]     # 2index\n",
    "배열\n",
    "  0 1 2 3열\n",
    "[[7 4 6 6]        # 0행\n",
    " [9 8 8 4]        # 1행\n",
    " [7 8 5 0]]       # 2행\n",
    " '''\n",
    "print(l3[1]) # 1index\n",
    "print(num3[1]) # 1행\n",
    "print(l3[:][:3])\n",
    "print(num3[:][:3]) # 리스트 표현식 : 전체를 가지고 오는 것은 표현이 가능\n",
    "print(num3[:, :3]) # 배열 표현식 : 일부만 가지고 오는 표현이 가능\n",
    "print(l3[:][::2])\n",
    "print(num3[:][::2])\n",
    "print(num3[:, ::2]) # [행 , 열]\n",
    "print(l3[::2][::2]) # l3[::2]까지만 표현이 된다.\n",
    "print(num3[::2][::2]) # [::2]\n",
    "print(num3[::2, ::2]) \n",
    "print(l3[:][::-1]) #  [[7, 8, 5, 0], [9, 8, 8, 4], [7, 4, 6, 6]] \n",
    "print(num3[:][::-1]) # [[7 8 5 0] [9 8 8 4] [7 4 6 6]]\n",
    "print(num3[:, ::-1]) # [[6 6 4 7] [4 8 8 9] [0 5 8 7]]\n",
    "print(num3[::-1, :]) # [[7 8 5 0] [9 8 8 4] [7 4 6 6]\n",
    "print(num3[::-1 , ::-1])"
   ]
  },
  {
   "cell_type": "code",
   "execution_count": 112,
   "id": "2c3ce4f8-27a7-4938-82ca-a9b185d8a697",
   "metadata": {},
   "outputs": [
    {
     "name": "stdout",
     "output_type": "stream",
     "text": [
      "[[7, 40, 6, 6], [9, 8, 8, 4], [7, 8, 5, 0]]\n",
      "[[ 7 40  6  6]\n",
      " [ 9  8  8  4]\n",
      " [ 7  8  5  0]]\n",
      "40\n",
      "[[7, 40, 6, 6], [9, 8, 8, 4], [7, 8, 5, 0]]\n",
      "40\n",
      "[[ 7 40  6  6]\n",
      " [ 9  8  8  4]\n",
      " [ 7  8  5  0]]\n",
      "[[  7 400   6   6]\n",
      " [  9   8   8   4]\n",
      " [  7   8   5   0]]\n"
     ]
    }
   ],
   "source": [
    "print(l3)\n",
    "print(num3)\n",
    "print(l3[0][1])\n",
    "l3[0][1] = 40\n",
    "print(l3)\n",
    "print(num3[0][1])\n",
    "num3[0][1] = 40 # 리스트 표현식 (배열에서 가능하지만 사용을 자제)\n",
    "print(num3)\n",
    "num3[0, 1] = 400 # 배열 표현식(numpy에서는 배열 표현식으로 사용하는 것이 좋다)\n",
    "print(num3)"
   ]
  },
  {
   "cell_type": "code",
   "execution_count": null,
   "id": "c01e5526-c907-4418-a9ae-1011cab80b85",
   "metadata": {},
   "outputs": [],
   "source": [
    "### 배열을 만드는 방법\n",
    "# 1. random을 이용하는 방법\n",
    "num = np.random.randint(10, size= 6)  # 1차원 배열\n",
    "print(num)                              # 열의 집합\n",
    "num = np.random.randint(10 , size= (3, 4)) # 행,열 : 2차원배열 \n",
    "print(num)                              # 1차원 집합체 : 1차원을 행이라고 하고 \n",
    "num = np.random.randint(10 , size= (3, 3, 4)) # 면, 행, 열 : 3차원배열\n",
    "print(num)                             # 2차원의 집합 : 2차원을 면이라고 한다."
   ]
  },
  {
   "cell_type": "code",
   "execution_count": null,
   "id": "ff447af2-b6ee-4d38-b231-39f5d9ff5ec8",
   "metadata": {},
   "outputs": [],
   "source": [
    "for num in range(10): # range함수는 파이썬\n",
    "    print(num)"
   ]
  },
  {
   "cell_type": "code",
   "execution_count": 138,
   "id": "15931bda-589c-4bb1-aff0-01ffec70d050",
   "metadata": {},
   "outputs": [
    {
     "name": "stdout",
     "output_type": "stream",
     "text": [
      "[0 1 2 3 4 5 6 7 8 9]\n",
      "[0 1 2 3 4 5 6 7 8]\n",
      "[[0 1 2]\n",
      " [3 4 5]\n",
      " [6 7 8]]\n",
      "[[ 0  1  2  3]\n",
      " [ 4  5  6  7]\n",
      " [ 8  9 10 11]]\n",
      "[[11 12 13 14]\n",
      " [15 16 17 18]\n",
      " [19 20 21 22]]\n",
      "2\n",
      "2\n",
      "[[1 2 3]]\n",
      "[[1]\n",
      " [2]\n",
      " [3]]\n",
      "[[11 12 13 14]\n",
      " [15 16 17 18]\n",
      " [19 20 21 22]]\n"
     ]
    }
   ],
   "source": [
    "# 2. arange()함수를 사용하는 방법 \n",
    "# arange함수는 numpy에 있는 함수\n",
    "# 1차원 배열을 만들어 주는 함수\n",
    "print(np.arange(10)) # [0 1 2 3 4 5 6 7 8 9]\n",
    "m1 = np.arange(9) # 0부터 8까지값을 가지는 1차원 배열\n",
    "print(m1)\n",
    "m2 = np.arange(9).reshape(3,3) #0~8까지 9개의 숫자로 이루어진 배열\n",
    "print(m2)\n",
    "#m2 = np.arange(9).reshape(3,4) # 9개의 숫자인데 12개를 만드러야 하므로 오류 발생\n",
    "m3 = np.arange(12).reshape(3,4)\n",
    "print(m3)\n",
    "m4 = np.arange(11, 11+12).reshape(3,4)\n",
    "print(m4)\n",
    "l4 = [1,2,3,4,5] # 2\n",
    "print(l4[1])\n",
    "l5 = [[1,2,3,4,5]] #\n",
    "print(l5[0][1])\n",
    "# 행이 한개인 2차원을 만들자.\n",
    "m5 = np.arange(1, 4).reshape(1,3)\n",
    "print(m5)\n",
    "m6 = np.arange(1,4).reshape(3, 1)\n",
    "print(m6)\n",
    "'''\n",
    "[[1],\n",
    " [2],\n",
    " [3]]\n",
    "'''\n",
    "#m4 = np.arange(11, 11+12).reshape(3,4) # 3행 4열\n",
    "m7 = np.arange(11, 23).reshape(4, 3) # 4행 3열\n",
    "print(m7)"
   ]
  },
  {
   "cell_type": "code",
   "execution_count": 143,
   "id": "61673f41-b695-4d43-a832-d00164a46585",
   "metadata": {},
   "outputs": [
    {
     "name": "stdout",
     "output_type": "stream",
     "text": [
      "[1 2 3]\n",
      "[1 2 3]\n",
      "[[1 2 3]\n",
      " [4 5 6]\n",
      " [7 8 9]]\n",
      "[[1 2 3]\n",
      " [4 5 6]\n",
      " [7 8 9]]\n",
      "[[1 2 3]\n",
      " [4 5 6]\n",
      " [7 8 9]]\n"
     ]
    }
   ],
   "source": [
    "#3. array()함수를 사용하는 방법: 리스트, 튜플을 이용\n",
    "m9 = np.array([1,2,3])\n",
    "print(m9)\n",
    "m10 = np.array((1,2,3))\n",
    "print(m10)\n",
    "# 리스트를 포함한 리스트나 튜플을 포함한 튜플을 이용해서 2차원 배열을 만든다\n",
    "m11 = np.array([[1,2,3],[4,5,6],[7,8,9]])\n",
    "print(m11)\n",
    "m12 = np.array(([1,2,3],[4,5,6],[7,8,9]))\n",
    "print(m12)\n",
    "m13 = np.array(((1,2,3),(4,5,6),(7,8,9)))\n",
    "print(m13)\n",
    "m14 = np.array(((1,2,3),(4,np.NaN,6),(7,8,np.NaN)))\n",
    "print(m14)\n",
    "# np.NaN을 결측치라고 한다. NaN은 Not A Number : 알수 없는 값을 의미, null과 같다."
   ]
  },
  {
   "cell_type": "code",
   "execution_count": null,
   "id": "06859858-4776-4a90-8672-e9a433379ac8",
   "metadata": {},
   "outputs": [],
   "source": [
    "l1 = [1,2,3]\n",
    "l2 = [3,2,1]\n",
    "result = l1 + l2 # 연결\n",
    "print(result)\n",
    "x = np.array([1,2,3])\n",
    "y = np.array([3,2,1])\n",
    "result = x + y # +:덧셈\n",
    "print(result)"
   ]
  },
  {
   "cell_type": "code",
   "execution_count": 153,
   "id": "d27ad929-50f8-49e1-bba2-b67b60380570",
   "metadata": {},
   "outputs": [
    {
     "name": "stdout",
     "output_type": "stream",
     "text": [
      "[1 2 3]\n",
      "[3 2 1]\n",
      "[1 2 3 3 2 1]\n",
      "[ 1  2  3  3  2  1 99 99 99]\n",
      "[ 1  2  3  3  2  1 99 99 99]\n",
      "[ 1  2  3  3  2  1 99 99 99]\n"
     ]
    }
   ],
   "source": [
    "# 배열을 확장하기 \n",
    "print(x)\n",
    "print(y)\n",
    "z = np.concatenate((x, y))\n",
    "print(z)\n",
    "v = [99,99,99]\n",
    "z = np.concatenate((x, y, v)) # 배열에 리스트나 튜플 배열로 연결이 된다.\n",
    "print(z)\n",
    "# 리스트나 튜플도 배열로 확장할 수 있다.\n",
    "z = np.concatenate(([1,2,3], (3,2,1), [99,99,99])) \n",
    "print(z)\n",
    "z = np.concatenate((l1,l2,v))\n",
    "print(z)"
   ]
  },
  {
   "cell_type": "code",
   "execution_count": 161,
   "id": "c53ef677-4589-4a17-b0e4-54318bf49724",
   "metadata": {},
   "outputs": [
    {
     "name": "stdout",
     "output_type": "stream",
     "text": [
      "\n"
     ]
    }
   ],
   "source": [
    "#2차원배열 확장하기\n",
    "x2 = np.array([1,2,3])\n",
    "grid = np.array([[9,8,7],\n",
    "                 [6,5,4],\n",
    "                 [3,2,1]])\n",
    "grid1 = np.array([[9,8,7],[6,5,4],[3,2,1]])\n",
    "'''\n",
    "[9,8,7], \n",
    "[6,5,4],\n",
    "[3,2,1]\n",
    "\n",
    "z = np.concatenate((grid, x2), axis = 0) # 열기준, x축기준\n",
    "print(z)\n",
    "concatenate를 사용하는 경우에는 차원이 같아야 한다.  \n",
    "3행4열과 4행3열은 2차원이라는 것 같지만 차원은 다르다고 말한다.\n",
    "\n",
    "z = np.concatenate((grid, x2), axis = 1) # 행기준, y축기준\n",
    "print(z)\n",
    "grid\n",
    "[9,8,7], \n",
    "[6,5,4],\n",
    "[3,2,1]\n",
    "grid1\n",
    "[9,8,7], \n",
    "[6,5,4],\n",
    "[3,2,1]\n",
    "'''\n",
    "print()\n",
    "z = np.concatenate((grid, grid1), axis=0)\n",
    "print(z)\n",
    "z = np.concatenate((grid, grid1)) # axis=0은 기본 값이 된다.\n",
    "print(z)\n",
    "z = np.concatenate((grid, grid1), axis = 1 ) # axis = 1 : 행기분, y축기준 \n",
    "print(z)"
   ]
  },
  {
   "cell_type": "code",
   "execution_count": 169,
   "id": "879b958b-67bd-4a6d-8e0f-44e7314ae7ab",
   "metadata": {},
   "outputs": [
    {
     "name": "stdout",
     "output_type": "stream",
     "text": [
      "[1 2 3]\n",
      "[[9 8 7]\n",
      " [6 5 4]\n",
      " [3 2 1]]\n",
      "[[1 2 3]\n",
      " [9 8 7]\n",
      " [6 5 4]\n",
      " [3 2 1]]\n",
      "[[1 2]\n",
      " [9 8]\n",
      " [7 6]]\n",
      "[[9 8 7 1 2]\n",
      " [6 5 4 9 8]\n",
      " [3 2 1 7 6]]\n"
     ]
    }
   ],
   "source": [
    "# 차원이 다른 경우\n",
    "print(x2)\n",
    "print(grid)\n",
    "z = np.vstack((x2, grid)) # 열의 차원이 같고 행의 차원이 다른 경우\n",
    "print(z)\n",
    "# z = np.hstack((x2, grid))\n",
    "grid2 = np.array([[1,2],[9,8],[7,6]])\n",
    "print(grid2)\n",
    "'''\n",
    "[9 8 7]  [1,2]\n",
    "[6 5 4]  [9,8]\n",
    "[3 2 1]  [7,6]\n",
    "'''\n",
    "z = np.hstack((grid1, grid2)) # 열의 차원은 달라도 행의 차원이 같은 경우 \n",
    "print(z)"
   ]
  },
  {
   "cell_type": "code",
   "execution_count": 171,
   "id": "15eb598d-968b-496e-b8aa-ded67c12f051",
   "metadata": {},
   "outputs": [
    {
     "name": "stdout",
     "output_type": "stream",
     "text": [
      "[4 4 4]\n",
      "[1, 2, 3, 3, 2, 1]\n"
     ]
    }
   ],
   "source": [
    "# 유니버설 함수(UFuncs)\n",
    "l1 = [1,2,3]\n",
    "l2 = [3,2,1]\n",
    "x = np.array(l1)\n",
    "y = np.array(l2)\n",
    "result = x + y\n",
    "print(result) # [4 4 4]\n",
    "result = l1 + l2 \n",
    "print(result) # [1, 2, 3, 3, 2, 1]"
   ]
  },
  {
   "cell_type": "code",
   "execution_count": 173,
   "id": "59e328d9-9e7f-457a-b00b-d095b40395e1",
   "metadata": {},
   "outputs": [],
   "source": [
    "def add(i, j):\n",
    "    l4 = []\n",
    "    for idx in range(len(i)):\n",
    "        l4.append(i[idx]+j[idx])\n",
    "    return l4"
   ]
  },
  {
   "cell_type": "code",
   "execution_count": 174,
   "id": "c01fc0ef-b623-4daf-b813-f4dd62b2e0e6",
   "metadata": {},
   "outputs": [
    {
     "name": "stdout",
     "output_type": "stream",
     "text": [
      "[4, 4, 4]\n"
     ]
    }
   ],
   "source": [
    "result = add(l1, l2)\n",
    "print(result)"
   ]
  },
  {
   "cell_type": "code",
   "execution_count": 178,
   "id": "3ae5deb4-8c86-4677-84c9-36d8bf477b77",
   "metadata": {},
   "outputs": [
    {
     "name": "stdout",
     "output_type": "stream",
     "text": [
      "[4 4 4]\n",
      "[4 4 4]\n",
      "[-2  0  2]\n",
      "[-2  0  2]\n",
      "[3 4 3]\n",
      "[3 4 3]\n",
      "[0.33333333 1.         3.        ]\n",
      "[0.33333333 1.         3.        ]\n"
     ]
    }
   ],
   "source": [
    "result = x + y\n",
    "print(result)\n",
    "result = np.add(x, y)\n",
    "print(result)\n",
    "# +, -, *, / , % , //, ** 를 사용할 때 자동으로 실행되는 함수 유니버설 함수(UFuncs)\n",
    "# 비교연산자에 대한 유니버셜함수도 있다.\n",
    "result = x - y\n",
    "print(result)\n",
    "result = np.subtract(x, y)\n",
    "print(result)\n",
    "result = x * y\n",
    "print(result)\n",
    "result = np.multiply(x, y)\n",
    "print(result)\n",
    "result = x / y\n",
    "print(result)\n",
    "result = np.divide(x, y)\n",
    "print(result)"
   ]
  },
  {
   "cell_type": "code",
   "execution_count": 185,
   "id": "b84a259e-1f56-42cd-b25b-f6bad94672c3",
   "metadata": {},
   "outputs": [
    {
     "name": "stdout",
     "output_type": "stream",
     "text": [
      "[1 2 3]\n",
      "[3 2 1]\n",
      "[6 7 8]\n",
      "[[1]\n",
      " [2]\n",
      " [3]]\n",
      "[[2 3 4]\n",
      " [3 4 5]\n",
      " [4 5 6]]\n",
      "[[9 8 7]\n",
      " [6 5 4]\n",
      " [3 2 1]]\n",
      "[[14 13 12]\n",
      " [11 10  9]\n",
      " [ 8  7  6]]\n"
     ]
    }
   ],
   "source": [
    "# 브로드케스팅 \n",
    "print(x)\n",
    "print(y)\n",
    "# 배열을 연산하기 위해서는 차원이 같아야 한다.\n",
    "z = x + 5 # 1차원배열 + 정수 : [1 2 3] + [5 5 5] : 정수가 3열짜리 1차원 배열이 되어야 한다.\n",
    "# 서로 다른 차원을 가진 배열이나 숫자가 같은 차원으로 확장이 되는 것 \n",
    "print(z) # [6 7 8]\n",
    "k = np.array([[1],[2],[3]])\n",
    "print(k)\n",
    "'''\n",
    "[1 2 3] + [[1]  =  [1 2 3] + [[1][1][1]\n",
    "           [2]     [1 2 3]    [2][2][2]\n",
    "           [3]]    [1 2 3]    [3][3][3]]\n",
    "'''\n",
    "z =  x + k \n",
    "print(z)\n",
    "'''\n",
    "[[9 8 7]   +  5   = [[9 8 7]     + [[5 5 5]\n",
    " [6 5 4]             [6 5 4]        [5 5 5]\n",
    " [3 2 1]]            [3 2 1]]       [5 5 5]]\n",
    " '''\n",
    "print(grid)\n",
    "z = grid + 5\n",
    "print(z)"
   ]
  },
  {
   "cell_type": "code",
   "execution_count": 195,
   "id": "50a6eb06-4884-40bb-8382-604e8904a41e",
   "metadata": {},
   "outputs": [
    {
     "name": "stdout",
     "output_type": "stream",
     "text": [
      "[0. 0. 0.]\n",
      "[[0. 0. 0.]\n",
      " [0. 0. 0.]\n",
      " [0. 0. 0.]]\n",
      "[1. 1. 1.]\n",
      "[[1. 1. 1.]\n",
      " [1. 1. 1.]\n",
      " [1. 1. 1.]]\n"
     ]
    }
   ],
   "source": [
    "# 넘파이 함수\n",
    "# 제로행렬\n",
    "m = np.zeros(3)\n",
    "print(m)\n",
    "m = np.zeros((3,3))\n",
    "print(m)\n",
    "#원(1)행렬\n",
    "m = np.ones(3)\n",
    "print(m)\n",
    "m = np.ones([3,3])\n",
    "print(m)"
   ]
  },
  {
   "cell_type": "code",
   "execution_count": 215,
   "id": "60295589-23fe-41d5-9af1-e92c243e917a",
   "metadata": {},
   "outputs": [
    {
     "name": "stdout",
     "output_type": "stream",
     "text": [
      "6\n",
      "1\n",
      "21\n",
      "[5 1 6 5 4 7]\n",
      "28\n",
      "28\n",
      "28\n",
      "21\n",
      "7\n",
      "7\n",
      "1\n",
      "1\n"
     ]
    }
   ],
   "source": [
    "# 집계 함수\n",
    "l = [1,2,3,4,5,6]\n",
    "print(max(l)) # 내장함수\n",
    "print(min(l))\n",
    "print(sum(l))\n",
    "m = np.random.randint(10, size = 6)\n",
    "print(m)\n",
    "print(sum(m))\n",
    "print(np.sum(m))\n",
    "print(m.sum())\n",
    "print(np.sum(l))\n",
    "#print(l.sum())\n",
    "print(m.max())\n",
    "print(np.max(m))\n",
    "print(m.min())\n",
    "print(np.min(m))"
   ]
  },
  {
   "cell_type": "code",
   "execution_count": 229,
   "id": "cab47a2d-cb70-48a1-8a1c-81ffc2f134b5",
   "metadata": {},
   "outputs": [
    {
     "name": "stdout",
     "output_type": "stream",
     "text": [
      "[[0.89291959 0.98182039 0.59308414]\n",
      " [0.17826579 0.9772397  0.66706902]\n",
      " [0.56622501 0.51059407 0.03023915]\n",
      " [0.24747526 0.1571516  0.50077845]]\n",
      "[1.88488566 2.62680575 1.79117076]\n",
      "6.302862181898774\n",
      "6.302862181898774\n",
      "0.9818203864122164\n",
      "0.9818203864122164\n",
      "0.030239153497226612\n",
      "0.030239153497226612\n",
      "0.5252385151582312\n",
      "0.5252385151582312\n",
      "0.31000374438742195\n",
      "0.31000374438742195\n"
     ]
    }
   ],
   "source": [
    "m = np.random.random((4, 3))\n",
    "print(m)\n",
    "print(sum(m)) # 열의 합계\n",
    "print(np.sum(m)) # 집계 합\n",
    "print(m.sum())\n",
    "print(np.max(m)) # 집계 최대값\n",
    "print(m.max())\n",
    "print(np.min(m))\n",
    "print(m.min())\n",
    "print(np.mean(m)) # 전체 평균\n",
    "print(m.mean())\n",
    "print(np.std(m)) # 표준편차\n",
    "print(m.std()) "
   ]
  },
  {
   "cell_type": "code",
   "execution_count": null,
   "id": "07d8bc5d-90dc-4a49-9891-880b9c20129c",
   "metadata": {},
   "outputs": [],
   "source": [
    "!pip install pandas"
   ]
  },
  {
   "cell_type": "code",
   "execution_count": 242,
   "id": "c45ec8a0-31e8-496d-b0de-2eb865d32c86",
   "metadata": {},
   "outputs": [
    {
     "name": "stdout",
     "output_type": "stream",
     "text": [
      "7549\n",
      "최소값 :  163\n",
      "25% :  174.25\n",
      "50%(중앙값, 중위값) :  182.0\n",
      "50%(중앙값, 중위값) :  182.0\n",
      "75% :  183.0\n",
      "179.73809523809524\n",
      "193\n",
      "6.931843442745892\n"
     ]
    }
   ],
   "source": [
    "import pandas as pd\n",
    "df = pd.read_csv(\"https://raw.githubusercontent.com/SoongMoo/soldesk20231218/main/%EC%B0%B8%EA%B3%A0%EC%9E%90%EB%A3%8C/NumPy/data/president_heights.csv\")\n",
    "heights = np.array(df['height(cm)'])\n",
    "# print(heights) #배열로 저장\n",
    "print(heights.sum())\n",
    "print('최소값 : ', heights.min()) # 0사분위 \n",
    "print('25% : ' , np.percentile(heights, 25)) # 25% , 1사분위\n",
    "print('평균 : ', heights.mean()) # 평균\n",
    "print('50%(중앙값, 중위값) : ', np.percentile(heights, 50)) # 50% , 2사분위\n",
    "print('중앙값(중위값) : ',np.median(heights))\n",
    "print('75% : ' , np.percentile(heights, 75)) # 3사분위\n",
    "print('최대값 : ',heights.max())  # 4사분위\n",
    "print(heights.std()) # 표준편차"
   ]
  },
  {
   "cell_type": "code",
   "execution_count": null,
   "id": "aa5a5bf5-dee5-4477-9a96-11bbb0c5562d",
   "metadata": {},
   "outputs": [],
   "source": [
    "# 시각화\n",
    "!pip install matplotlib"
   ]
  },
  {
   "cell_type": "code",
   "execution_count": 244,
   "id": "1e45c06d-a50e-4348-b9fb-2f88b9890960",
   "metadata": {},
   "outputs": [
    {
     "data": {
      "text/plain": [
       "(array([ 1.,  2.,  3.,  5.,  3.,  6., 12.,  3.,  5.,  2.]),\n",
       " array([163., 166., 169., 172., 175., 178., 181., 184., 187., 190., 193.]),\n",
       " <BarContainer object of 10 artists>)"
      ]
     },
     "execution_count": 244,
     "metadata": {},
     "output_type": "execute_result"
    },
    {
     "data": {
      "image/png": "[encoded data removed]",
      "text/plain": [
       "<Figure size 640x480 with 1 Axes>"
      ]
     },
     "metadata": {},
     "output_type": "display_data"
    }
   ],
   "source": [
    "import matplotlib.pyplot as plt\n",
    "plt.hist(heights)"
   ]
  },
  {
   "cell_type": "code",
   "execution_count": 260,
   "id": "4c3a4f1b-0955-41d8-acae-260d5f17ef30",
   "metadata": {},
   "outputs": [
    {
     "name": "stdout",
     "output_type": "stream",
     "text": [
      "1\n",
      "4\n",
      "[1 2 3 4 5 6]\n",
      "1\n",
      "4\n",
      "[1 4]\n",
      "[False False False  True  True  True]\n",
      "[4 5 6]\n",
      "[4 5 6]\n",
      "21\n",
      "3\n",
      "3\n",
      "21\n",
      "15\n",
      "15\n"
     ]
    }
   ],
   "source": [
    "# 팬시 index, 마스크\n",
    "l = [1, 2, 3, 4, 5, 6]\n",
    "#    0  1  2  3  4  5 : index\n",
    "#   True, False, False, True, False, False : 팬시 index\n",
    "print(l[0])\n",
    "print(l[3])\n",
    "# print(l[[True, False, False, True, False, False]])\n",
    "x = np.array([1, 2, 3, 4, 5, 6])\n",
    "print(x)\n",
    "# [1 2 3 4 5 6]\n",
    "#  0 1 2 3 4 5\n",
    "#   True, False, False, True, False, False : 팬시 index\n",
    "print(x[0])\n",
    "print(x[3])\n",
    "print(x[[True, False, False, True, False, False]]) # 마스크\n",
    "# 비교연산자 : 팬시 index를 사용\n",
    "print( x > 3) # 팬시index : [False False False  True  True  True]\n",
    "print(x[[False, False, False , True,  True,  True]]) # 마스크\n",
    "print(x[x > 3])\n",
    "print(np.sum(x))\n",
    "print(np.sum([False, False, False , True,  True,  True])) # 팬시index의 합계\n",
    "#               0      0     0        1      1     1\n",
    "print(np.sum(x > 3)) # True의 갯수를 알수 있다.\n",
    "# 마스크된 전체의 합계\n",
    "print(x.sum())\n",
    "print(np.sum(x))\n",
    "print(x[x > 3].sum())\n",
    "print(np.sum(x[x > 3]))"
   ]
  },
  {
   "cell_type": "code",
   "execution_count": 267,
   "id": "406b4391-12cf-4151-8d10-ace113900b04",
   "metadata": {},
   "outputs": [
    {
     "name": "stdout",
     "output_type": "stream",
     "text": [
      "[False False False  True  True  True]\n",
      "[ True  True False False False False]\n",
      "[ True  True  True False False False]\n",
      "[False False  True  True  True  True]\n",
      "[False False  True False False False]\n",
      "[ True  True False  True  True  True]\n",
      "[1 2 4 5 6]\n"
     ]
    }
   ],
   "source": [
    "print(x > 3)\n",
    "print(x < 3)\n",
    "print(x <= 3)\n",
    "print(x >= 3)\n",
    "print(x == 3)\n",
    "print(x != 3) # 팬시 index\n",
    "print(x[x != 3]) # 마스크"
   ]
  },
  {
   "cell_type": "code",
   "execution_count": 274,
   "id": "e6003d9d-834f-4fb1-8f62-2e196714a8ac",
   "metadata": {},
   "outputs": [
    {
     "name": "stdout",
     "output_type": "stream",
     "text": [
      "[[1 2 3]\n",
      " [4 5 6]\n",
      " [7 8 9]]\n",
      "[[False False False]\n",
      " [False False  True]\n",
      " [ True  True  True]]\n",
      "[6 7 8 9]\n",
      "[6 7 8 9]\n",
      "4\n",
      "4\n",
      "30\n"
     ]
    }
   ],
   "source": [
    "x1 = np.array([[1,2,3],\n",
    "               [4,5,6],\n",
    "               [7,8,9]])\n",
    "print(x1)\n",
    "print(x1 > 5)\n",
    "print(x1[[[False, False, False],[False, False,  True],[ True,  True,  True]]])\n",
    "print(x1[x1 > 5])\n",
    "print(np.sum(x1 > 5)) # True의 갯수\n",
    "print((x1 > 5).sum()) \n",
    "print(x1[x1 > 5].sum()) # 마스크를 제외한 합계 값"
   ]
  },
  {
   "cell_type": "code",
   "execution_count": 290,
   "id": "2f7e6343-8c89-4550-a0dd-956caf3e70c9",
   "metadata": {},
   "outputs": [
    {
     "name": "stdout",
     "output_type": "stream",
     "text": [
      "39\n",
      "30.795275590551178\n",
      "26\n",
      "339\n",
      "339\n",
      "32.12204724409449\n",
      "32.12204724409449\n",
      "215\n",
      "150\n"
     ]
    }
   ],
   "source": [
    "rainfall = pd.read_csv(\"https://raw.githubusercontent.com/SoongMoo/soldesk20231218/main/%EC%B0%B8%EA%B3%A0%EC%9E%90%EB%A3%8C/NumPy/data/Seattle2014.csv\")\n",
    "rainfall['PRCP']\n",
    "inches = np.array(rainfall['PRCP'] / 254)\n",
    "inches\n",
    "# 0.5인치이상 온 날은 몇일입니까?\n",
    "print((inches >= 0.5).sum())\n",
    "# 0.5인치이상 온 날의  총 강수량은?\n",
    "print(inches[inches >= 0.5].sum())\n",
    "# 강수량이 0.5에서 0.8 사이인 날은 몇일이나 되나요?\n",
    "print(((inches >= 0.5) & (inches <= 0.8)).sum())\n",
    "#강수량이 0.5미만 0.8초과한 날은?\n",
    "print((~((inches >= 0.5) & (inches <= 0.8))).sum())\n",
    "print(((inches < 0.5) | (inches > 0.8)).sum())\n",
    "#강수량이 0.5미만 0.8초과한 날의 강수량의 합계?\n",
    "print(inches[~((inches >= 0.5) & (inches <= 0.8))].sum())\n",
    "print(inches[(inches < 0.5) | (inches > 0.8)].sum())\n",
    "#비가 안온 날\n",
    "print((inches == 0).sum())\n",
    "#비가 온 날\n",
    "print((inches != 0).sum())"
   ]
  },
  {
   "cell_type": "code",
   "execution_count": 292,
   "id": "7eba5add-3d3c-4244-8f92-0f4b32a89493",
   "metadata": {},
   "outputs": [
    {
     "data": {
      "text/plain": [
       "(array([245.,  14.,  13.,  17.,   8.,   6.,   5.,   6.,   4.,   3.,   7.,\n",
       "          6.,   3.,   3.,   3.,   4.,   4.,   2.,   4.,   0.,   0.,   1.,\n",
       "          1.,   1.,   0.,   0.,   0.,   2.,   1.,   1.,   0.,   0.,   0.,\n",
       "          0.,   0.,   0.,   0.,   0.,   0.,   1.]),\n",
       " array([0.        , 0.04596457, 0.09192913, 0.1378937 , 0.18385827,\n",
       "        0.22982283, 0.2757874 , 0.32175197, 0.36771654, 0.4136811 ,\n",
       "        0.45964567, 0.50561024, 0.5515748 , 0.59753937, 0.64350394,\n",
       "        0.6894685 , 0.73543307, 0.78139764, 0.8273622 , 0.87332677,\n",
       "        0.91929134, 0.96525591, 1.01122047, 1.05718504, 1.10314961,\n",
       "        1.14911417, 1.19507874, 1.24104331, 1.28700787, 1.33297244,\n",
       "        1.37893701, 1.42490157, 1.47086614, 1.51683071, 1.56279528,\n",
       "        1.60875984, 1.65472441, 1.70068898, 1.74665354, 1.79261811,\n",
       "        1.83858268]),\n",
       " <BarContainer object of 40 artists>)"
      ]
     },
     "execution_count": 292,
     "metadata": {},
     "output_type": "execute_result"
    },
    {
     "data": {
      "image/png": "[encoded data removed]",
      "text/plain": [
       "<Figure size 640x480 with 1 Axes>"
      ]
     },
     "metadata": {},
     "output_type": "display_data"
    }
   ],
   "source": [
    "plt.hist(inches, 40)"
   ]
  },
  {
   "cell_type": "code",
   "execution_count": 302,
   "id": "ffd54e2f-44ec-4863-bd29-15c4466dbc19",
   "metadata": {},
   "outputs": [
    {
     "name": "stdout",
     "output_type": "stream",
     "text": [
      "[2 3 5 6 7]\n",
      "[[0 1 2 2 5 9]\n",
      " [2 5 7 7 7 8]\n",
      " [2 5 5 5 8 8]\n",
      " [2 3 3 6 6 7]]\n",
      "[[2 2 5 0 1 2]\n",
      " [5 5 6 3 3 2]\n",
      " [6 7 7 5 5 2]\n",
      " [7 9 8 8 8 7]]\n",
      "[[0 1 2 2 5 9]\n",
      " [2 5 7 7 7 8]\n",
      " [2 5 5 5 8 8]\n",
      " [2 3 3 6 6 7]]\n"
     ]
    }
   ],
   "source": [
    "# 정렬\n",
    "x = np.array([3,6,2,7,5])\n",
    "x\n",
    "print(np.sort(x))\n",
    "x = np.random.randint(10 , size = (4, 6))\n",
    "x\n",
    "print(np.sort(x , axis = 1))\n",
    "print(np.sort(x , axis = 0))\n",
    "print(np.sort(x)) # axis = 1"
   ]
  },
  {
   "cell_type": "code",
   "execution_count": 311,
   "id": "4b2ddb00-a032-489b-8f82-378912bc89b1",
   "metadata": {},
   "outputs": [
    {
     "name": "stdout",
     "output_type": "stream",
     "text": [
      "[[2 9 5 0 1 2]\n",
      " [7 2 7 5 8 7]\n",
      " [5 5 8 8 5 2]\n",
      " [6 7 6 3 3 2]]\n",
      "[[0 2 1 2 9 5]\n",
      " [5 7 2 7 8 7]\n",
      " [5 2 5 5 8 8]\n",
      " [3 2 3 6 7 6]]\n",
      "[[0 2 1 2 9 5]\n",
      " [5 7 2 7 8 7]\n",
      " [5 2 5 5 8 8]\n",
      " [3 2 3 6 7 6]]\n",
      "[[2 2 5 0 1 2]\n",
      " [5 5 6 3 3 2]\n",
      " [6 7 7 5 5 2]\n",
      " [7 9 8 8 8 7]]\n"
     ]
    }
   ],
   "source": [
    "# 파티션 나누기 : 작은값은 왼쪽 , 큰값은 오른쪽으로 배치\n",
    "#                 작은값은 위로, 큰값은 아래로 배치 \n",
    "print(x)\n",
    "# 작은 값은 왼쪽, 큰값은 오른쪽\n",
    "print(np.partition(x, 3 )) # axis = 1 기본값\n",
    "print(np.partition(x, 3 , axis = 1 ))\n",
    "# 작은 값은 위로, 큰값은 아래로\n",
    "print(np.partition(x, 2 , axis = 0 )) #열기준 "
   ]
  },
  {
   "cell_type": "code",
   "execution_count": 314,
   "id": "f2ea77d3-1ddf-4563-bdb3-ec516351158a",
   "metadata": {},
   "outputs": [
    {
     "data": {
      "text/plain": [
       "array([  1.6,  -1.4,  -2. ,   0.3,  -2.1,  -1.9,  -8.4, -10.7,  -7.5,\n",
       "        -2.7,  -4. ,  -0.5,   8.3,   7. ,   9.9,  -0.7,  -1.3,   0.2,\n",
       "        -0.2,   7.1,   7. ,   6.6,  12.2,  13.9,  13.9,   7.4,   6.5,\n",
       "         1.4,  -4.9,   5.2,   8.7,   9.5,  -2.4,   1.4,   0.7,   6.7,\n",
       "         9.5,   7.7,   0.2,   4.7,   7.2,  10.9,  14. ,  15.9,  13.8,\n",
       "         8.2,  -1.3,  -5.2,  -0.4,   8.9,  14.9,  17.4,  12.6,   4.3,\n",
       "        10.1,   8.2,  15.8,  16.2,  10.8,   9. ,   6.9,   9.9,  13. ,\n",
       "        16.2,  11.6,  12.2,  13.9,  12.2,  17.1,  17.1,  14.9,  14.2,\n",
       "        14.7,  15.7,  13.1,  17.5,  18.4,  20.2,  14.7,   8.6,  11.1,\n",
       "        16.4,  16.9,  19. ,  20.6,  15. ,  13. ,  14.6,  18.2,  22.9,\n",
       "        24. ,  23. ,  18. ,  15.8,  19.3,  19.2,  20.4,  18. ,  19.6,\n",
       "        18.8,  21.8,  17.8,  13.5,  13.3,  18.3,  14.8,  14.6,  15.3,\n",
       "        19.4,  22. ,  28.2,  27.5,  21.7,  22.2,  24. ,  20.6,  20. ,\n",
       "        18.2,  20.1,  14.6,  15.3,  18.7,  20.3,  15.8,  18.4,  23.1,\n",
       "        17.2,  21. ,  21.8,  14.6,  25.7,  27.7,  29.6,  30.8,  26.2,\n",
       "        20.8,  16.7,  24.5,  26.6,  22.9,  18.2,  23.8,  25.1,  24.5,\n",
       "        19.3,  23. ,  18.7,  19.7,  19.1,  26.3,  23.8,  23.9,  29.7,\n",
       "        22.7,  23.6,  25.7,  28.2,  24. ,  29.5,  31.6,  29.8,  24.4,\n",
       "        30.2,  29.7,  30.2,  25.3,  28.9,  25. ,  21.4,  27.4,  29. ,\n",
       "        28.5,  28.6,  27.9,  28. ,  29.5,  26.7,  30.8,  29.2,  28.4,\n",
       "        28.8,  31. ,  31.8,  25.7,  23.1,  26.9,  30.1,  29.1,  29.8,\n",
       "        29.2,  29.2,  27.5,  32.5,  31.5,  33.5,  34.5,  35.2,  32.8,\n",
       "        34.1,  30.5,  31.8,  35.3,  35.9,  35.8,  36.5,  35.9,  35.4,\n",
       "        35.7,  34.7,  33.3,  35.4,  34.3,  28.8,  28.6,  31.4,  33.2,\n",
       "        33.7,  32.2,  32.3,  32.1,  33.6,  32.2,  31.6,  31.7,  30.1,\n",
       "        30.5,  32.4,  32.8,  31.3,  31. ,  31.5,  30.7,  25.5,  27. ,\n",
       "        24. ,  26.4,  27.3,  27.9,  25.5,  28.2,  26.3,  27.7,  23.1,\n",
       "        23.9,  26.7,  29.2,  28.6,  27.3,  26.4,  20.9,  26.9,  29.1,\n",
       "        28.9,  29.4,  29.8,  30.3,  29.5,  28.9,  27.3,  28.2,  29.8,\n",
       "        27.8,  28.4,  26.2,  24.3,  25.9,  26.9,  23.1,  27.3,  25. ,\n",
       "        24.4,  21.4,  25.9,  27.5,  26.6,  28.8,  25.6,  26.5,  21.7,\n",
       "        21.9,  20. ,  24.1,  24.3,  17.8,  21.3,  25.2,  23.9,  21.4,\n",
       "        18.1,  10.8,  16.1,  15. ,  15.8,  16.2,  17.2,  18.4,  18.1,\n",
       "        17.6,  19. ,  18.1,  20. ,  20.6,  18. ,  20.3,  16.9,  16.9,\n",
       "        17.1,  16.3,  20.2,  21.3,  21.3,  15.5,   6.5,   7.7,   9.7,\n",
       "         8.6,  13.4,  16.4,  15.7,  13.6,  12.5,  16.2,  16.7,  15.6,\n",
       "        13.1,   7.5,   2.3,   9.1,   9.9,   7.2,  10.1,  12.4,  13.7,\n",
       "         8.9,   1.5,   5. ,   4.6,   7. ,   9.6,  12.1,  13.3,  13.3,\n",
       "         9.7,   8.2,   9.8,   5.1,   1.9,   8.2,  10. ,   9.8,   3.2,\n",
       "        -1.8,   4.2,  11.1,   8.9,   8.2,   8.3,   3.2,  -7.3,  -7.3,\n",
       "        -3.9,  -0.9,   5.9,   0.2,  -3.9])"
      ]
     },
     "execution_count": 314,
     "metadata": {},
     "output_type": "execute_result"
    }
   ],
   "source": [
    "df = pd.read_csv(\"ta_20231226161619.csv\")\n",
    "df\n",
    "cmax = np.array(df['최고기온(℃)'])\n",
    "cmax"
   ]
  }
 ],
 "metadata": {
  "kernelspec": {
   "display_name": "Python 3 (ipykernel)",
   "language": "python",
   "name": "python3"
  },
  "language_info": {
   "codemirror_mode": {
    "name": "ipython",
    "version": 3
   },
   "file_extension": ".py",
   "mimetype": "text/x-python",
   "name": "python",
   "nbconvert_exporter": "python",
   "pygments_lexer": "ipython3",
   "version": "3.12.1"
  }
 },
 "nbformat": 4,
 "nbformat_minor": 5
}
