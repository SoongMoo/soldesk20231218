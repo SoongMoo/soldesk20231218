{
 "cells": [
  {
   "cell_type": "code",
   "execution_count": 2,
   "id": "eece1618-bc2d-4df7-a773-2fceaf40318e",
   "metadata": {},
   "outputs": [
    {
     "name": "stdout",
     "output_type": "stream",
     "text": [
      "8\n"
     ]
    }
   ],
   "source": [
    "print(3 + 5)"
   ]
  },
  {
   "cell_type": "code",
   "execution_count": 38,
   "id": "6ad37412-2168-470a-ad65-2d00324f09b3",
   "metadata": {},
   "outputs": [
    {
     "name": "stdout",
     "output_type": "stream",
     "text": [
      "160\n"
     ]
    }
   ],
   "source": [
    "print(20 * 8) # 행단위 명령어 : 한줄 명령어다."
   ]
  },
  {
   "cell_type": "code",
   "execution_count": 39,
   "id": "302b3863-d06c-4e7a-9267-4f2c54956ddd",
   "metadata": {},
   "outputs": [
    {
     "name": "stdout",
     "output_type": "stream",
     "text": [
      "10\n"
     ]
    }
   ],
   "source": [
    "i = 10; print(i) # 여러개의 명령어를 한줄에 작성하는 경우에는 ; 을 사용해서 명령어를 구분지어 준다."
   ]
  },
  {
   "cell_type": "code",
   "execution_count": 43,
   "id": "0ab612bd-c7a1-4366-b24f-d3059e416e5b",
   "metadata": {},
   "outputs": [],
   "source": [
    "if 10 < i:\n",
    "    print(\"i가 큽니다\")\n",
    "    print(\"i가 큽니다\")\n",
    "    print(\"i가 큽니다\")"
   ]
  },
  {
   "cell_type": "code",
   "execution_count": 52,
   "id": "775540e4-93ff-44e1-85d8-89026d3e0bb6",
   "metadata": {},
   "outputs": [
    {
     "name": "stdout",
     "output_type": "stream",
     "text": [
      "10\n",
      "10\n",
      "20\n",
      "50\n",
      "10.5\n",
      "10.5\n",
      "이숭무\n"
     ]
    }
   ],
   "source": [
    "## 2.자료형\n",
    "## 기본자료형 : 리터널 :  자연수 : 정수 리터널 :  \n",
    "##                               실수 리터널 : \n",
    "#                       자연어 : 영어 ,중국 , 일본어, ...\n",
    "#                                문자 리터널 : \n",
    "print(10)\n",
    "i = 10  # 정수리터널을 가진 변수 i\n",
    "print(i)\n",
    "i = 20\n",
    "print(i)\n",
    "j = 30 # 정수리터널 변수\n",
    "print(i + j)\n",
    "f = 10.5 # 실수리터널 변수\n",
    "print(f)\n",
    "j = 10.5 # 실수리터널 변수\n",
    "print(j)\n",
    "j = \"이숭무\"\n",
    "print(j)"
   ]
  },
  {
   "cell_type": "code",
   "execution_count": 56,
   "id": "b1d0e858-5ac6-4362-91e7-c2aa9ec36b04",
   "metadata": {},
   "outputs": [],
   "source": [
    "#숫자 연산자\n",
    "i = 10\n",
    "j = 20\n",
    "print(i + j)\n",
    "print(i - j)\n",
    "print(i * j)\n",
    "print(i / j)\n",
    "print(i % j) # 나머지 연산자\n",
    "print(10 // 3) # 몫\n",
    "print(10 ** 3) # 제곱승"
   ]
  },
  {
   "cell_type": "code",
   "execution_count": 66,
   "id": "517e1a17-cb43-4f87-ba27-18db61d4b36d",
   "metadata": {},
   "outputs": [
    {
     "name": "stdout",
     "output_type": "stream",
     "text": [
      "rhee\n",
      "rhee\n",
      "20\n",
      "1010\n",
      "이숭무이숭무이숭무\n",
      "==========================================================================================\n",
      "제목\n",
      "==========================================================================================\n"
     ]
    }
   ],
   "source": [
    "### 문자열 리터널 : 문자나 문자열이나 같이 취급한다.\n",
    "###              : \"\", ''가 있을 때 문자로 취급\n",
    "이숭무 = \"rhee\" # 문자리터널과 변수를 구별하기 위해서 문자열에 \"\"을 주기로 함\n",
    "# 10 = \"이숭무\" #숫자는 변수로 사용할 수 없다.\n",
    "i = 10\n",
    "print(이숭무)\n",
    "이숭무 = 'rhee' # 문자리터널 변수\n",
    "print(이숭무)\n",
    "str1 = 10 # 정수리터널\n",
    "str1 = \"10\" # 문자리터널\n",
    "print(10 + 10) # 정수 + 정수\n",
    "print(\"10\" + \"10\") #문자 + 문자 # 연결 연산자\n",
    "# print(\"10\" + 10) # 문자 + 정수 : 오류 : 타입이 같아야 연산을 할 수 있다.\n",
    "print(\"이숭무\" * 3) # 반복연산자.\n",
    "print(\"===\" * 30)\n",
    "print(\"제목\")\n",
    "print(\"===\" * 30)\n",
    "# 문자열 연산자는 + , * "
   ]
  },
  {
   "cell_type": "code",
   "execution_count": 78,
   "id": "15e20db4-b9c2-4cdd-87c1-3d515003db02",
   "metadata": {},
   "outputs": [
    {
     "name": "stdout",
     "output_type": "stream",
     "text": [
      "Life is too short, You need python\n",
      "Life is too short, You need python\n",
      "Life's too short, You need python\n",
      "Life's too short, You need python\n",
      "Life is too short, \"You need\" python\n",
      "Life is too short, \"You need\" python\n",
      "Life's too short, \"You need\" python\n",
      "\tLife is too short, You need python\n",
      "Life is too short, \n",
      "You need python\n"
     ]
    }
   ],
   "source": [
    "print(\"Life is too short, You need python\")\n",
    "print('Life is too short, You need python')\n",
    "print('Life\\'s too short, You need python') #escape : 탈출시키다.\n",
    "print(\"Life's too short, You need python\")\n",
    "print(\"Life is too short, \\\"You need\\\" python\")\n",
    "print('Life is too short, \"You need\" python')\n",
    "print('Life\\'s too short, \"You need\" python')\n",
    "print('\\tLife is too short, You need python')\n",
    "print('Life is too short, \\nYou need python')"
   ]
  },
  {
   "cell_type": "code",
   "execution_count": 83,
   "id": "70b7ceb4-cb90-4de6-be14-eadcffc49803",
   "metadata": {},
   "outputs": [
    {
     "name": "stdout",
     "output_type": "stream",
     "text": [
      "Life is too short, \n",
      "You need python\n",
      "Life is too short, \n",
      "You need python\n",
      "Life is too short, You need python\n"
     ]
    }
   ],
   "source": [
    "print('''Life is too short, \n",
    "You need python''')\n",
    "print(\"\"\"Life is too short, \n",
    "You need python\"\"\")\n",
    "print(\"\"\"Life is too short, You need python\"\"\")\n",
    "### 파이썬에서 문자열을 표시하는 방법은 : \"a\",'a',\"\"\"a\"\"\", '''a'''"
   ]
  },
  {
   "cell_type": "code",
   "execution_count": 87,
   "id": "e59072b1-7073-44e2-8803-2aa6fb559e0b",
   "metadata": {},
   "outputs": [
    {
     "name": "stdout",
     "output_type": "stream",
     "text": [
      "Life is too short, You need python\n",
      "34\n",
      "34\n"
     ]
    }
   ],
   "source": [
    "str1 = 'Life is too short, You need python'\n",
    "print(str1)\n",
    "print(len(str1))\n",
    "print(len('Life is too short, You need python'))"
   ]
  },
  {
   "cell_type": "code",
   "execution_count": null,
   "id": "4d891ad0-c688-4ae4-879c-d59cf67b4432",
   "metadata": {},
   "outputs": [],
   "source": [
    "#indexing\n",
    "str1 = 'Life is too short, You need python'\n",
    "#                 111       2222      3333\n",
    "#       0123456789012345678901234567890123 : index : 문자에 위치를 표시하는 고유의 번호 : 0번부터 1씩증가하는 번호\n",
    "#      -4321098765432109876543210987654321 : index\n",
    "#           3         2       111         \n",
    "print(str1[1])\n",
    "print(str1[12])\n",
    "print(str1[33])\n",
    "print(str1[len(str1) - 1]) # len(str1) - 1 : 34 - 1 = 33\n",
    "print(str1[5])\n",
    "print('Life is too short, You need python'[5])\n",
    "print(str1[0])\n",
    "print(str1[-34])\n",
    "print(str1[-len(str1)])\n",
    "print(str1[0])\n",
    "print(str1[-0])"
   ]
  },
  {
   "cell_type": "code",
   "execution_count": 104,
   "id": "537fa61b-0086-46d6-abf2-ae6b916e058a",
   "metadata": {},
   "outputs": [
    {
     "name": "stdout",
     "output_type": "stream",
     "text": [
      "Life\n"
     ]
    }
   ],
   "source": [
    "# Life를 출력\n",
    "print(str1[0]);print(str1[1]);print(str1[2]);print(str1[3]);\n",
    "print(str1[0]+str1[1]+str1[2]+str1[3])"
   ]
  },
  {
   "cell_type": "code",
   "execution_count": 109,
   "id": "ab124554-847b-41c4-87da-9ffe3e607365",
   "metadata": {},
   "outputs": [
    {
     "name": "stdout",
     "output_type": "stream",
     "text": [
      "Life\n",
      "Life\n",
      "Lif\n",
      "too s\n",
      "too s\n",
      "e is \n"
     ]
    }
   ],
   "source": [
    "# Life\n",
    "# 0123\n",
    "print(str1[0:0+4]) \n",
    "print(str1[0 : 4]) # start = 0; stop = 4 : 0부터 4전까지\n",
    "print(str1[0:3]) # start = 0; stop = 3 \n",
    "print(str1[8:8 + 5]) \n",
    "print(str1[8:13]) # 8부터 13전까지 \n",
    "idx = 3\n",
    "글자수 = 5\n",
    "print(str1[idx : idx + 글자수])"
   ]
  },
  {
   "cell_type": "code",
   "execution_count": 114,
   "id": "647cd2ba-bed4-47ca-99f7-81919258e142",
   "metadata": {},
   "outputs": [
    {
     "name": "stdout",
     "output_type": "stream",
     "text": [
      "Life is\n",
      "Life is\n",
      "Life is\n",
      "Life is\n",
      "Life is\n",
      "Life is\n"
     ]
    }
   ],
   "source": [
    "str1 = 'Life is too short, You need python'\n",
    "#                 111       2222      3333\n",
    "#       0123456789012345678901234567890123 :\n",
    "#      -4321098765432109876543210987654321 :\n",
    "#           3         2       111       \n",
    "print(str1[0 : 0 + 7])\n",
    "print(str1[-34 : 0 + 7])\n",
    "print(str1[0 : -34 + 7])\n",
    "print(str1[0 : -27])\n",
    "print(str1[-34 : -27])\n",
    "print(str1[-len(str1) : -27])"
   ]
  },
  {
   "cell_type": "code",
   "execution_count": 121,
   "id": "b03a2c89-a9f3-4db7-8035-e021cbfdb616",
   "metadata": {},
   "outputs": [
    {
     "name": "stdout",
     "output_type": "stream",
     "text": [
      "13\n",
      "20010331\n",
      "Rainy\n",
      "Rainy\n",
      "20010331\n",
      "Rainy\n",
      "2001\n",
      "2001\n",
      "03\n",
      "31\n"
     ]
    }
   ],
   "source": [
    "a = \"20010331Rainy\"\n",
    "#    0123456789012\n",
    "print(len(a))\n",
    "##### 날짜(년월일)와 이름을 분리하여 출력\n",
    "print(a[0:8])\n",
    "print(a[8:13])\n",
    "print(a[8:len(a)])\n",
    "print(a[:8]) # 처음번호(0)은 생략 가능\n",
    "print(a[8:]) # 마지막번호는 len(a)이므로 생략 가능\n",
    "# 년  월  일\n",
    "print(a[0:4])\n",
    "print(a[:4])\n",
    "print(a[4:4+2])\n",
    "print(a[6:6+2])"
   ]
  },
  {
   "cell_type": "code",
   "execution_count": 134,
   "id": "8c3ea4f3-75f0-481a-ad6b-6221a7dea947",
   "metadata": {},
   "outputs": [
    {
     "name": "stdout",
     "output_type": "stream",
     "text": [
      "Life is too short, You need python\n",
      "Life is too short, You need python\n",
      "Life is too short, You need python\n",
      "Life is too short, You need python\n",
      "Life is too short, You need python\n",
      "Lf stosot o edpto\n",
      "Lesosr ue tn\n",
      "nohtyp deen uoY ,trohs oot si efiL\n",
      "fe is too sh\n",
      "f stos\n",
      "hs oot si ef\n"
     ]
    }
   ],
   "source": [
    "print(str1) # Life is too short, You need python\n",
    "print(str1[0:len(str1)])\n",
    "print(str1[:len(str1)])\n",
    "print(str1[0:])\n",
    "print(str1[:])\n",
    "print(str1[::2]) # 한칸씩 \n",
    "print(str1[::3]) # 두칸씩\n",
    "print(str1[::-1]) # 꺼꾸로\n",
    "# 2번부터 13까지 출력\n",
    "print(str1[2:14])\n",
    "print(str1[2:14:2])\n",
    "#print(str1[2:14:-1])\n",
    "print(str1[13:1:-1])"
   ]
  },
  {
   "cell_type": "code",
   "execution_count": 138,
   "id": "8e9ffb16-1cef-4b17-886c-c191597d738b",
   "metadata": {},
   "outputs": [
    {
     "name": "stdout",
     "output_type": "stream",
     "text": [
      "Pithon\n",
      "i\n",
      "Python\n"
     ]
    }
   ],
   "source": [
    "a = \"Pithon\"\n",
    "#    012345\n",
    "print(a)\n",
    "print(a[1])\n",
    "# a[1]= 'y' #문자열은 index를 이용해서 수정할 수 없다.\n",
    "print(a[0] + 'y' + a[2:])"
   ]
  },
  {
   "cell_type": "code",
   "execution_count": 139,
   "id": "eacaa21b-b098-4913-985f-eb9bd0503958",
   "metadata": {},
   "outputs": [
    {
     "name": "stdout",
     "output_type": "stream",
     "text": [
      "현재온도는 15도입니다\n",
      "현재온도는 30도입니다\n",
      "현재온도는 18도입니다\n"
     ]
    }
   ],
   "source": [
    "# 포매팅이란?\n",
    "print(\"현재온도는 15도입니다\")\n",
    "print(\"현재온도는 30도입니다\")\n",
    "print(\"현재온도는 18도입니다\")"
   ]
  },
  {
   "cell_type": "code",
   "execution_count": 146,
   "id": "681fafbb-5f0b-41bf-96a4-454da3c82cbb",
   "metadata": {},
   "outputs": [
    {
     "name": "stdout",
     "output_type": "stream",
     "text": [
      "현재온도는 15도입니다\n",
      "I eat 5 apples\n",
      "I eat 5 apples\n",
      "I eat five apples\n",
      "I eat five apples\n",
      "I eat 0.500000 apples\n"
     ]
    }
   ],
   "source": [
    "# 포맷문자열을 이용한 포맷팅 : %d, %s, %f, %c\n",
    "a = 15\n",
    "print(\"현재온도는 %d도입니다\" % a)\n",
    "b = 5 # 정수리터널\n",
    "print(\"I eat %d apples\" % b)\n",
    "print(\"I eat %d apples\" % 5)\n",
    "print(\"I eat %s apples\" % 'five')\n",
    "str2 = 'five'\n",
    "print(\"I eat %s apples\" % str2)\n",
    "f = 0.5\n",
    "print(\"I eat %f apples\" % f)"
   ]
  },
  {
   "cell_type": "code",
   "execution_count": 149,
   "id": "1382a656-ca48-4f4b-8f35-25f850418d2b",
   "metadata": {},
   "outputs": [
    {
     "name": "stdout",
     "output_type": "stream",
     "text": [
      "나의 이름은 이숭무이고 나이는 30살입니다.\n",
      "I eat 0.500000 apples\n"
     ]
    }
   ],
   "source": [
    "'나의 이름은 이숭무이고 나이는 20살입니다.'\n",
    "name = '이숭무'\n",
    "age = 30\n",
    "print('나의 이름은 %s이고 나이는 %d살입니다.' % (name, age)) # 변수가 두개 이상인 경우에는 ()를 해주자.\n",
    "print(\"I eat %f apples\" % (f))"
   ]
  },
  {
   "cell_type": "code",
   "execution_count": 151,
   "id": "88916a61-3ff0-4125-913f-044222d47282",
   "metadata": {},
   "outputs": [
    {
     "name": "stdout",
     "output_type": "stream",
     "text": [
      "이숭무의 계좌번호는 1111이고 잔액은 100원입니다.\n",
      "이숭무의 계좌번호는 1111이고 잔액은 100원입니다.\n"
     ]
    }
   ],
   "source": [
    "'이숭무의 계좌번호는 1111이고 잔액은 100원입니다.'\n",
    "name = '이숭무'\n",
    "account = '1111'\n",
    "money = 100\n",
    "print('%s의 계좌번호는 %s이고 잔액은 %d원입니다.' % (name, account, money))\n",
    "str3 = '%s의 계좌번호는 %s이고 잔액은 %d원입니다.' % (name, account, money)\n",
    "print(str3)"
   ]
  },
  {
   "cell_type": "code",
   "execution_count": 163,
   "id": "f26131be-82bb-44f5-a2be-6682de381f53",
   "metadata": {},
   "outputs": [
    {
     "name": "stdout",
     "output_type": "stream",
     "text": [
      "이숭무의 나이는 20살이고 키는 173.500000입니다.\n",
      "이숭무의 나이는 20살이고 키는 173.5입니다.\n",
      "이숭무의 나이는 20살이고 키는 173.5입니다.\n",
      "이숭무의 나이는 20살이고 키는 173.5입니다.\n",
      "이숭무의 나이는 20살이고 키는 173.5000000000입니다.\n",
      "이숭무의 나이는 20살이고 키는 173.5입니다.\n",
      "우리반의 취업률은 98%입니다.\n"
     ]
    }
   ],
   "source": [
    "'이숭무의 나이는 20살이고 키는 173.5입니다.'\n",
    "name = '이숭무'\n",
    "age = 20\n",
    "height = 173.5\n",
    "print(\"%s의 나이는 %d살이고 키는 %f입니다.\" % (name, age, height))\n",
    "print(\"%s의 나이는 %d살이고 키는 %5.1f입니다.\" % (name, age, height))\n",
    "print(\"%s의 나이는 %d살이고 키는 %3.1f입니다.\" % (name, age, height))\n",
    "print(\"%s의 나이는 %d살이고 키는 %.1f입니다.\" % (name, age, height))\n",
    "print(\"%s의 나이는 %d살이고 키는 %.10f입니다.\" % (name, age, height))\n",
    "print(\"%s의 나이는 %s살이고 키는 %s입니다.\" % (name, age, height))\n",
    "\n",
    "result = \"우리반의 취업률은 %d%%입니다.\" % 98\n",
    "print(result)"
   ]
  },
  {
   "cell_type": "code",
   "execution_count": 169,
   "id": "49e16130-c21a-4bdc-99e0-2181e0463158",
   "metadata": {},
   "outputs": [
    {
     "name": "stdout",
     "output_type": "stream",
     "text": [
      "이숭무의 나이는 20살이고 키는 173.5입니다.\n",
      "       이숭무의 나이는         20살이고 키는      173.5입니다.\n",
      "이숭무       의 나이는         20살이고 키는 173.5     입니다.\n"
     ]
    }
   ],
   "source": [
    "#정렬과 공백 : +오른쪽 정렬 , \n",
    "print(\"%s의 나이는 %d살이고 키는 %.1f입니다.\" % (name, age, height))\n",
    "print(\"%10s의 나이는 %10d살이고 키는 %10.1f입니다.\" % (name, age, height))\n",
    "print(\"%-10s의 나이는 %10d살이고 키는 %-10.1f입니다.\" % (name, age, height))"
   ]
  },
  {
   "cell_type": "code",
   "execution_count": 176,
   "id": "febe0a30-3737-438d-9355-ed81f1788656",
   "metadata": {},
   "outputs": [
    {
     "name": "stdout",
     "output_type": "stream",
     "text": [
      "이숭무의 나이는 20살이고 키는 173.5입니다.\n",
      "이숭무의 나이는 30살이고 키는 173.5입니다.\n",
      "이숭무의 나이는 20살이고 키는 173.5입니다.\n",
      "이숭무의 나이는 20살이고 키는 173.5입니다.\n",
      "이숭무의 나이는 20살이고 이숭무의 키는 173.500000입니다\n",
      "이숭무의 나이는 20살이고 이숭무의 키는 173.5입니다\n"
     ]
    }
   ],
   "source": [
    "#format 함수를 사용한 포매팅 : format()\n",
    "print(\"%s의 나이는 %d살이고 키는 %.1f입니다.\" % (name, age, height)) # 포맷문자열\n",
    "print(\"{0}의 나이는 {1}살이고 키는 {2}입니다.\".format('이숭무', 30, 173.5))\n",
    "#                                                     0       1    2\n",
    "print(\"{0}의 나이는 {1}살이고 키는 {2}입니다.\".format(name, age, height))\n",
    "print(\"{1}의 나이는 {0}살이고 키는 {2}입니다.\".format(age,name,height))\n",
    "#                                                    0    1    2     # 순서와 상관없이 index를 원하는 곳에 준다. \n",
    "'이숭무의 나이는 20살이고 이숭무의 키는 175.6입니다'\n",
    "print('%s의 나이는 %d살이고 %s의 키는 %f입니다' % (name, age, name, height))\n",
    "print('{1}의 나이는 {0}살이고 {1}의 키는 {2}입니다'.format(age,name,height))"
   ]
  },
  {
   "cell_type": "code",
   "execution_count": 205,
   "id": "46c7850b-cc37-404c-a7a3-dc3d386a0b26",
   "metadata": {},
   "outputs": [
    {
     "name": "stdout",
     "output_type": "stream",
     "text": [
      "이숭무의 나이는 30살이고 키는 173.5입니다.\n",
      "이숭무의 나이는 20살이고 키는 173.5입니다.\n",
      "이숭무의 나이는 20살이고 키는 173.5입니다.\n"
     ]
    }
   ],
   "source": [
    "# 인자에 이름 주기\n",
    "print(\"{0}의 나이는 {1}살이고 키는 {키}입니다.\".format('이숭무', 30, 키 = 173.5))\n",
    "#                                                      0      1     2\n",
    "print(\"{0}의 나이는 {1}살이고 키는 {키}입니다.\".format(name, age, 키 = height))\n",
    "print(\"{0}의 나이는 {나이}살이고 키는 {키}입니다.\".format(name, 나이 = age, 키 = height))\n",
    "#이름을 중간에 있는 값에만 부여해 줄 수 없다. 이름은 뒤에서부터 순치적으로 줘야한다.\n",
    "#print(\"{0}의 나이는 {나이}살이고 키는 {2}입니다.\".format(name, 나이 = age, height))\n",
    "#                                                       0                 \n",
    "#중간에 이름을 빼고 부여해줄 수도 없다.\n",
    "#print(\"{이름}의 나이는 {0}살이고 키는 {키}입니다.\".format(이름 = name, age, 키 = height))"
   ]
  },
  {
   "cell_type": "code",
   "execution_count": 181,
   "id": "7cfeb8be-c264-4bbd-9c87-bdaf9b701e29",
   "metadata": {},
   "outputs": [
    {
     "name": "stdout",
     "output_type": "stream",
     "text": [
      "이숭무       의 나이는         20살이고 이숭무       의 키는      173.5입니다\n",
      "이숭무       의 나이는 20        살이고 이숭무       의 키는 173.5     입니다\n",
      "       이숭무의 나이는         20살이고        이숭무의 키는      173.5입니다\n",
      "   이숭무    의 나이는     20    살이고    이숭무    의 키는   173.5   입니다\n",
      "---이숭무----의 나이는 ****20****살이고 ===이숭무====의 키는 !!173.5!!!입니다\n"
     ]
    }
   ],
   "source": [
    "#정렬과 공백 \n",
    "print('{1:10}의 나이는 {0:10}살이고 {1:10}의 키는 {2:10}입니다'.format(age,name,height))\n",
    "# 문자는 왼쪽정렬 숫자는 오른쪽 정렬\n",
    "print('{1:<10}의 나이는 {0:<10}살이고 {1:<10}의 키는 {2:<10}입니다'.format(age,name,height))\n",
    "print('{1:>10}의 나이는 {0:>10}살이고 {1:>10}의 키는 {2:>10}입니다'.format(age,name,height))\n",
    "print('{1:^10}의 나이는 {0:^10}살이고 {1:^10}의 키는 {2:^10}입니다'.format(age,name,height))\n",
    "print('{1:-^10}의 나이는 {0:*^10}살이고 {1:=^10}의 키는 {2:!^10}입니다'.format(age,name,height))"
   ]
  },
  {
   "cell_type": "code",
   "execution_count": 187,
   "id": "aae1aa11-d765-4cbb-8bf8-8bce4b75f9db",
   "metadata": {},
   "outputs": [
    {
     "name": "stdout",
     "output_type": "stream",
     "text": [
      "{0}의 나이는 20살이고 키는 173.5입니다.\n",
      "{이숭무}의 나이는 20살이고 키는 173.5입니다.\n",
      "{이숭무}의 나이는 20살이고 키는 173.5입니다.\n"
     ]
    }
   ],
   "source": [
    "#{}호 출력하기\n",
    "#{이숭무}의 나이는 20살이고 키는 173.5입니다.\n",
    "print(\"{{0}}의 나이는 {1}살이고 키는 {2}입니다.\".format(name, age, height));\n",
    "print(\"{{이숭무}}의 나이는 {1}살이고 키는 {2}입니다.\".format(name, age, height));\n",
    "print(\"{{{0}}}의 나이는 {1}살이고 키는 {2}입니다.\".format(name, age, height));"
   ]
  },
  {
   "cell_type": "code",
   "execution_count": 190,
   "id": "83f675d6-4c40-41ff-b8d0-8c026014c723",
   "metadata": {},
   "outputs": [
    {
     "name": "stdout",
     "output_type": "stream",
     "text": [
      "이숭무의 나이는 20살이고 키는 173.5입니다.\n"
     ]
    }
   ],
   "source": [
    "#f 문자열 포매팅\n",
    "'이숭무의 나이는 20살이고 키는 173.5입니다.'\n",
    "print(f'{name}의 나이는 {age}살이고 키는 {height}입니다.')"
   ]
  },
  {
   "cell_type": "code",
   "execution_count": 192,
   "id": "79d72089-7f43-4492-938f-f45dd7ed5504",
   "metadata": {},
   "outputs": [
    {
     "name": "stdout",
     "output_type": "stream",
     "text": [
      "이숭무의 나이는 20살이고 키는 173.500000입니다.\n",
      "이숭무의 나이는 20살이고 키는 173.5입니다.\n",
      "이숭무의 나이는 20살이고 키는 173.5입니다.\n"
     ]
    }
   ],
   "source": [
    "print('%s의 나이는 %d살이고 키는 %f입니다.' % (name, age, height))\n",
    "print('{0}의 나이는 {1}살이고 키는 {2}입니다.'.format(name, age, height))\n",
    "print(f'{name}의 나이는 {age}살이고 키는 {height}입니다.')"
   ]
  },
  {
   "cell_type": "code",
   "execution_count": 210,
   "id": "8a464950-411a-46bd-89d5-f8e0f5cab726",
   "metadata": {},
   "outputs": [
    {
     "name": "stdout",
     "output_type": "stream",
     "text": [
      "이숭무       의 나이는         20살이고 키는      173.5입니다.\n",
      "이숭무       의 나이는         20살이고 키는      173.5입니다.\n",
      "이숭무       의 나이는 20        살이고 키는 173.5     입니다.\n",
      "       이숭무의 나이는         20살이고 키는      173.5입니다.\n",
      "   이숭무    의 나이는     20    살이고 키는   173.5   입니다.\n",
      "!!!!!!!이숭무의 나이는 --------20살이고 키는 =====173.5입니다.\n"
     ]
    }
   ],
   "source": [
    "#정렬과 공백 \n",
    "print(f'{name:10}의 나이는 {age:10}살이고 키는 {height:10}입니다.')\n",
    "print(f'{name:10}의 나이는 {age:10}살이고 키는 {height:10}입니다.')\n",
    "print(f'{name:<10}의 나이는 {age:<10}살이고 키는 {height:<10}입니다.')\n",
    "print(f'{name:>10}의 나이는 {age:>10}살이고 키는 {height:>10}입니다.')\n",
    "print(f'{name:^10}의 나이는 {age:^10}살이고 키는 {height:^10}입니다.')\n",
    "print(f'{name:!>10}의 나이는 {age:->10}살이고 키는 {height:=>10}입니다.')"
   ]
  },
  {
   "cell_type": "code",
   "execution_count": 222,
   "id": "37239127-1bad-488c-ac81-97e0354189bc",
   "metadata": {},
   "outputs": [
    {
     "name": "stdout",
     "output_type": "stream",
     "text": [
      " 9 * 3 = 27\n",
      "9 * 3 = 27\n",
      "9  *  3  =  27\n",
      "9 * 3 = 27\n"
     ]
    }
   ],
   "source": [
    "print(\" 9 * 3 = 27\" )\n",
    "dan = 9\n",
    "gop = 3\n",
    "print(str(dan) + \" * \" + str(gop) + \" = \" + str(dan*gop))\n",
    "print(dan , \" * \" , gop , \" = \" , dan*gop)\n",
    "# 변수명 함수명을 구분하지 않는다.\n",
    "print(f\"{dan} * {gop} = {dan * gop}\")"
   ]
  },
  {
   "cell_type": "code",
   "execution_count": 234,
   "id": "a9fcc1d9-3732-4220-815e-62abaaf56ed9",
   "metadata": {},
   "outputs": [
    {
     "name": "stdout",
     "output_type": "stream",
     "text": [
      "hobby\n",
      "5\n",
      "5\n",
      "2\n",
      "2\n",
      "3\n"
     ]
    }
   ],
   "source": [
    "# 문자열 관련 함수들 :  문자열 가공\n",
    "a = \"hobby\"\n",
    "print(a)\n",
    "#문자열의 크기\n",
    "print(len(a))\n",
    "print(len(\"hobby\"))\n",
    "# 특정문자의 갯수\n",
    "# b가 몇개 있나요?\n",
    "print(a.count(\"b\"))\n",
    "print(\"hobby\".count(\"b\"))\n",
    "str2 = \"Life is too short\"\n",
    "print(str2.count(\"o\"))"
   ]
  },
  {
   "cell_type": "code",
   "execution_count": 247,
   "id": "4fe940cc-a1a2-4856-abb5-7b96911e614d",
   "metadata": {},
   "outputs": [
    {
     "name": "stdout",
     "output_type": "stream",
     "text": [
      "too\n",
      "8\n",
      "too\n",
      "too\n",
      "ife i\n",
      "ife i\n",
      "6\n",
      "s to\n",
      "12\n",
      "12\n",
      "shor\n"
     ]
    }
   ],
   "source": [
    "# Life is too short\n",
    "#           1\n",
    "# 01234567890123456\n",
    "# too를 출력\n",
    "print(str2[8 : 8 + 3]) # str2.substr(8, 8+3)\n",
    "idx = str1.index(\"too\") # idx = str2.indexOf(\"too\")\n",
    "# too가 있는 위치의 첫번째 글자의 index를 가지고 온다.\n",
    "print(idx)\n",
    "print(str2[idx : idx + 3]) # str2.substr(idx, idx+3)\n",
    "# t부터 5글자\n",
    "idx = str1.index(\"t\") # idx = str2.indexOf(\"t\")\n",
    "print(str2[idx : idx + 3]) \n",
    "# i부터 4글자\n",
    "idx = str1.index(\"i\")\n",
    "print(str1[idx:idx+5])\n",
    "print(str1[str1.index(\"i\"):str1.index(\"i\")+5])\n",
    "# s부터 4글자\n",
    "idx = str1.index(\"s\")\n",
    "print(idx)\n",
    "print(str1[idx:idx+4])\n",
    "# 두번째 s부터 4글자\n",
    "idx = str1.index(\"s\",6 + 1)\n",
    "print(idx)\n",
    "idx = str1.index(\"s\", str1.index(\"s\") + 1)\n",
    "print(idx)\n",
    "print(str2[idx : idx + 4])"
   ]
  },
  {
   "cell_type": "code",
   "execution_count": 249,
   "id": "fa6cdb3b-2d9f-41e5-8ea8-c4ed8157a370",
   "metadata": {},
   "outputs": [
    {
     "name": "stdout",
     "output_type": "stream",
     "text": [
      "Life is too short, You need python\n",
      "thon\n"
     ]
    }
   ],
   "source": [
    "print(str1) \n",
    "# 3번째 t에서 4글자 출력\n",
    "idx = str1.index('t')\n",
    "idx = str1.index('t', idx + 1)\n",
    "idx = str1.index('t', idx + 1)\n",
    "print(str1[idx : idx + 4])\n",
    "idx = str1.index('t', str1.index('t' , str1.index('t') + 1) + 1)\n",
    "print(str1[idx : idx + 4])"
   ]
  },
  {
   "cell_type": "code",
   "execution_count": 250,
   "id": "25ef9a1a-a637-4001-82a4-b183b443800b",
   "metadata": {},
   "outputs": [
    {
     "name": "stdout",
     "output_type": "stream",
     "text": [
      "thon\n"
     ]
    }
   ],
   "source": [
    "# 마지막 't'에서 4글자\n",
    "idx = str1.rindex('t')\n",
    "print(str1[idx: idx+ 4])"
   ]
  },
  {
   "cell_type": "code",
   "execution_count": 255,
   "id": "f0ec7fe3-5e12-47a9-a53b-508e12a640ef",
   "metadata": {},
   "outputs": [
    {
     "name": "stdout",
     "output_type": "stream",
     "text": [
      "too\n",
      "too\n",
      "tho\n",
      "t, \n"
     ]
    }
   ],
   "source": [
    "#too출력\n",
    "idx = str1.index('t')\n",
    "print(str1[idx : idx + 3])\n",
    "idx = str1.find('t')\n",
    "print(str1[idx : idx + 3])\n",
    "# 마지막 3글자\n",
    "idx = str1.rfind('t')\n",
    "print(str1[idx : idx + 3])\n",
    "# 두번째 t부터 3글자\n",
    "idx = str1.find('t', str1.find('t') + 1)\n",
    "print(str1[idx : idx + 3])"
   ]
  },
  {
   "cell_type": "code",
   "execution_count": 259,
   "id": "ba38e4b0-ebfa-4643-a4b7-281cf8ebab00",
   "metadata": {},
   "outputs": [
    {
     "name": "stdout",
     "output_type": "stream",
     "text": [
      "-1\n"
     ]
    }
   ],
   "source": [
    "idx = str1.find('z')\n",
    "print(idx) # 찾는 문자가 없는 경우 -1\n",
    "# idx = str1.index('z') #없는 문자인 경우 오류"
   ]
  },
  {
   "cell_type": "code",
   "execution_count": 262,
   "id": "38f2810a-9868-4c9c-9fae-038589630aa8",
   "metadata": {},
   "outputs": [
    {
     "name": "stdout",
     "output_type": "stream",
     "text": [
      "Life is too short, You need python\n",
      "life is too short, you need python\n",
      "LIFE IS TOO SHORT, YOU NEED PYTHON\n"
     ]
    }
   ],
   "source": [
    "print(str1)\n",
    "# 문자열을 모두 소문자로 출력\n",
    "print(str1.lower())\n",
    "# 문자열을 모두 대문자로 출력\n",
    "print(str1.upper())"
   ]
  },
  {
   "cell_type": "code",
   "execution_count": 267,
   "id": "dd43284b-c695-4587-9f8d-1f5f63fd58b5",
   "metadata": {},
   "outputs": [
    {
     "name": "stdout",
     "output_type": "stream",
     "text": [
      "highalnd0\n",
      "highalnd0     \n",
      "    highalnd0\n",
      "Life is too short\n"
     ]
    }
   ],
   "source": [
    "str2 = \"    highalnd0     \"\n",
    "print(str2.strip()) # trim()\n",
    "str2 = \"    highalnd0     \"\n",
    "print(str2.lstrip())\n",
    "str2 = \"    highalnd0     \"\n",
    "print(str2.rstrip())\n",
    "str3 = \"abLife is too shortab\";\n",
    "print(str3.strip(\"ab\"))"
   ]
  },
  {
   "cell_type": "code",
   "execution_count": 270,
   "id": "54a93672-1e27-4270-8516-efb8f76026dc",
   "metadata": {},
   "outputs": [
    {
     "name": "stdout",
     "output_type": "stream",
     "text": [
      "Your leg is too short\n",
      "['Life', 'is', 'too', 'short']\n",
      "['Life', 'is', 'too', 'short']\n"
     ]
    }
   ],
   "source": [
    "### # 문자열 대체하기\n",
    "str4 = \"Life is too short\"\n",
    "result = str4.replace(\"Life\" , \"Your leg\")\n",
    "print(result)\n",
    "# 쪼개기 : split 하면 결과 리스트\n",
    "result = str4.split()\n",
    "print(result) #리스트\n",
    "str4 = \"Life:is:too:short\"\n",
    "result = str4.split(\":\")\n",
    "print(result)"
   ]
  }
 ],
 "metadata": {
  "kernelspec": {
   "display_name": "Python 3 (ipykernel)",
   "language": "python",
   "name": "python3"
  },
  "language_info": {
   "codemirror_mode": {
    "name": "ipython",
    "version": 3
   },
   "file_extension": ".py",
   "mimetype": "text/x-python",
   "name": "python",
   "nbconvert_exporter": "python",
   "pygments_lexer": "ipython3",
   "version": "3.12.1"
  }
 },
 "nbformat": 4,
 "nbformat_minor": 5
}
